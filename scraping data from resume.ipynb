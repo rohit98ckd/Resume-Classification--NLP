{
 "cells": [
  {
   "cell_type": "code",
   "execution_count": 1,
   "id": "3215ea14",
   "metadata": {},
   "outputs": [],
   "source": [
    "import pandas as pd\n",
    "import os\n",
    "import docx2txt"
   ]
  },
  {
   "cell_type": "markdown",
   "id": "15132d8b",
   "metadata": {},
   "source": [
    "## Resume Folder"
   ]
  },
  {
   "cell_type": "code",
   "execution_count": 2,
   "id": "b0c14d2a",
   "metadata": {},
   "outputs": [],
   "source": [
    "path = \"D:\\EXCELR\\Resume Classification NLP project\\Resumes\""
   ]
  },
  {
   "cell_type": "markdown",
   "id": "2719aa96",
   "metadata": {},
   "source": [
    "######  Scaning the directory"
   ]
  },
  {
   "cell_type": "code",
   "execution_count": 3,
   "id": "b6ec737f",
   "metadata": {},
   "outputs": [
    {
     "data": {
      "text/plain": [
       "<nt.ScandirIterator at 0x1e8c03ad760>"
      ]
     },
     "execution_count": 3,
     "metadata": {},
     "output_type": "execute_result"
    }
   ],
   "source": [
    "os.scandir(path)"
   ]
  },
  {
   "cell_type": "code",
   "execution_count": 4,
   "id": "68c84f80",
   "metadata": {},
   "outputs": [
    {
     "data": {
      "text/plain": [
       "'C:\\\\Users\\\\Dell\\\\EXCELR\\\\Resume Classification NLP Project'"
      ]
     },
     "execution_count": 4,
     "metadata": {},
     "output_type": "execute_result"
    }
   ],
   "source": [
    "os.getcwd()"
   ]
  },
  {
   "cell_type": "markdown",
   "id": "f5e60c54",
   "metadata": {},
   "source": [
    "###### changing the directory"
   ]
  },
  {
   "cell_type": "code",
   "execution_count": 5,
   "id": "5378cb78",
   "metadata": {},
   "outputs": [],
   "source": [
    "os.chdir(path)"
   ]
  },
  {
   "cell_type": "markdown",
   "id": "f1d0aa60",
   "metadata": {},
   "source": [
    "###### Curent directory"
   ]
  },
  {
   "cell_type": "code",
   "execution_count": 6,
   "id": "c27b650d",
   "metadata": {},
   "outputs": [
    {
     "data": {
      "text/plain": [
       "'D:\\\\EXCELR\\\\Resume Classification NLP project\\\\Resumes'"
      ]
     },
     "execution_count": 6,
     "metadata": {},
     "output_type": "execute_result"
    }
   ],
   "source": [
    "os.getcwd()"
   ]
  },
  {
   "cell_type": "markdown",
   "id": "fa942c7a",
   "metadata": {},
   "source": [
    "######  LIst of files in the current directory"
   ]
  },
  {
   "cell_type": "code",
   "execution_count": 7,
   "id": "097d1999",
   "metadata": {},
   "outputs": [
    {
     "data": {
      "text/plain": [
       "['Internship_Ravali_Musquare Technologies (1).docx',\n",
       " 'Internship_Susovan Bag_Musquare Technologies.docx',\n",
       " 'Peoplesoft resumes',\n",
       " 'React Developer_Deepakreddy.docx',\n",
       " 'React Developer_Haripriya.docx',\n",
       " 'React Developer_Kamalakar Reddy.docx',\n",
       " 'React Developer_Naveen sadhu.docx',\n",
       " 'React Developer_PavasGoswami.doc',\n",
       " 'React Developer_Pragnya.docx',\n",
       " 'React Developer_Sarala Madasu-converted.docx',\n",
       " 'React Developer_Thirupathiamma.docx',\n",
       " 'React Developer_Vinay Reddy.doc',\n",
       " 'React Dev_Krishna Kanth.docx',\n",
       " 'React Dev_Krishna Kanth_Musquare Technologies.docx',\n",
       " 'React JS Developer_AnjaniPriyadarshini.doc',\n",
       " 'React JS Developer_KotaniDurgaprasad[3_1] (1)-converted.docx',\n",
       " 'React JS Developer_Venkatalakshmi (1)-converted.docx',\n",
       " 'Reactjs Developer_kambala sai surendra_Musquare Technologies.docx',\n",
       " 'Reactjs Developer_M Lokesh Babu_Musquare Technologies.docx',\n",
       " 'Reactjs Developer_M Lokesh.docx',\n",
       " 'Reactjs Developer_MD Khizaruddin Rauf _Musquare Technologies.docx',\n",
       " 'Reactjs Developer_Prabakaran_Musquare Technologies.pdf',\n",
       " 'Reactjs Developer_Pranish Sonone_Musquare Technologies.docx',\n",
       " 'Reactjs Developer_Ranga Gaganam_Musquare Technologies.docx',\n",
       " 'Reactjs Developer_Shaik Abdul Sharuk_Musquare Technologies.docx',\n",
       " 'SQL Developer Lightning insight',\n",
       " 'workday resumes']"
      ]
     },
     "execution_count": 7,
     "metadata": {},
     "output_type": "execute_result"
    }
   ],
   "source": [
    "os.listdir()"
   ]
  },
  {
   "cell_type": "markdown",
   "id": "7793677d",
   "metadata": {},
   "source": [
    "###### Changing the directory to 'Peoplesoft resumes' folder"
   ]
  },
  {
   "cell_type": "code",
   "execution_count": 8,
   "id": "4e85d618",
   "metadata": {},
   "outputs": [],
   "source": [
    "os.chdir('Peoplesoft resumes')"
   ]
  },
  {
   "cell_type": "code",
   "execution_count": 9,
   "id": "7f231567",
   "metadata": {},
   "outputs": [
    {
     "data": {
      "text/plain": [
       "'D:\\\\EXCELR\\\\Resume Classification NLP project\\\\Resumes\\\\Peoplesoft resumes'"
      ]
     },
     "execution_count": 9,
     "metadata": {},
     "output_type": "execute_result"
    }
   ],
   "source": [
    "os.getcwd()"
   ]
  },
  {
   "cell_type": "markdown",
   "id": "f62a0b65",
   "metadata": {},
   "source": [
    "### Peoplesoft forlder"
   ]
  },
  {
   "cell_type": "code",
   "execution_count": 10,
   "id": "e52b817b",
   "metadata": {},
   "outputs": [
    {
     "data": {
      "text/plain": [
       "['Peoplesoft Admin_AnubhavSingh.docx',\n",
       " 'Peoplesoft Admin_G Ananda Rayudu.doc',\n",
       " 'Peoplesoft Admin_Gangareddy.doc',\n",
       " 'Peoplesoft Admin_Murali.docx',\n",
       " 'Peoplesoft Admin_Priyanka Ramadoss.doc',\n",
       " 'Peoplesoft Admin_SirazuddinMohammad.docx',\n",
       " 'Peoplesoft Admin_srinivasarao.doc',\n",
       " 'Peoplesoft Admin_Varkala Vikas.docx',\n",
       " 'Peoplesoft Admin_Vinod Akkala.doc',\n",
       " 'PeopleSoft DBA_Ganesh Alladi.doc',\n",
       " 'PeopleSoft DBA_Vivekanand Sayana.docx',\n",
       " 'Peoplesoft Finance_Arun Venu.doc',\n",
       " 'Peoplesoft Finance_Pritam Biswas.doc',\n",
       " 'Peoplesoft Finance_Rahul Ahuja.doc',\n",
       " 'Peoplesoft FSCM_HariNarayana.docx',\n",
       " 'Peoplesoft FSCM_Murali.docx',\n",
       " 'Peoplesoft FSCM_PriyabrataHota.docx',\n",
       " 'Peoplesoft FSCM_R Ahmed.doc',\n",
       " 'Peoplesoft FSCM_SUJATHA.docx',\n",
       " 'Resume_Subha Santosh_Peoplesoft FSCM.docx',\n",
       " '~$oplesoft Admin_G Ananda Rayudu.doc']"
      ]
     },
     "execution_count": 10,
     "metadata": {},
     "output_type": "execute_result"
    }
   ],
   "source": [
    "os.listdir()"
   ]
  },
  {
   "cell_type": "code",
   "execution_count": 11,
   "id": "bbb87a93",
   "metadata": {},
   "outputs": [
    {
     "data": {
      "text/plain": [
       "21"
      ]
     },
     "execution_count": 11,
     "metadata": {},
     "output_type": "execute_result"
    }
   ],
   "source": [
    "len(os.listdir())"
   ]
  },
  {
   "cell_type": "code",
   "execution_count": 12,
   "id": "95894bf3",
   "metadata": {},
   "outputs": [
    {
     "name": "stdout",
     "output_type": "stream",
     "text": [
      "Peoplesoft Admin_AnubhavSingh.docx\n",
      "Peoplesoft Admin_Murali.docx\n",
      "Peoplesoft Admin_SirazuddinMohammad.docx\n",
      "Peoplesoft Admin_Varkala Vikas.docx\n",
      "PeopleSoft DBA_Vivekanand Sayana.docx\n",
      "Peoplesoft FSCM_HariNarayana.docx\n",
      "Peoplesoft FSCM_Murali.docx\n",
      "Peoplesoft FSCM_PriyabrataHota.docx\n",
      "Peoplesoft FSCM_SUJATHA.docx\n",
      "Resume_Subha Santosh_Peoplesoft FSCM.docx\n"
     ]
    }
   ],
   "source": [
    "for file in os.listdir():\n",
    "    if file.endswith(\".docx\"):\n",
    "        print(file)"
   ]
  },
  {
   "cell_type": "code",
   "execution_count": 13,
   "id": "c770c834",
   "metadata": {},
   "outputs": [
    {
     "name": "stdout",
     "output_type": "stream",
     "text": [
      "Peoplesoft Admin_G Ananda Rayudu.doc\n",
      "Peoplesoft Admin_Gangareddy.doc\n",
      "Peoplesoft Admin_Priyanka Ramadoss.doc\n",
      "Peoplesoft Admin_srinivasarao.doc\n",
      "Peoplesoft Admin_Vinod Akkala.doc\n",
      "PeopleSoft DBA_Ganesh Alladi.doc\n",
      "Peoplesoft Finance_Arun Venu.doc\n",
      "Peoplesoft Finance_Pritam Biswas.doc\n",
      "Peoplesoft Finance_Rahul Ahuja.doc\n",
      "Peoplesoft FSCM_R Ahmed.doc\n"
     ]
    }
   ],
   "source": [
    "for file in os.listdir()[:20]:\n",
    "    if file.endswith(\".doc\"):\n",
    "        print(file)"
   ]
  },
  {
   "cell_type": "markdown",
   "id": "52a1561a",
   "metadata": {},
   "source": [
    "#### Reading the .docx extention files"
   ]
  },
  {
   "cell_type": "code",
   "execution_count": 14,
   "id": "6680c453",
   "metadata": {},
   "outputs": [
    {
     "data": {
      "text/plain": [
       "['Anubhav Kumar Singh  ',\n",
       " '',\n",
       " '',\n",
       " '',\n",
       " 'Core Competencies:',\n",
       " '',\n",
       " '',\n",
       " '',\n",
       " 'Scripting  : Shell Scripting',\n",
       " '',\n",
       " '',\n",
       " '',\n",
       " 'Application  : PeopleSoft HCM, FINANCIALS',\n",
       " '',\n",
       " '',\n",
       " '',\n",
       " 'Operating System : Linux ,Windows',\n",
       " '',\n",
       " '',\n",
       " '',\n",
       " 'Web/App Servers : Weblogic, Tuxedo',\n",
       " '',\n",
       " '',\n",
       " '',\n",
       " 'RDBMS  : Oracle',\n",
       " '',\n",
       " '',\n",
       " '',\n",
       " 'Repository   : Github',\n",
       " '',\n",
       " '',\n",
       " '',\n",
       " 'Core Competencies:',\n",
       " '',\n",
       " '',\n",
       " '',\n",
       " 'Scripting  : Shell Scripting',\n",
       " '',\n",
       " '',\n",
       " '',\n",
       " 'Application  : PeopleSoft HCM, FINANCIALS',\n",
       " '',\n",
       " '',\n",
       " '',\n",
       " 'Operating System : Linux ,Windows',\n",
       " '',\n",
       " '',\n",
       " '',\n",
       " 'Web/App Servers : Weblogic, Tuxedo',\n",
       " '',\n",
       " '',\n",
       " '',\n",
       " 'RDBMS  : Oracle',\n",
       " '',\n",
       " '',\n",
       " '',\n",
       " 'Repository   : Github',\n",
       " '',\n",
       " '',\n",
       " '',\n",
       " '  To work in a globally competitive environment on ',\n",
       " '',\n",
       " '  challenging assignments that shall yield the ',\n",
       " '',\n",
       " '  twin benefits of the job satisfaction and a steady-paced ',\n",
       " '',\n",
       " '  professional growth.',\n",
       " '',\n",
       " '',\n",
       " '',\n",
       " '',\n",
       " '',\n",
       " '',\n",
       " '',\n",
       " '',\n",
       " '',\n",
       " '',\n",
       " '',\n",
       " '',\n",
       " '',\n",
       " ' ',\n",
       " '',\n",
       " '',\n",
       " '',\n",
       " '',\n",
       " '',\n",
       " ' ',\n",
       " '',\n",
       " '',\n",
       " '',\n",
       " '',\n",
       " '',\n",
       " ' Professional Experience',\n",
       " '',\n",
       " '',\n",
       " '',\n",
       " ' 06/2019 - Current HCL          ',\n",
       " '',\n",
       " '   Current Role: System Admin Offshore',\n",
       " '',\n",
       " '   Skills : Shell Scripting, Linux , PeopleSoft Administration , Github',\n",
       " '',\n",
       " '',\n",
       " '',\n",
       " 'Managing PeopleSoft HCM and PeopleSoft FSCM production environments along with support environments installed on Linux and Windows OS.',\n",
       " '',\n",
       " 'Involved in Day to Day activities such as Project Migration, Database Refresh, System admin changes, Tax updates etc.',\n",
       " '',\n",
       " 'Troubleshooting of various servers like application servers, Web Servers, Process Scheduler Servers.',\n",
       " '',\n",
       " 'Applying Tuxedo and WebLogic Middleware CPU patches for various applications.',\n",
       " '',\n",
       " 'Working on shell scripting used as integration method for exchange of files to external systems',\n",
       " '',\n",
       " 'Installation and troubleshooting of 2-tier setup as per requirement.',\n",
       " '',\n",
       " 'Reviewing Vulnerabilities reported by Security Teams.',\n",
       " '',\n",
       " 'Renewal of SSL in Weblogic.',\n",
       " '',\n",
       " 'Vulnerability remediation whenever a vulnerability is report by RMIS team.',\n",
       " '',\n",
       " 'Worked on PUM (PeopleSoft Update Manager) and installation through DPK.',\n",
       " '',\n",
       " 'Working Knowledge of Ansible and Docker.',\n",
       " '',\n",
       " 'Developing new Shell scripts and troubleshooting Shell Script failures.',\n",
       " '',\n",
       " '',\n",
       " '',\n",
       " '',\n",
       " '',\n",
       " ' 07/2017- 06/2019 TechMahindra         ',\n",
       " '',\n",
       " '   Role/Project: Application Support through Automation/Devops Tools and PeopleSoft Admin',\n",
       " '',\n",
       " '   Skills : Shell Scripting, Linux , PeopleSoft Administration, Jenkins, Ansible',\n",
       " '',\n",
       " '   ',\n",
       " '',\n",
       " '   Project 1: People Tools 8.55 Upgrade & HCM 9.2 Application Upgrade',\n",
       " '',\n",
       " '   Project 2: Migration of Applications from NTT Cloud and On-premises to AWS Cloud',\n",
       " '',\n",
       " '',\n",
       " '',\n",
       " 'Worked on shell scripting for various application requirement.',\n",
       " '',\n",
       " 'Working on Ansible and Jenkins to automated start/stop and various activities of application.',\n",
       " '',\n",
       " 'Basic knowledge of Docker.',\n",
       " '',\n",
       " 'Applying SSL certificates on new released applications.',\n",
       " '',\n",
       " 'Worked on Elastic Search Configuration in PeopleSoft.',\n",
       " '',\n",
       " 'Gained knowledge in AWS Resources..',\n",
       " '',\n",
       " 'Strong understanding of Unix architecture/Command and trouble shooting in Unix/Linux platform.',\n",
       " '',\n",
       " 'Efficient in using Configuration Management & Deployment Tool like Ansible.',\n",
       " '',\n",
       " 'Good experience in job scheduling via crontab and IBM Tivoli Workload Scheduler (TWS).',\n",
       " '',\n",
       " 'Having good knowledge in automation using shell scripting ',\n",
       " '',\n",
       " 'Continuous integration management using Jenkins, installing and configuring Jenkins.',\n",
       " '',\n",
       " 'Responsible for writing Ansible playbook to perform various task',\n",
       " '',\n",
       " 'Managed administration tasks installation, configuration, applications, troubleshooting, and performance related issue.',\n",
       " '',\n",
       " 'Applying Tuxedo and WebLogic CPU patches for various applications.',\n",
       " '',\n",
       " 'Working on Vulnerabilities reported by Security Teams.',\n",
       " '',\n",
       " 'Reviewing the platform certification information of products, platforms, database servers, web and application servers, browsers, and other products for PeopleTools 8.55.',\n",
       " '',\n",
       " 'Server Migration to AWS (Amazon Web Service).',\n",
       " '',\n",
       " 'Installation of PeopleSoft server components Application Servers, Process Scheduler Servers, Tuxedo, Web logic Servers for New release PeopleTools on Unix/Linux Servers.',\n",
       " '',\n",
       " 'Applying latest patch to PeopleTools.',\n",
       " '',\n",
       " 'Installing and configuring Change assistant for various upgrade passes.',\n",
       " '',\n",
       " 'Creating and running PeopleTools Upgrade Job for PeopleTools 8.55 Upgrade.',\n",
       " '',\n",
       " 'Setting up Performance monitor.',\n",
       " '',\n",
       " 'Creating new app, web and process scheduler domains post upgrade on new Linux severs.',\n",
       " '',\n",
       " 'Troubleshooting common Domain boot problems.',\n",
       " '',\n",
       " 'Identifying and configuring source and target databases in CA for HCM 9.2 application upgrade.',\n",
       " '',\n",
       " 'Working with HCM PUM Images.',\n",
       " '',\n",
       " 'Creating Change packages using PUM and applying to Source/Target databases as per requirement.',\n",
       " '',\n",
       " 'Creating application upgrade job using change assistant.',\n",
       " '',\n",
       " '',\n",
       " '',\n",
       " '',\n",
       " '',\n",
       " ' 09/2015 - 07/2017 SRDT Pvt Ltd. (SRM GROUP)',\n",
       " '',\n",
       " '   Role/Project: PeopleSoft application and Database Admin',\n",
       " '',\n",
       " '   Skills : PeopleSoft Administration, Weblogic, Tuxedo, App designer, PUM, PeopleTools      Upgrade, PeopleSoft Campus Application Upgrade.   ',\n",
       " '',\n",
       " '',\n",
       " '',\n",
       " 'Maintaining 7 Production Environments with 21 supporting environments installed on Windows server 2008 R2 and Oracle 11g.',\n",
       " '',\n",
       " 'Possess through knowledge and experience in PeopleSoft architecture, administering PeopleSoft server components Application Servers, Process Scheduler Servers, Tuxedo, Web logic Servers, PIA (PeopleSoft Internet Architecture), Integration Broker, Report Nodes, application issues and technical issues.',\n",
       " '',\n",
       " 'PeopleSoft Skills with experience in Migrations & Production support of PS Applications',\n",
       " '',\n",
       " 'Exposure in applying PeopleSoft Bundle Updates through Change Assistant.',\n",
       " '',\n",
       " 'Exposure in working on both Windows & UNIX/Linux Environments with Oracle database.',\n",
       " '',\n",
       " 'Working knowledge of integration broker.',\n",
       " '',\n",
       " 'Refreshed Testing, DEV and Pre-PROD from PROD environments.',\n",
       " '',\n",
       " 'Experience in Troubleshooting of various servers like application servers, Web Servers, Process Scheduler Servers.',\n",
       " '',\n",
       " 'Experienced in providing 24/7 support on production and development environments.',\n",
       " '',\n",
       " 'Installation of Database Servers, Web servers and Application Server and PeopleSoft Application (HRMS 9.2,FSCM9.2, CS9.0, CS 9.2,HRMS 9.2) and People Tool (8.53,8.54, 8.55)',\n",
       " '',\n",
       " 'Installed and Configured SES (Secure Enterprise Search) for HRMS Instance.',\n",
       " '',\n",
       " 'Experience in Installing Oracle Policy Automation, Oracle Policy Modelling and creating OPA Database in existing database (Oracle)',\n",
       " '',\n",
       " 'Implemented Single Sign On between PeopleSoft Applications.',\n",
       " '',\n",
       " 'Implemented PeopleSoft Interaction Hub to integrate external content and information with PeopleSoft applications.',\n",
       " '',\n",
       " 'Upgraded People Tool 8.53 to 8.54 for Campus 9.0Production Environment.',\n",
       " '',\n",
       " 'Upgraded People Tool 8.53 to 8.55 for Finance 9.2 Testing Environment.',\n",
       " '',\n",
       " 'Upgraded application CS 9.0 to 9.2.',\n",
       " '',\n",
       " 'Configured PUM (PeopleSoft Update Manager) for every new Image.',\n",
       " '',\n",
       " 'Applying Tax Updates, BUGS and Tailored Change Packages through PUM.',\n",
       " '',\n",
       " 'Upgraded Oracle Database 11.2.0.1 to 11.2.0.4 using DBUA. ',\n",
       " '',\n",
       " 'Created Instances on People Tools 8.55 to provide Testing environments.',\n",
       " '',\n",
       " 'Prepared Upgrade Status reports and sheets.',\n",
       " '',\n",
       " 'Co-ordinated and provided support for offshore projects.',\n",
       " '',\n",
       " 'Imported Self Signed Certificate into WebLogic to provide secure port access of Instances.',\n",
       " '',\n",
       " 'Set up of Terminal Server to provide a Central access of People Tools for Technical/Developers.',\n",
       " '',\n",
       " 'Created tickets to development team and followed up with them to get the resolution for any error occurred. ',\n",
       " '',\n",
       " '',\n",
       " '',\n",
       " '',\n",
       " '',\n",
       " '   Projects:',\n",
       " '',\n",
       " '',\n",
       " '',\n",
       " '  Client: DRDO',\n",
       " '',\n",
       " '  Project: Single Sign On',\n",
       " '',\n",
       " '  Role: PeopleSoft Admin',\n",
       " '',\n",
       " '  Environment: People Tool 8.50, HRMS 9.1, FSCM 9.1',\n",
       " '',\n",
       " '',\n",
       " '',\n",
       " '  Description:',\n",
       " '',\n",
       " '  Single sign-on (SSO) is a property of access control of multiple related, but independent software    systems. With this property a user logs in with a single ID and password to gain access to a    connected system or systems without using different usernames or passwords.',\n",
       " '',\n",
       " '',\n",
       " '',\n",
       " '',\n",
       " '',\n",
       " '  Client: NetApp',\n",
       " '',\n",
       " '  Project: Support and Maintenance',\n",
       " '',\n",
       " '  Role: PeopleSoft Admin/L2 Support',\n",
       " '',\n",
       " '  Environment: PeopleTool 8.49, HRMS 8.9',\n",
       " '',\n",
       " '',\n",
       " '',\n",
       " '  Description:',\n",
       " '',\n",
       " '  Handled IB related issue.',\n",
       " '',\n",
       " '  Clear process scheduler cache as per weekly maintenance process.',\n",
       " '',\n",
       " '  Handled PSADMIN related activities.',\n",
       " '',\n",
       " '',\n",
       " '',\n",
       " '',\n",
       " '',\n",
       " ' 11/2013 - 05/2015 ACS                                                                                                                           ',\n",
       " '',\n",
       " '',\n",
       " '',\n",
       " ' Personal Details',\n",
       " '',\n",
       " '',\n",
       " '',\n",
       " '',\n",
       " '',\n",
       " 'Father’s name',\n",
       " '',\n",
       " 'Rajeev Kumar Singh',\n",
       " '',\n",
       " 'Date of Birth',\n",
       " '',\n",
       " '11/09/1990',\n",
       " '',\n",
       " 'Sex',\n",
       " '',\n",
       " 'Male',\n",
       " '',\n",
       " 'Language (Read And Write)',\n",
       " '',\n",
       " 'Hindi, English',\n",
       " '',\n",
       " 'Ready to relocate',\n",
       " '',\n",
       " 'Yes',\n",
       " '',\n",
       " 'Education',\n",
       " '',\n",
       " 'B.Tech in Electrical & Electronic Engineering 2012']"
      ]
     },
     "execution_count": 14,
     "metadata": {},
     "output_type": "execute_result"
    }
   ],
   "source": [
    "docx2txt.process(os.listdir()[0]).replace(\"\\t\",\" \").split(\"\\n\")"
   ]
  },
  {
   "cell_type": "code",
   "execution_count": 15,
   "id": "9cd1d21a",
   "metadata": {},
   "outputs": [],
   "source": [
    " def extract_text_from_docx(doc_path):\n",
    "    temp = docx2txt.process(doc_path)\n",
    "    text = [line.replace('\\t', ' ') for line in temp.split('\\n') if line]\n",
    "    return ' '.join(text)"
   ]
  },
  {
   "cell_type": "code",
   "execution_count": 16,
   "id": "7663b17d",
   "metadata": {},
   "outputs": [
    {
     "data": {
      "text/plain": [
       "'Anubhav Kumar Singh   Core Competencies: Scripting  : Shell Scripting Application  : PeopleSoft HCM, FINANCIALS Operating System : Linux ,Windows Web/App Servers : Weblogic, Tuxedo RDBMS  : Oracle Repository   : Github Core Competencies: Scripting  : Shell Scripting Application  : PeopleSoft HCM, FINANCIALS Operating System : Linux ,Windows Web/App Servers : Weblogic, Tuxedo RDBMS  : Oracle Repository   : Github   To work in a globally competitive environment on    challenging assignments that shall yield the    twin benefits of the job satisfaction and a steady-paced    professional growth.      Professional Experience  06/2019 - Current HCL              Current Role: System Admin Offshore    Skills : Shell Scripting, Linux , PeopleSoft Administration , Github Managing PeopleSoft HCM and PeopleSoft FSCM production environments along with support environments installed on Linux and Windows OS. Involved in Day to Day activities such as Project Migration, Database Refresh, System admin changes, Tax updates etc. Troubleshooting of various servers like application servers, Web Servers, Process Scheduler Servers. Applying Tuxedo and WebLogic Middleware CPU patches for various applications. Working on shell scripting used as integration method for exchange of files to external systems Installation and troubleshooting of 2-tier setup as per requirement. Reviewing Vulnerabilities reported by Security Teams. Renewal of SSL in Weblogic. Vulnerability remediation whenever a vulnerability is report by RMIS team. Worked on PUM (PeopleSoft Update Manager) and installation through DPK. Working Knowledge of Ansible and Docker. Developing new Shell scripts and troubleshooting Shell Script failures.  07/2017- 06/2019 TechMahindra             Role/Project: Application Support through Automation/Devops Tools and PeopleSoft Admin    Skills : Shell Scripting, Linux , PeopleSoft Administration, Jenkins, Ansible        Project 1: People Tools 8.55 Upgrade & HCM 9.2 Application Upgrade    Project 2: Migration of Applications from NTT Cloud and On-premises to AWS Cloud Worked on shell scripting for various application requirement. Working on Ansible and Jenkins to automated start/stop and various activities of application. Basic knowledge of Docker. Applying SSL certificates on new released applications. Worked on Elastic Search Configuration in PeopleSoft. Gained knowledge in AWS Resources.. Strong understanding of Unix architecture/Command and trouble shooting in Unix/Linux platform. Efficient in using Configuration Management & Deployment Tool like Ansible. Good experience in job scheduling via crontab and IBM Tivoli Workload Scheduler (TWS). Having good knowledge in automation using shell scripting  Continuous integration management using Jenkins, installing and configuring Jenkins. Responsible for writing Ansible playbook to perform various task Managed administration tasks installation, configuration, applications, troubleshooting, and performance related issue. Applying Tuxedo and WebLogic CPU patches for various applications. Working on Vulnerabilities reported by Security Teams. Reviewing the platform certification information of products, platforms, database servers, web and application servers, browsers, and other products for PeopleTools 8.55. Server Migration to AWS (Amazon Web Service). Installation of PeopleSoft server components Application Servers, Process Scheduler Servers, Tuxedo, Web logic Servers for New release PeopleTools on Unix/Linux Servers. Applying latest patch to PeopleTools. Installing and configuring Change assistant for various upgrade passes. Creating and running PeopleTools Upgrade Job for PeopleTools 8.55 Upgrade. Setting up Performance monitor. Creating new app, web and process scheduler domains post upgrade on new Linux severs. Troubleshooting common Domain boot problems. Identifying and configuring source and target databases in CA for HCM 9.2 application upgrade. Working with HCM PUM Images. Creating Change packages using PUM and applying to Source/Target databases as per requirement. Creating application upgrade job using change assistant.  09/2015 - 07/2017 SRDT Pvt Ltd. (SRM GROUP)    Role/Project: PeopleSoft application and Database Admin    Skills : PeopleSoft Administration, Weblogic, Tuxedo, App designer, PUM, PeopleTools      Upgrade, PeopleSoft Campus Application Upgrade.    Maintaining 7 Production Environments with 21 supporting environments installed on Windows server 2008 R2 and Oracle 11g. Possess through knowledge and experience in PeopleSoft architecture, administering PeopleSoft server components Application Servers, Process Scheduler Servers, Tuxedo, Web logic Servers, PIA (PeopleSoft Internet Architecture), Integration Broker, Report Nodes, application issues and technical issues. PeopleSoft Skills with experience in Migrations & Production support of PS Applications Exposure in applying PeopleSoft Bundle Updates through Change Assistant. Exposure in working on both Windows & UNIX/Linux Environments with Oracle database. Working knowledge of integration broker. Refreshed Testing, DEV and Pre-PROD from PROD environments. Experience in Troubleshooting of various servers like application servers, Web Servers, Process Scheduler Servers. Experienced in providing 24/7 support on production and development environments. Installation of Database Servers, Web servers and Application Server and PeopleSoft Application (HRMS 9.2,FSCM9.2, CS9.0, CS 9.2,HRMS 9.2) and People Tool (8.53,8.54, 8.55) Installed and Configured SES (Secure Enterprise Search) for HRMS Instance. Experience in Installing Oracle Policy Automation, Oracle Policy Modelling and creating OPA Database in existing database (Oracle) Implemented Single Sign On between PeopleSoft Applications. Implemented PeopleSoft Interaction Hub to integrate external content and information with PeopleSoft applications. Upgraded People Tool 8.53 to 8.54 for Campus 9.0Production Environment. Upgraded People Tool 8.53 to 8.55 for Finance 9.2 Testing Environment. Upgraded application CS 9.0 to 9.2. Configured PUM (PeopleSoft Update Manager) for every new Image. Applying Tax Updates, BUGS and Tailored Change Packages through PUM. Upgraded Oracle Database 11.2.0.1 to 11.2.0.4 using DBUA.  Created Instances on People Tools 8.55 to provide Testing environments. Prepared Upgrade Status reports and sheets. Co-ordinated and provided support for offshore projects. Imported Self Signed Certificate into WebLogic to provide secure port access of Instances. Set up of Terminal Server to provide a Central access of People Tools for Technical/Developers. Created tickets to development team and followed up with them to get the resolution for any error occurred.     Projects:   Client: DRDO   Project: Single Sign On   Role: PeopleSoft Admin   Environment: People Tool 8.50, HRMS 9.1, FSCM 9.1   Description:   Single sign-on (SSO) is a property of access control of multiple related, but independent software    systems. With this property a user logs in with a single ID and password to gain access to a    connected system or systems without using different usernames or passwords.   Client: NetApp   Project: Support and Maintenance   Role: PeopleSoft Admin/L2 Support   Environment: PeopleTool 8.49, HRMS 8.9   Description:   Handled IB related issue.   Clear process scheduler cache as per weekly maintenance process.   Handled PSADMIN related activities.  11/2013 - 05/2015 ACS                                                                                                                             Personal Details Father’s name Rajeev Kumar Singh Date of Birth 11/09/1990 Sex Male Language (Read And Write) Hindi, English Ready to relocate Yes Education B.Tech in Electrical & Electronic Engineering 2012'"
      ]
     },
     "execution_count": 16,
     "metadata": {},
     "output_type": "execute_result"
    }
   ],
   "source": [
    "extract_text_from_docx(os.listdir()[0])"
   ]
  },
  {
   "cell_type": "code",
   "execution_count": 17,
   "id": "9b1b9676",
   "metadata": {},
   "outputs": [
    {
     "data": {
      "text/plain": [
       "['Peoplesoft Admin_AnubhavSingh.docx',\n",
       " 'Peoplesoft Admin_G Ananda Rayudu.doc',\n",
       " 'Peoplesoft Admin_Gangareddy.doc',\n",
       " 'Peoplesoft Admin_Murali.docx',\n",
       " 'Peoplesoft Admin_Priyanka Ramadoss.doc',\n",
       " 'Peoplesoft Admin_SirazuddinMohammad.docx',\n",
       " 'Peoplesoft Admin_srinivasarao.doc',\n",
       " 'Peoplesoft Admin_Varkala Vikas.docx',\n",
       " 'Peoplesoft Admin_Vinod Akkala.doc',\n",
       " 'PeopleSoft DBA_Ganesh Alladi.doc',\n",
       " 'PeopleSoft DBA_Vivekanand Sayana.docx',\n",
       " 'Peoplesoft Finance_Arun Venu.doc',\n",
       " 'Peoplesoft Finance_Pritam Biswas.doc',\n",
       " 'Peoplesoft Finance_Rahul Ahuja.doc',\n",
       " 'Peoplesoft FSCM_HariNarayana.docx',\n",
       " 'Peoplesoft FSCM_Murali.docx',\n",
       " 'Peoplesoft FSCM_PriyabrataHota.docx',\n",
       " 'Peoplesoft FSCM_R Ahmed.doc',\n",
       " 'Peoplesoft FSCM_SUJATHA.docx',\n",
       " 'Resume_Subha Santosh_Peoplesoft FSCM.docx',\n",
       " '~$oplesoft Admin_G Ananda Rayudu.doc']"
      ]
     },
     "execution_count": 17,
     "metadata": {},
     "output_type": "execute_result"
    }
   ],
   "source": [
    "os.listdir()"
   ]
  },
  {
   "cell_type": "code",
   "execution_count": 18,
   "id": "94130158",
   "metadata": {},
   "outputs": [],
   "source": [
    "data_docx=[]\n",
    "for file in os.listdir():\n",
    "    if file.endswith(\".docx\"):\n",
    "        resume=extract_text_from_docx(file)\n",
    "        data_docx.append(resume)"
   ]
  },
  {
   "cell_type": "code",
   "execution_count": 19,
   "id": "99b8bdc9",
   "metadata": {},
   "outputs": [
    {
     "data": {
      "text/plain": [
       "10"
      ]
     },
     "execution_count": 19,
     "metadata": {},
     "output_type": "execute_result"
    }
   ],
   "source": [
    "len(data_docx)"
   ]
  },
  {
   "cell_type": "code",
   "execution_count": 20,
   "id": "4f20583e",
   "metadata": {},
   "outputs": [
    {
     "data": {
      "text/html": [
       "<div>\n",
       "<style scoped>\n",
       "    .dataframe tbody tr th:only-of-type {\n",
       "        vertical-align: middle;\n",
       "    }\n",
       "\n",
       "    .dataframe tbody tr th {\n",
       "        vertical-align: top;\n",
       "    }\n",
       "\n",
       "    .dataframe thead th {\n",
       "        text-align: right;\n",
       "    }\n",
       "</style>\n",
       "<table border=\"1\" class=\"dataframe\">\n",
       "  <thead>\n",
       "    <tr style=\"text-align: right;\">\n",
       "      <th></th>\n",
       "      <th>Resumes</th>\n",
       "      <th>Catagory</th>\n",
       "    </tr>\n",
       "  </thead>\n",
       "  <tbody>\n",
       "    <tr>\n",
       "      <th>0</th>\n",
       "      <td>Anubhav Kumar Singh   Core Competencies: Scrip...</td>\n",
       "      <td>Peoplesoft</td>\n",
       "    </tr>\n",
       "    <tr>\n",
       "      <th>1</th>\n",
       "      <td>Classification: Internal Classification: Inter...</td>\n",
       "      <td>Peoplesoft</td>\n",
       "    </tr>\n",
       "    <tr>\n",
       "      <th>2</th>\n",
       "      <td>SIRAZUDDIN M  Bangalore, INDIA  SIRAZUDDIN M  ...</td>\n",
       "      <td>Peoplesoft</td>\n",
       "    </tr>\n",
       "    <tr>\n",
       "      <th>3</th>\n",
       "      <td>PeopleSoft Admin VARKALA VIKAS Career Objectiv...</td>\n",
       "      <td>Peoplesoft</td>\n",
       "    </tr>\n",
       "    <tr>\n",
       "      <th>4</th>\n",
       "      <td>PeopleSoft Administration   Vivekanand Sayana ...</td>\n",
       "      <td>Peoplesoft</td>\n",
       "    </tr>\n",
       "    <tr>\n",
       "      <th>5</th>\n",
       "      <td>Hari Narayana                    PROFESSIONAL ...</td>\n",
       "      <td>Peoplesoft</td>\n",
       "    </tr>\n",
       "    <tr>\n",
       "      <th>6</th>\n",
       "      <td>Murali            PROFESSIONAL SUMMARY Having ...</td>\n",
       "      <td>Peoplesoft</td>\n",
       "    </tr>\n",
       "    <tr>\n",
       "      <th>7</th>\n",
       "      <td>Priyabrata Hota CAREER OBJECTIVE   Pursuing Pe...</td>\n",
       "      <td>Peoplesoft</td>\n",
       "    </tr>\n",
       "    <tr>\n",
       "      <th>8</th>\n",
       "      <td>Tanna Sujatha  OBJECTIVE Seeking a challenging...</td>\n",
       "      <td>Peoplesoft</td>\n",
       "    </tr>\n",
       "    <tr>\n",
       "      <th>9</th>\n",
       "      <td>C O N T A C T : Address: Manyata Tech Park, Na...</td>\n",
       "      <td>Peoplesoft</td>\n",
       "    </tr>\n",
       "  </tbody>\n",
       "</table>\n",
       "</div>"
      ],
      "text/plain": [
       "                                             Resumes    Catagory\n",
       "0  Anubhav Kumar Singh   Core Competencies: Scrip...  Peoplesoft\n",
       "1  Classification: Internal Classification: Inter...  Peoplesoft\n",
       "2  SIRAZUDDIN M  Bangalore, INDIA  SIRAZUDDIN M  ...  Peoplesoft\n",
       "3  PeopleSoft Admin VARKALA VIKAS Career Objectiv...  Peoplesoft\n",
       "4  PeopleSoft Administration   Vivekanand Sayana ...  Peoplesoft\n",
       "5  Hari Narayana                    PROFESSIONAL ...  Peoplesoft\n",
       "6  Murali            PROFESSIONAL SUMMARY Having ...  Peoplesoft\n",
       "7  Priyabrata Hota CAREER OBJECTIVE   Pursuing Pe...  Peoplesoft\n",
       "8  Tanna Sujatha  OBJECTIVE Seeking a challenging...  Peoplesoft\n",
       "9  C O N T A C T : Address: Manyata Tech Park, Na...  Peoplesoft"
      ]
     },
     "execution_count": 20,
     "metadata": {},
     "output_type": "execute_result"
    }
   ],
   "source": [
    "df1=pd.DataFrame(data_docx,columns=[\"Resumes\"])  \n",
    "df1[\"Catagory\"]=\"Peoplesoft\"\n",
    "df1"
   ]
  },
  {
   "cell_type": "markdown",
   "id": "46037f94",
   "metadata": {},
   "source": [
    "#### Reading the .doc extention files "
   ]
  },
  {
   "cell_type": "code",
   "execution_count": 21,
   "id": "750216af",
   "metadata": {},
   "outputs": [],
   "source": [
    "from win32com import client as wc"
   ]
  },
  {
   "cell_type": "code",
   "execution_count": 22,
   "id": "2c2188d5",
   "metadata": {},
   "outputs": [],
   "source": [
    "w = wc.Dispatch('Word.Application')\n",
    "doc = w.Documents.Open(\"D:\\EXCELR\\Resume Classification NLP project\\Resumes\\Peoplesoft resumes\\Peoplesoft Admin_G Ananda Rayudu.doc\")"
   ]
  },
  {
   "cell_type": "code",
   "execution_count": 23,
   "id": "ee916c8f",
   "metadata": {},
   "outputs": [
    {
     "data": {
      "text/plain": [
       "'\\r\\r\\r\\r\\r\\r\\t\\r\\rProfile Summary:\\t\\t\\t\\t\\t\\t\\t\\t\\t\\t\\r7+ years of experience in implementing, upgrading, and supporting PeopleSoft database administration including Human Capital Management (HCM), Financials, Campus Solutions and Portal IHUB\\rExpertise in installation, configuration, setup, security and management of the PeopleSoft Internet Architecture PIA environment.\\rIn-depth experience in analysis, planning, development, and implementation stages, including load testing, quality assurance, and tuning.\\rGained extensive exposure in deploying PeopleSoft Environments.\\rExperienced in Troubleshooting PeopleSoft Components.\\rSkilled with the capability to analyse & interpret unique problems with a combination of training experience & logical thinking to find the right solutions\\r\\rCore Competencies:\\t\\t\\t\\t\\t\\t\\t\\t\\t\\t\\t  \\r\\rPeopleSoft Implementation. \\rTroubleshooting\\t PeopleSoft performance issues.                             \\rProject /Data Migration        \\rInstallation & Configuration of PeopleSoft components.                     \\rPUM (DPK) Install and configure. \\rUpgrades – People tools.\\rExpertise in applying Patches, and Updates via Change Assistant tool including Tax Updates.\\rElastic Search Install and configure.\\rPeopleSoft Refreshes / Cloning.\\rIntegration Broker setup and configuration\\rMaintaining workflow of PeopleSoft users & monitoring log files and search bottleneck of servers.\\rPeopleSoft Security resetting passwords and locking/unlocking user profiles.\\rInstalling Middle tier components and Oracle quarterly Security patches.\\rConfiguring Change Assistant to apply fixes and patch sets.\\rPeopleSoft Cloud Infrastructure-IaaS.\\rAWS-EC2.\\rCloud Manager-Lift and Shift of application to cloud.\\r\\t\\t\\t\\t\\t\\rǁ Work Experience:\\t\\t\\t\\t\\t\\t\\t\\t\\t\\t\\t   \\r\\rOrganization                        :          IDC Technologies Sol. (I) Pvt. Ltd.\\rPROJECT   #1\\t\\t\\rMultiple clients\\t\\t:           Texas Department of Transportation(TxDOT)\\r                                                             \\rDURATION\\t\\t:           Aug 2019 to till the date\\rROLE \\t\\t\\t:           PeopleSoft DBA\\rENVIRONMENT\\t:            People Tools 8.56, HRMS 9.2, FSCM 9.2  \\r            Tuxedo 12.2.2.0, WebLogic 12.2,3 and Oracle 12c.\\r\\rRESPONSIBILITIES\\t:\\rPerforming Project Migration using Phire.\\rPerforming Oracle Security Patching(Java and WLS).\\rInstalled middle Tier components Tuxedo, WebLogic, JDK and Java.\\rPerforming PeopleSoft database refresh.\\rTroubleshooting Application Servers, Process Scheduler servers for Reports posting and performance issues.\\rResolved developer issues like resetting passwords and locking/unlocking users.\\rExamining and clearing cache from servers like application server on monthly maintenance process.\\rPrepared and maintained the documentation of the all Non Prod and Prod Refresh.\\r \\r\\r\\rOrganization                        :          Safalta InfoTech Pvt Ltd. (Nov 2013 to Aug 2019(\\rPROJECT   #1\\t\\t\\rMultiple clients\\t\\t:           University of Texas Systems (UTS),\\r                                                             Papa Jones.\\rDURATION\\t\\t:           2016 to 2019\\rROLE \\t\\t\\t:           PeopleSoft DBA\\rENVIRONMENT\\t:            People Tools 8.55, 8.56, HRMS 9.2, FSCM 9.2, Campus Solutions 9.0, Portal Solutions 9.1,  \\r            Tuxedo 11.2.2.0, 12.2.2.0, WebLogic 11.2.3, 12.2,3 and Oracle11g and12c.\\r\\rRESPONSIBILITIES\\t:\\rImplemented complete PeopleSoft life cycle from scratch to production go-live activities in Executing PeopleSoft Internet Architecture (PIA) Demo, Development, Support, Test, and Production instances.\\rPSADMIN utility to Administer and create App server, process scheduler server and webserver domains.\\rInstalled middle Tier components Tuxedo, WebLogic, JDK and Java.\\rPerformed PeopleSoft database refresh and PeopleSoft cloning activities.\\rPerforming Project Migration using Application Designer\\rMaintaining workflow of PeopleSoft users & monitoring log files and search bottleneck of servers.\\rTroubleshooting Application Servers, Process Scheduler servers for Reports posting and performance issues.\\rResolved developer issues like resetting passwords and locking/unlocking users.\\rProvided resolutions to client and analysed production issues.\\rExamining and clearing cache from servers like application server on monthly maintenance process.\\rSetup for Integration Broker, defining Gateway, creating and configuring application nodes.\\rPrepared and maintained the documentation of the entire configuration.\\rRunning Audit reports and reviews the SYS and DDD audit for any data inconsistency. \\rPerformed Data migration while performing production moves.\\rPerformed server load balancing for webserver and Application tiers.\\rHands on experience on setting up the PUM/DPK images for creating change packages for Application fixes and bugs.\\rConfigured Change Assistant to Download Updates and Fixes and apply to the target environments.\\rInstall and configure Elastic search.\\rPerformed and executed Oracle CPU quarterly security patches for nprod and prod environments.\\rPerfumed Instances verification tests for patching, database refresh, cloning activities.\\rPerformed People Tools upgrade from release 8.55 to 8.56.\\rInstall and configure DPK images for extracting PeopleSoft change packages for bugs, fixes and tax updates.\\rTroubleshooting for reports posting issues and IB related issues in production and nprod environments. \\r\\rPROJECT   #2\\t\\t\\t\\rMultiple clients\\t\\t:             Daytona State University (DSC), \\r                                                                Algonquin College Canada.\\rDURATION\\t\\t:             2014 to 2016\\rROLE \\t\\t\\t:              PeopleSoft DBA\\rENVIRONMENT\\t\\t:              Implementation and Production Support (HRMS, FSCM, Portal), \\r                                                                All Development, Functional Testing, Acceptance Testing, and DEMO         \\rMODULE\\t\\t:              HCM/FSCM/CS/PIHUB -9.2, 9.0, 9.1 with People tools 8.53, 8.54\\rRESPONSIBILITIES\\t:\\r\\r•\\tCreated PeopleSoft Demo, System and Production Instances.\\r•\\tConfigured Application server Domains, web server & Batch (process scheduler) server.\\r•\\tTroubleshooting the various issues of Application server, Web server and process Scheduler domains.\\r•\\tConfigured windows development clients to connect 2-tier or 3-tier to the database for the development and administration purposes.\\r•\\tDownload Updates and Fixes and stored for Implementation.\\r•\\tInstall/configure Change Assistant.\\r•\\tApplying bundles and fixes.\\r•\\tInvolved in Tools only upgrade from 8.51 to 8.55\\r•\\tConfigured Change Assistant to Download Updates and Fixes and apply to the environments and maintain the customization for the PeopleSoft.\\r•\\tEnable tracing through PIA page and configuration manager.\\r•\\tDatabase pre and post refresh activities.\\r•\\tSetup for Integration Broker, defining Gateway, creating and configuring application nodes.\\r•\\tRunning Audit reports and reviews the SYS and DDD audit for any data inconsistency.\\r•\\tInstalled and configured verity search.\\r\\rǁ Technical Skills:\\t\\t\\t\\t\\t\\t\\t\\t\\t   \\t\\t\\t\\t\\t\\t\\t\\r\\t\\rTroubleshooting for reports posting issues and IB related issues in production and nprod environments. \\rPeople Tools 8.51/8.52/8.53/8.54/8.55/8.56\\rPeopleSoft Applications 9.0, 9.1, 9.2\\rOracle DB 10g,11g,12, Web Logic 11.2.1,12.1.3 Tuxedo 11.2..1.12.1.3\\rUNIX, Windows NT, 2000, 2003, 2005, 2008R2, 2016.\\t\\rPeopleSoft Admin/DBA, Oracle DBA\\rMulti-Tasking.\\rEffective and Good Team Player.\\rGood Interaction with customers.\\rSelf-motivated and quick learner of new concepts and technologies.\\r\\r\\rǁ Education:\\t\\t\\t\\t\\t\\t\\t\\t\\t   \\t\\t\\t\\t\\t\\t\\t\\rBachelors in Computer Science Anil Neerukonda Institute of technology and sciences Andhra University.\\rǁ Awards:\\t\\t\\t\\t\\t\\t\\t\\t   \\rClient delight Award for best performance.\\rSport Award for achieving good CSAT score from end users. \\rǁ Personal details:\\t\\t\\t\\t\\t\\t\\t   \\r\\t\\t\\t\\t\\t\\t\\t\\rFather’s Name\\t\\t\\t:\\tG. Ananda Rayudu\\rDate of Birth\\t\\t\\t:\\t27/05/1987\\rMarital Status\\t\\t\\t:\\tSingle\\rPAN Details\\t\\t\\t:\\tAVQPG5770Q\\rPassport Details\\t\\t                :\\tJ7958541\\r\\t\\t\\t\\t\\t\\r\\rI hereby declare that the above-mentioned information is true to the best of my knowledge.\\r\\r\\r\\r\\rPLACE:\\t\\t\\t\\t\\t\\t\\t\\t\\tG. Ananda Rayudu\\r\\r\\r'"
      ]
     },
     "execution_count": 23,
     "metadata": {},
     "output_type": "execute_result"
    }
   ],
   "source": [
    "doc.content()"
   ]
  },
  {
   "cell_type": "code",
   "execution_count": 24,
   "id": "ab2b439c",
   "metadata": {},
   "outputs": [],
   "source": [
    "def extract_text_from_doc(doc_path):\n",
    "    \n",
    "    w = wc.Dispatch('Word.Application')\n",
    "    doc = w.Documents.Open(doc_path)\n",
    "    text = [line.replace('\\t', ' ') for line in doc.content().split('\\r') if line]\n",
    "    return ' '.join(text)"
   ]
  },
  {
   "cell_type": "code",
   "execution_count": 25,
   "id": "d049e256",
   "metadata": {},
   "outputs": [
    {
     "data": {
      "text/plain": [
       "'  Profile Summary:           7+ years of experience in implementing, upgrading, and supporting PeopleSoft database administration including Human Capital Management (HCM), Financials, Campus Solutions and Portal IHUB Expertise in installation, configuration, setup, security and management of the PeopleSoft Internet Architecture PIA environment. In-depth experience in analysis, planning, development, and implementation stages, including load testing, quality assurance, and tuning. Gained extensive exposure in deploying PeopleSoft Environments. Experienced in Troubleshooting PeopleSoft Components. Skilled with the capability to analyse & interpret unique problems with a combination of training experience & logical thinking to find the right solutions Core Competencies:              PeopleSoft Implementation.  Troubleshooting  PeopleSoft performance issues.                              Project /Data Migration         Installation & Configuration of PeopleSoft components.                      PUM (DPK) Install and configure.  Upgrades – People tools. Expertise in applying Patches, and Updates via Change Assistant tool including Tax Updates. Elastic Search Install and configure. PeopleSoft Refreshes / Cloning. Integration Broker setup and configuration Maintaining workflow of PeopleSoft users & monitoring log files and search bottleneck of servers. PeopleSoft Security resetting passwords and locking/unlocking user profiles. Installing Middle tier components and Oracle quarterly Security patches. Configuring Change Assistant to apply fixes and patch sets. PeopleSoft Cloud Infrastructure-IaaS. AWS-EC2. Cloud Manager-Lift and Shift of application to cloud.       ǁ Work Experience:               Organization                        :          IDC Technologies Sol. (I) Pvt. Ltd. PROJECT   #1   Multiple clients  :           Texas Department of Transportation(TxDOT)                                                               DURATION  :           Aug 2019 to till the date ROLE    :           PeopleSoft DBA ENVIRONMENT :            People Tools 8.56, HRMS 9.2, FSCM 9.2               Tuxedo 12.2.2.0, WebLogic 12.2,3 and Oracle 12c. RESPONSIBILITIES : Performing Project Migration using Phire. Performing Oracle Security Patching(Java and WLS). Installed middle Tier components Tuxedo, WebLogic, JDK and Java. Performing PeopleSoft database refresh. Troubleshooting Application Servers, Process Scheduler servers for Reports posting and performance issues. Resolved developer issues like resetting passwords and locking/unlocking users. Examining and clearing cache from servers like application server on monthly maintenance process. Prepared and maintained the documentation of the all Non Prod and Prod Refresh.   Organization                        :          Safalta InfoTech Pvt Ltd. (Nov 2013 to Aug 2019( PROJECT   #1   Multiple clients  :           University of Texas Systems (UTS),                                                              Papa Jones. DURATION  :           2016 to 2019 ROLE    :           PeopleSoft DBA ENVIRONMENT :            People Tools 8.55, 8.56, HRMS 9.2, FSCM 9.2, Campus Solutions 9.0, Portal Solutions 9.1,               Tuxedo 11.2.2.0, 12.2.2.0, WebLogic 11.2.3, 12.2,3 and Oracle11g and12c. RESPONSIBILITIES : Implemented complete PeopleSoft life cycle from scratch to production go-live activities in Executing PeopleSoft Internet Architecture (PIA) Demo, Development, Support, Test, and Production instances. PSADMIN utility to Administer and create App server, process scheduler server and webserver domains. Installed middle Tier components Tuxedo, WebLogic, JDK and Java. Performed PeopleSoft database refresh and PeopleSoft cloning activities. Performing Project Migration using Application Designer Maintaining workflow of PeopleSoft users & monitoring log files and search bottleneck of servers. Troubleshooting Application Servers, Process Scheduler servers for Reports posting and performance issues. Resolved developer issues like resetting passwords and locking/unlocking users. Provided resolutions to client and analysed production issues. Examining and clearing cache from servers like application server on monthly maintenance process. Setup for Integration Broker, defining Gateway, creating and configuring application nodes. Prepared and maintained the documentation of the entire configuration. Running Audit reports and reviews the SYS and DDD audit for any data inconsistency.  Performed Data migration while performing production moves. Performed server load balancing for webserver and Application tiers. Hands on experience on setting up the PUM/DPK images for creating change packages for Application fixes and bugs. Configured Change Assistant to Download Updates and Fixes and apply to the target environments. Install and configure Elastic search. Performed and executed Oracle CPU quarterly security patches for nprod and prod environments. Perfumed Instances verification tests for patching, database refresh, cloning activities. Performed People Tools upgrade from release 8.55 to 8.56. Install and configure DPK images for extracting PeopleSoft change packages for bugs, fixes and tax updates. Troubleshooting for reports posting issues and IB related issues in production and nprod environments.  PROJECT   #2    Multiple clients  :             Daytona State University (DSC),                                                                  Algonquin College Canada. DURATION  :             2014 to 2016 ROLE    :              PeopleSoft DBA ENVIRONMENT  :              Implementation and Production Support (HRMS, FSCM, Portal),                                                                  All Development, Functional Testing, Acceptance Testing, and DEMO          MODULE  :              HCM/FSCM/CS/PIHUB -9.2, 9.0, 9.1 with People tools 8.53, 8.54 RESPONSIBILITIES : • Created PeopleSoft Demo, System and Production Instances. • Configured Application server Domains, web server & Batch (process scheduler) server. • Troubleshooting the various issues of Application server, Web server and process Scheduler domains. • Configured windows development clients to connect 2-tier or 3-tier to the database for the development and administration purposes. • Download Updates and Fixes and stored for Implementation. • Install/configure Change Assistant. • Applying bundles and fixes. • Involved in Tools only upgrade from 8.51 to 8.55 • Configured Change Assistant to Download Updates and Fixes and apply to the environments and maintain the customization for the PeopleSoft. • Enable tracing through PIA page and configuration manager. • Database pre and post refresh activities. • Setup for Integration Broker, defining Gateway, creating and configuring application nodes. • Running Audit reports and reviews the SYS and DDD audit for any data inconsistency. • Installed and configured verity search. ǁ Technical Skills:                      Troubleshooting for reports posting issues and IB related issues in production and nprod environments.  People Tools 8.51/8.52/8.53/8.54/8.55/8.56 PeopleSoft Applications 9.0, 9.1, 9.2 Oracle DB 10g,11g,12, Web Logic 11.2.1,12.1.3 Tuxedo 11.2..1.12.1.3 UNIX, Windows NT, 2000, 2003, 2005, 2008R2, 2016.  PeopleSoft Admin/DBA, Oracle DBA Multi-Tasking. Effective and Good Team Player. Good Interaction with customers. Self-motivated and quick learner of new concepts and technologies. ǁ Education:                    Bachelors in Computer Science Anil Neerukonda Institute of technology and sciences Andhra University. ǁ Awards:            Client delight Award for best performance. Sport Award for achieving good CSAT score from end users.  ǁ Personal details:                   Father’s Name   : G. Ananda Rayudu Date of Birth   : 27/05/1987 Marital Status   : Single PAN Details   : AVQPG5770Q Passport Details                  : J7958541       I hereby declare that the above-mentioned information is true to the best of my knowledge. PLACE:         G. Ananda Rayudu'"
      ]
     },
     "execution_count": 25,
     "metadata": {},
     "output_type": "execute_result"
    }
   ],
   "source": [
    "extract_text_from_doc(\"D:\\EXCELR\\Resume Classification NLP project\\Resumes\\Peoplesoft resumes\\Peoplesoft Admin_G Ananda Rayudu.doc\")"
   ]
  },
  {
   "cell_type": "markdown",
   "id": "cb71df04",
   "metadata": {},
   "source": [
    "##### Finding the full path of the .doc files using the glob module"
   ]
  },
  {
   "cell_type": "code",
   "execution_count": 26,
   "id": "7d8e7751",
   "metadata": {},
   "outputs": [],
   "source": [
    "import glob"
   ]
  },
  {
   "cell_type": "code",
   "execution_count": 27,
   "id": "dc4b7116",
   "metadata": {},
   "outputs": [
    {
     "data": {
      "text/plain": [
       "['D:\\\\EXCELR\\\\Resume Classification NLP project\\\\Resumes\\\\Peoplesoft resumes\\\\Peoplesoft Admin_G Ananda Rayudu.doc',\n",
       " 'D:\\\\EXCELR\\\\Resume Classification NLP project\\\\Resumes\\\\Peoplesoft resumes\\\\Peoplesoft Admin_Gangareddy.doc',\n",
       " 'D:\\\\EXCELR\\\\Resume Classification NLP project\\\\Resumes\\\\Peoplesoft resumes\\\\Peoplesoft Admin_Priyanka Ramadoss.doc',\n",
       " 'D:\\\\EXCELR\\\\Resume Classification NLP project\\\\Resumes\\\\Peoplesoft resumes\\\\Peoplesoft Admin_srinivasarao.doc',\n",
       " 'D:\\\\EXCELR\\\\Resume Classification NLP project\\\\Resumes\\\\Peoplesoft resumes\\\\Peoplesoft Admin_Vinod Akkala.doc',\n",
       " 'D:\\\\EXCELR\\\\Resume Classification NLP project\\\\Resumes\\\\Peoplesoft resumes\\\\PeopleSoft DBA_Ganesh Alladi.doc',\n",
       " 'D:\\\\EXCELR\\\\Resume Classification NLP project\\\\Resumes\\\\Peoplesoft resumes\\\\Peoplesoft Finance_Arun Venu.doc',\n",
       " 'D:\\\\EXCELR\\\\Resume Classification NLP project\\\\Resumes\\\\Peoplesoft resumes\\\\Peoplesoft Finance_Pritam Biswas.doc',\n",
       " 'D:\\\\EXCELR\\\\Resume Classification NLP project\\\\Resumes\\\\Peoplesoft resumes\\\\Peoplesoft Finance_Rahul Ahuja.doc',\n",
       " 'D:\\\\EXCELR\\\\Resume Classification NLP project\\\\Resumes\\\\Peoplesoft resumes\\\\Peoplesoft FSCM_R Ahmed.doc',\n",
       " 'D:\\\\EXCELR\\\\Resume Classification NLP project\\\\Resumes\\\\Peoplesoft resumes\\\\~$oplesoft Admin_G Ananda Rayudu.doc']"
      ]
     },
     "execution_count": 27,
     "metadata": {},
     "output_type": "execute_result"
    }
   ],
   "source": [
    "read_file =glob.glob(os.path.join(os.getcwd(),\"*.doc\"))\n",
    "read_file"
   ]
  },
  {
   "cell_type": "code",
   "execution_count": 28,
   "id": "0d4a155b",
   "metadata": {},
   "outputs": [
    {
     "data": {
      "text/plain": [
       "['D:\\\\EXCELR\\\\Resume Classification NLP project\\\\Resumes\\\\Peoplesoft resumes\\\\Peoplesoft Admin_G Ananda Rayudu.doc',\n",
       " 'D:\\\\EXCELR\\\\Resume Classification NLP project\\\\Resumes\\\\Peoplesoft resumes\\\\Peoplesoft Admin_Gangareddy.doc',\n",
       " 'D:\\\\EXCELR\\\\Resume Classification NLP project\\\\Resumes\\\\Peoplesoft resumes\\\\Peoplesoft Admin_Priyanka Ramadoss.doc',\n",
       " 'D:\\\\EXCELR\\\\Resume Classification NLP project\\\\Resumes\\\\Peoplesoft resumes\\\\Peoplesoft Admin_srinivasarao.doc',\n",
       " 'D:\\\\EXCELR\\\\Resume Classification NLP project\\\\Resumes\\\\Peoplesoft resumes\\\\Peoplesoft Admin_Vinod Akkala.doc',\n",
       " 'D:\\\\EXCELR\\\\Resume Classification NLP project\\\\Resumes\\\\Peoplesoft resumes\\\\PeopleSoft DBA_Ganesh Alladi.doc',\n",
       " 'D:\\\\EXCELR\\\\Resume Classification NLP project\\\\Resumes\\\\Peoplesoft resumes\\\\Peoplesoft Finance_Arun Venu.doc',\n",
       " 'D:\\\\EXCELR\\\\Resume Classification NLP project\\\\Resumes\\\\Peoplesoft resumes\\\\Peoplesoft Finance_Pritam Biswas.doc',\n",
       " 'D:\\\\EXCELR\\\\Resume Classification NLP project\\\\Resumes\\\\Peoplesoft resumes\\\\Peoplesoft Finance_Rahul Ahuja.doc',\n",
       " 'D:\\\\EXCELR\\\\Resume Classification NLP project\\\\Resumes\\\\Peoplesoft resumes\\\\Peoplesoft FSCM_R Ahmed.doc']"
      ]
     },
     "execution_count": 28,
     "metadata": {},
     "output_type": "execute_result"
    }
   ],
   "source": [
    "read_file[:-1]"
   ]
  },
  {
   "cell_type": "code",
   "execution_count": 29,
   "id": "b60aadf0",
   "metadata": {},
   "outputs": [
    {
     "data": {
      "text/plain": [
       "'  Profile Summary:           7+ years of experience in implementing, upgrading, and supporting PeopleSoft database administration including Human Capital Management (HCM), Financials, Campus Solutions and Portal IHUB Expertise in installation, configuration, setup, security and management of the PeopleSoft Internet Architecture PIA environment. In-depth experience in analysis, planning, development, and implementation stages, including load testing, quality assurance, and tuning. Gained extensive exposure in deploying PeopleSoft Environments. Experienced in Troubleshooting PeopleSoft Components. Skilled with the capability to analyse & interpret unique problems with a combination of training experience & logical thinking to find the right solutions Core Competencies:              PeopleSoft Implementation.  Troubleshooting  PeopleSoft performance issues.                              Project /Data Migration         Installation & Configuration of PeopleSoft components.                      PUM (DPK) Install and configure.  Upgrades – People tools. Expertise in applying Patches, and Updates via Change Assistant tool including Tax Updates. Elastic Search Install and configure. PeopleSoft Refreshes / Cloning. Integration Broker setup and configuration Maintaining workflow of PeopleSoft users & monitoring log files and search bottleneck of servers. PeopleSoft Security resetting passwords and locking/unlocking user profiles. Installing Middle tier components and Oracle quarterly Security patches. Configuring Change Assistant to apply fixes and patch sets. PeopleSoft Cloud Infrastructure-IaaS. AWS-EC2. Cloud Manager-Lift and Shift of application to cloud.       ǁ Work Experience:               Organization                        :          IDC Technologies Sol. (I) Pvt. Ltd. PROJECT   #1   Multiple clients  :           Texas Department of Transportation(TxDOT)                                                               DURATION  :           Aug 2019 to till the date ROLE    :           PeopleSoft DBA ENVIRONMENT :            People Tools 8.56, HRMS 9.2, FSCM 9.2               Tuxedo 12.2.2.0, WebLogic 12.2,3 and Oracle 12c. RESPONSIBILITIES : Performing Project Migration using Phire. Performing Oracle Security Patching(Java and WLS). Installed middle Tier components Tuxedo, WebLogic, JDK and Java. Performing PeopleSoft database refresh. Troubleshooting Application Servers, Process Scheduler servers for Reports posting and performance issues. Resolved developer issues like resetting passwords and locking/unlocking users. Examining and clearing cache from servers like application server on monthly maintenance process. Prepared and maintained the documentation of the all Non Prod and Prod Refresh.   Organization                        :          Safalta InfoTech Pvt Ltd. (Nov 2013 to Aug 2019( PROJECT   #1   Multiple clients  :           University of Texas Systems (UTS),                                                              Papa Jones. DURATION  :           2016 to 2019 ROLE    :           PeopleSoft DBA ENVIRONMENT :            People Tools 8.55, 8.56, HRMS 9.2, FSCM 9.2, Campus Solutions 9.0, Portal Solutions 9.1,               Tuxedo 11.2.2.0, 12.2.2.0, WebLogic 11.2.3, 12.2,3 and Oracle11g and12c. RESPONSIBILITIES : Implemented complete PeopleSoft life cycle from scratch to production go-live activities in Executing PeopleSoft Internet Architecture (PIA) Demo, Development, Support, Test, and Production instances. PSADMIN utility to Administer and create App server, process scheduler server and webserver domains. Installed middle Tier components Tuxedo, WebLogic, JDK and Java. Performed PeopleSoft database refresh and PeopleSoft cloning activities. Performing Project Migration using Application Designer Maintaining workflow of PeopleSoft users & monitoring log files and search bottleneck of servers. Troubleshooting Application Servers, Process Scheduler servers for Reports posting and performance issues. Resolved developer issues like resetting passwords and locking/unlocking users. Provided resolutions to client and analysed production issues. Examining and clearing cache from servers like application server on monthly maintenance process. Setup for Integration Broker, defining Gateway, creating and configuring application nodes. Prepared and maintained the documentation of the entire configuration. Running Audit reports and reviews the SYS and DDD audit for any data inconsistency.  Performed Data migration while performing production moves. Performed server load balancing for webserver and Application tiers. Hands on experience on setting up the PUM/DPK images for creating change packages for Application fixes and bugs. Configured Change Assistant to Download Updates and Fixes and apply to the target environments. Install and configure Elastic search. Performed and executed Oracle CPU quarterly security patches for nprod and prod environments. Perfumed Instances verification tests for patching, database refresh, cloning activities. Performed People Tools upgrade from release 8.55 to 8.56. Install and configure DPK images for extracting PeopleSoft change packages for bugs, fixes and tax updates. Troubleshooting for reports posting issues and IB related issues in production and nprod environments.  PROJECT   #2    Multiple clients  :             Daytona State University (DSC),                                                                  Algonquin College Canada. DURATION  :             2014 to 2016 ROLE    :              PeopleSoft DBA ENVIRONMENT  :              Implementation and Production Support (HRMS, FSCM, Portal),                                                                  All Development, Functional Testing, Acceptance Testing, and DEMO          MODULE  :              HCM/FSCM/CS/PIHUB -9.2, 9.0, 9.1 with People tools 8.53, 8.54 RESPONSIBILITIES : • Created PeopleSoft Demo, System and Production Instances. • Configured Application server Domains, web server & Batch (process scheduler) server. • Troubleshooting the various issues of Application server, Web server and process Scheduler domains. • Configured windows development clients to connect 2-tier or 3-tier to the database for the development and administration purposes. • Download Updates and Fixes and stored for Implementation. • Install/configure Change Assistant. • Applying bundles and fixes. • Involved in Tools only upgrade from 8.51 to 8.55 • Configured Change Assistant to Download Updates and Fixes and apply to the environments and maintain the customization for the PeopleSoft. • Enable tracing through PIA page and configuration manager. • Database pre and post refresh activities. • Setup for Integration Broker, defining Gateway, creating and configuring application nodes. • Running Audit reports and reviews the SYS and DDD audit for any data inconsistency. • Installed and configured verity search. ǁ Technical Skills:                      Troubleshooting for reports posting issues and IB related issues in production and nprod environments.  People Tools 8.51/8.52/8.53/8.54/8.55/8.56 PeopleSoft Applications 9.0, 9.1, 9.2 Oracle DB 10g,11g,12, Web Logic 11.2.1,12.1.3 Tuxedo 11.2..1.12.1.3 UNIX, Windows NT, 2000, 2003, 2005, 2008R2, 2016.  PeopleSoft Admin/DBA, Oracle DBA Multi-Tasking. Effective and Good Team Player. Good Interaction with customers. Self-motivated and quick learner of new concepts and technologies. ǁ Education:                    Bachelors in Computer Science Anil Neerukonda Institute of technology and sciences Andhra University. ǁ Awards:            Client delight Award for best performance. Sport Award for achieving good CSAT score from end users.  ǁ Personal details:                   Father’s Name   : G. Ananda Rayudu Date of Birth   : 27/05/1987 Marital Status   : Single PAN Details   : AVQPG5770Q Passport Details                  : J7958541       I hereby declare that the above-mentioned information is true to the best of my knowledge. PLACE:         G. Ananda Rayudu'"
      ]
     },
     "execution_count": 29,
     "metadata": {},
     "output_type": "execute_result"
    }
   ],
   "source": [
    "extract_text_from_doc(read_file[0])"
   ]
  },
  {
   "cell_type": "code",
   "execution_count": 30,
   "id": "8a79cb64",
   "metadata": {},
   "outputs": [],
   "source": [
    "data_doc=[]\n",
    "for file in read_file[:-1]:\n",
    "    resume=extract_text_from_doc(file)\n",
    "    data_doc.append(resume)"
   ]
  },
  {
   "cell_type": "code",
   "execution_count": 31,
   "id": "764aaaca",
   "metadata": {},
   "outputs": [
    {
     "data": {
      "text/plain": [
       "10"
      ]
     },
     "execution_count": 31,
     "metadata": {},
     "output_type": "execute_result"
    }
   ],
   "source": [
    "len(data_doc)"
   ]
  },
  {
   "cell_type": "code",
   "execution_count": 32,
   "id": "5595d8a9",
   "metadata": {},
   "outputs": [
    {
     "data": {
      "text/html": [
       "<div>\n",
       "<style scoped>\n",
       "    .dataframe tbody tr th:only-of-type {\n",
       "        vertical-align: middle;\n",
       "    }\n",
       "\n",
       "    .dataframe tbody tr th {\n",
       "        vertical-align: top;\n",
       "    }\n",
       "\n",
       "    .dataframe thead th {\n",
       "        text-align: right;\n",
       "    }\n",
       "</style>\n",
       "<table border=\"1\" class=\"dataframe\">\n",
       "  <thead>\n",
       "    <tr style=\"text-align: right;\">\n",
       "      <th></th>\n",
       "      <th>Resumes</th>\n",
       "      <th>Catagory</th>\n",
       "    </tr>\n",
       "  </thead>\n",
       "  <tbody>\n",
       "    <tr>\n",
       "      <th>0</th>\n",
       "      <td>Profile Summary:           7+ years of exper...</td>\n",
       "      <td>Peoplesoft</td>\n",
       "    </tr>\n",
       "    <tr>\n",
       "      <th>1</th>\n",
       "      <td>PeopleSoft Database Administrator             ...</td>\n",
       "      <td>Peoplesoft</td>\n",
       "    </tr>\n",
       "    <tr>\n",
       "      <th>2</th>\n",
       "      <td>Priyanka Ramadoss 61/46, MountPleasant,  Coono...</td>\n",
       "      <td>Peoplesoft</td>\n",
       "    </tr>\n",
       "    <tr>\n",
       "      <th>3</th>\n",
       "      <td>PEOPLESOFT ADMINISTRATOR SRINIVAS.K        Exp...</td>\n",
       "      <td>Peoplesoft</td>\n",
       "    </tr>\n",
       "    <tr>\n",
       "      <th>4</th>\n",
       "      <td>Vinod Akkala                                  ...</td>\n",
       "      <td>Peoplesoft</td>\n",
       "    </tr>\n",
       "    <tr>\n",
       "      <th>5</th>\n",
       "      <td>PeopleSoft Admin/PeopleSoft DBA Ganesh Alladi...</td>\n",
       "      <td>Peoplesoft</td>\n",
       "    </tr>\n",
       "    <tr>\n",
       "      <th>6</th>\n",
       "      <td>Arun Venu   EXPERIENCE SUMMARY  Experience of ...</td>\n",
       "      <td>Peoplesoft</td>\n",
       "    </tr>\n",
       "    <tr>\n",
       "      <th>7</th>\n",
       "      <td>Personal Details   \u0007 \u0007Name \u0007Pritam Biswas \u0007 \u0007D...</td>\n",
       "      <td>Peoplesoft</td>\n",
       "    </tr>\n",
       "    <tr>\n",
       "      <th>8</th>\n",
       "      <td>Rahul Ahuja ----------------------------------...</td>\n",
       "      <td>Peoplesoft</td>\n",
       "    </tr>\n",
       "    <tr>\n",
       "      <th>9</th>\n",
       "      <td>R Ahmed                                       ...</td>\n",
       "      <td>Peoplesoft</td>\n",
       "    </tr>\n",
       "  </tbody>\n",
       "</table>\n",
       "</div>"
      ],
      "text/plain": [
       "                                             Resumes    Catagory\n",
       "0    Profile Summary:           7+ years of exper...  Peoplesoft\n",
       "1  PeopleSoft Database Administrator             ...  Peoplesoft\n",
       "2  Priyanka Ramadoss 61/46, MountPleasant,  Coono...  Peoplesoft\n",
       "3  PEOPLESOFT ADMINISTRATOR SRINIVAS.K        Exp...  Peoplesoft\n",
       "4  Vinod Akkala                                  ...  Peoplesoft\n",
       "5   PeopleSoft Admin/PeopleSoft DBA Ganesh Alladi...  Peoplesoft\n",
       "6  Arun Venu   EXPERIENCE SUMMARY  Experience of ...  Peoplesoft\n",
       "7  Personal Details   \u0007 \u0007Name \u0007Pritam Biswas \u0007 \u0007D...  Peoplesoft\n",
       "8  Rahul Ahuja ----------------------------------...  Peoplesoft\n",
       "9  R Ahmed                                       ...  Peoplesoft"
      ]
     },
     "execution_count": 32,
     "metadata": {},
     "output_type": "execute_result"
    }
   ],
   "source": [
    "df2=pd.DataFrame(data_doc,columns=[\"Resumes\"])  \n",
    "df2[\"Catagory\"]=\"Peoplesoft\"\n",
    "df2"
   ]
  },
  {
   "cell_type": "code",
   "execution_count": 33,
   "id": "8afa8d38",
   "metadata": {},
   "outputs": [
    {
     "data": {
      "text/html": [
       "<div>\n",
       "<style scoped>\n",
       "    .dataframe tbody tr th:only-of-type {\n",
       "        vertical-align: middle;\n",
       "    }\n",
       "\n",
       "    .dataframe tbody tr th {\n",
       "        vertical-align: top;\n",
       "    }\n",
       "\n",
       "    .dataframe thead th {\n",
       "        text-align: right;\n",
       "    }\n",
       "</style>\n",
       "<table border=\"1\" class=\"dataframe\">\n",
       "  <thead>\n",
       "    <tr style=\"text-align: right;\">\n",
       "      <th></th>\n",
       "      <th>Resumes</th>\n",
       "      <th>Catagory</th>\n",
       "    </tr>\n",
       "  </thead>\n",
       "  <tbody>\n",
       "    <tr>\n",
       "      <th>0</th>\n",
       "      <td>Anubhav Kumar Singh   Core Competencies: Scrip...</td>\n",
       "      <td>Peoplesoft</td>\n",
       "    </tr>\n",
       "    <tr>\n",
       "      <th>1</th>\n",
       "      <td>Classification: Internal Classification: Inter...</td>\n",
       "      <td>Peoplesoft</td>\n",
       "    </tr>\n",
       "    <tr>\n",
       "      <th>2</th>\n",
       "      <td>SIRAZUDDIN M  Bangalore, INDIA  SIRAZUDDIN M  ...</td>\n",
       "      <td>Peoplesoft</td>\n",
       "    </tr>\n",
       "    <tr>\n",
       "      <th>3</th>\n",
       "      <td>PeopleSoft Admin VARKALA VIKAS Career Objectiv...</td>\n",
       "      <td>Peoplesoft</td>\n",
       "    </tr>\n",
       "    <tr>\n",
       "      <th>4</th>\n",
       "      <td>PeopleSoft Administration   Vivekanand Sayana ...</td>\n",
       "      <td>Peoplesoft</td>\n",
       "    </tr>\n",
       "    <tr>\n",
       "      <th>5</th>\n",
       "      <td>Hari Narayana                    PROFESSIONAL ...</td>\n",
       "      <td>Peoplesoft</td>\n",
       "    </tr>\n",
       "    <tr>\n",
       "      <th>6</th>\n",
       "      <td>Murali            PROFESSIONAL SUMMARY Having ...</td>\n",
       "      <td>Peoplesoft</td>\n",
       "    </tr>\n",
       "    <tr>\n",
       "      <th>7</th>\n",
       "      <td>Priyabrata Hota CAREER OBJECTIVE   Pursuing Pe...</td>\n",
       "      <td>Peoplesoft</td>\n",
       "    </tr>\n",
       "    <tr>\n",
       "      <th>8</th>\n",
       "      <td>Tanna Sujatha  OBJECTIVE Seeking a challenging...</td>\n",
       "      <td>Peoplesoft</td>\n",
       "    </tr>\n",
       "    <tr>\n",
       "      <th>9</th>\n",
       "      <td>C O N T A C T : Address: Manyata Tech Park, Na...</td>\n",
       "      <td>Peoplesoft</td>\n",
       "    </tr>\n",
       "    <tr>\n",
       "      <th>10</th>\n",
       "      <td>Profile Summary:           7+ years of exper...</td>\n",
       "      <td>Peoplesoft</td>\n",
       "    </tr>\n",
       "    <tr>\n",
       "      <th>11</th>\n",
       "      <td>PeopleSoft Database Administrator             ...</td>\n",
       "      <td>Peoplesoft</td>\n",
       "    </tr>\n",
       "    <tr>\n",
       "      <th>12</th>\n",
       "      <td>Priyanka Ramadoss 61/46, MountPleasant,  Coono...</td>\n",
       "      <td>Peoplesoft</td>\n",
       "    </tr>\n",
       "    <tr>\n",
       "      <th>13</th>\n",
       "      <td>PEOPLESOFT ADMINISTRATOR SRINIVAS.K        Exp...</td>\n",
       "      <td>Peoplesoft</td>\n",
       "    </tr>\n",
       "    <tr>\n",
       "      <th>14</th>\n",
       "      <td>Vinod Akkala                                  ...</td>\n",
       "      <td>Peoplesoft</td>\n",
       "    </tr>\n",
       "    <tr>\n",
       "      <th>15</th>\n",
       "      <td>PeopleSoft Admin/PeopleSoft DBA Ganesh Alladi...</td>\n",
       "      <td>Peoplesoft</td>\n",
       "    </tr>\n",
       "    <tr>\n",
       "      <th>16</th>\n",
       "      <td>Arun Venu   EXPERIENCE SUMMARY  Experience of ...</td>\n",
       "      <td>Peoplesoft</td>\n",
       "    </tr>\n",
       "    <tr>\n",
       "      <th>17</th>\n",
       "      <td>Personal Details   \u0007 \u0007Name \u0007Pritam Biswas \u0007 \u0007D...</td>\n",
       "      <td>Peoplesoft</td>\n",
       "    </tr>\n",
       "    <tr>\n",
       "      <th>18</th>\n",
       "      <td>Rahul Ahuja ----------------------------------...</td>\n",
       "      <td>Peoplesoft</td>\n",
       "    </tr>\n",
       "    <tr>\n",
       "      <th>19</th>\n",
       "      <td>R Ahmed                                       ...</td>\n",
       "      <td>Peoplesoft</td>\n",
       "    </tr>\n",
       "  </tbody>\n",
       "</table>\n",
       "</div>"
      ],
      "text/plain": [
       "                                              Resumes    Catagory\n",
       "0   Anubhav Kumar Singh   Core Competencies: Scrip...  Peoplesoft\n",
       "1   Classification: Internal Classification: Inter...  Peoplesoft\n",
       "2   SIRAZUDDIN M  Bangalore, INDIA  SIRAZUDDIN M  ...  Peoplesoft\n",
       "3   PeopleSoft Admin VARKALA VIKAS Career Objectiv...  Peoplesoft\n",
       "4   PeopleSoft Administration   Vivekanand Sayana ...  Peoplesoft\n",
       "5   Hari Narayana                    PROFESSIONAL ...  Peoplesoft\n",
       "6   Murali            PROFESSIONAL SUMMARY Having ...  Peoplesoft\n",
       "7   Priyabrata Hota CAREER OBJECTIVE   Pursuing Pe...  Peoplesoft\n",
       "8   Tanna Sujatha  OBJECTIVE Seeking a challenging...  Peoplesoft\n",
       "9   C O N T A C T : Address: Manyata Tech Park, Na...  Peoplesoft\n",
       "10    Profile Summary:           7+ years of exper...  Peoplesoft\n",
       "11  PeopleSoft Database Administrator             ...  Peoplesoft\n",
       "12  Priyanka Ramadoss 61/46, MountPleasant,  Coono...  Peoplesoft\n",
       "13  PEOPLESOFT ADMINISTRATOR SRINIVAS.K        Exp...  Peoplesoft\n",
       "14  Vinod Akkala                                  ...  Peoplesoft\n",
       "15   PeopleSoft Admin/PeopleSoft DBA Ganesh Alladi...  Peoplesoft\n",
       "16  Arun Venu   EXPERIENCE SUMMARY  Experience of ...  Peoplesoft\n",
       "17  Personal Details   \u0007 \u0007Name \u0007Pritam Biswas \u0007 \u0007D...  Peoplesoft\n",
       "18  Rahul Ahuja ----------------------------------...  Peoplesoft\n",
       "19  R Ahmed                                       ...  Peoplesoft"
      ]
     },
     "execution_count": 33,
     "metadata": {},
     "output_type": "execute_result"
    }
   ],
   "source": [
    "peoplesoft_df = pd.concat([df1, df2], axis=0,ignore_index=1)\n",
    "peoplesoft_df"
   ]
  },
  {
   "cell_type": "code",
   "execution_count": null,
   "id": "cbb05b9f",
   "metadata": {},
   "outputs": [],
   "source": []
  },
  {
   "cell_type": "markdown",
   "id": "9b635c97",
   "metadata": {},
   "source": [
    "#### Changing the directory to 'SQL Developer Lightning insight' folder"
   ]
  },
  {
   "cell_type": "code",
   "execution_count": 34,
   "id": "03611973",
   "metadata": {},
   "outputs": [
    {
     "data": {
      "text/plain": [
       "'D:\\\\EXCELR\\\\Resume Classification NLP project\\\\Resumes\\\\Peoplesoft resumes'"
      ]
     },
     "execution_count": 34,
     "metadata": {},
     "output_type": "execute_result"
    }
   ],
   "source": [
    "os.getcwd()"
   ]
  },
  {
   "cell_type": "code",
   "execution_count": 35,
   "id": "2f449373",
   "metadata": {},
   "outputs": [],
   "source": [
    "os.chdir(\"../\")"
   ]
  },
  {
   "cell_type": "code",
   "execution_count": 36,
   "id": "a55dbd65",
   "metadata": {},
   "outputs": [
    {
     "data": {
      "text/plain": [
       "'D:\\\\EXCELR\\\\Resume Classification NLP project\\\\Resumes'"
      ]
     },
     "execution_count": 36,
     "metadata": {},
     "output_type": "execute_result"
    }
   ],
   "source": [
    "os.getcwd()"
   ]
  },
  {
   "cell_type": "code",
   "execution_count": 37,
   "id": "ec72b6d4",
   "metadata": {},
   "outputs": [
    {
     "data": {
      "text/plain": [
       "['Internship_Ravali_Musquare Technologies (1).docx',\n",
       " 'Internship_Susovan Bag_Musquare Technologies.docx',\n",
       " 'Peoplesoft resumes',\n",
       " 'React Developer_Deepakreddy.docx',\n",
       " 'React Developer_Haripriya.docx',\n",
       " 'React Developer_Kamalakar Reddy.docx',\n",
       " 'React Developer_Naveen sadhu.docx',\n",
       " 'React Developer_PavasGoswami.doc',\n",
       " 'React Developer_Pragnya.docx',\n",
       " 'React Developer_Sarala Madasu-converted.docx',\n",
       " 'React Developer_Thirupathiamma.docx',\n",
       " 'React Developer_Vinay Reddy.doc',\n",
       " 'React Dev_Krishna Kanth.docx',\n",
       " 'React Dev_Krishna Kanth_Musquare Technologies.docx',\n",
       " 'React JS Developer_AnjaniPriyadarshini.doc',\n",
       " 'React JS Developer_KotaniDurgaprasad[3_1] (1)-converted.docx',\n",
       " 'React JS Developer_Venkatalakshmi (1)-converted.docx',\n",
       " 'Reactjs Developer_kambala sai surendra_Musquare Technologies.docx',\n",
       " 'Reactjs Developer_M Lokesh Babu_Musquare Technologies.docx',\n",
       " 'Reactjs Developer_M Lokesh.docx',\n",
       " 'Reactjs Developer_MD Khizaruddin Rauf _Musquare Technologies.docx',\n",
       " 'Reactjs Developer_Prabakaran_Musquare Technologies.pdf',\n",
       " 'Reactjs Developer_Pranish Sonone_Musquare Technologies.docx',\n",
       " 'Reactjs Developer_Ranga Gaganam_Musquare Technologies.docx',\n",
       " 'Reactjs Developer_Shaik Abdul Sharuk_Musquare Technologies.docx',\n",
       " 'SQL Developer Lightning insight',\n",
       " 'workday resumes']"
      ]
     },
     "execution_count": 37,
     "metadata": {},
     "output_type": "execute_result"
    }
   ],
   "source": [
    "os.listdir()"
   ]
  },
  {
   "cell_type": "markdown",
   "id": "64ebb8d2",
   "metadata": {},
   "source": [
    "### SQL Developer Lightning insight folder"
   ]
  },
  {
   "cell_type": "code",
   "execution_count": 38,
   "id": "596810b7",
   "metadata": {},
   "outputs": [],
   "source": [
    "os.chdir('SQL Developer Lightning insight')"
   ]
  },
  {
   "cell_type": "code",
   "execution_count": 39,
   "id": "8eefea48",
   "metadata": {},
   "outputs": [
    {
     "data": {
      "text/plain": [
       "'D:\\\\EXCELR\\\\Resume Classification NLP project\\\\Resumes\\\\SQL Developer Lightning insight'"
      ]
     },
     "execution_count": 39,
     "metadata": {},
     "output_type": "execute_result"
    }
   ],
   "source": [
    "os.getcwd()"
   ]
  },
  {
   "cell_type": "code",
   "execution_count": 40,
   "id": "fc0e96a0",
   "metadata": {},
   "outputs": [
    {
     "data": {
      "text/plain": [
       "['Anil kumar.docx',\n",
       " 'AradhanaTripathi[4_0].docx',\n",
       " 'Buddha Vamsi.docx',\n",
       " 'kamballapradeep.docx',\n",
       " 'Nazeer Basha.doc',\n",
       " 'Neeraj Mishra.docx',\n",
       " 'premsai.docx',\n",
       " 'Priyanka L.doc',\n",
       " 'PSyamKumar[2_3].docx',\n",
       " 'Rajupavanakumari[2_10].docx',\n",
       " 'Ramalakshmi K.docx',\n",
       " 'RameshNataru[3_4].docx',\n",
       " 'Tatikonda Kiran Kumar.doc',\n",
       " 'Vinod B.docx']"
      ]
     },
     "execution_count": 40,
     "metadata": {},
     "output_type": "execute_result"
    }
   ],
   "source": [
    "os.listdir()"
   ]
  },
  {
   "cell_type": "markdown",
   "id": "7d749cd4",
   "metadata": {},
   "source": [
    "#### Reading .docx files "
   ]
  },
  {
   "cell_type": "code",
   "execution_count": 41,
   "id": "e3c53fa7",
   "metadata": {},
   "outputs": [],
   "source": [
    "sql_data_docx=[]\n",
    "for file in os.listdir():\n",
    "    if file.endswith(\".docx\"):\n",
    "        resume=extract_text_from_docx(file)\n",
    "        sql_data_docx.append(resume)"
   ]
  },
  {
   "cell_type": "code",
   "execution_count": 42,
   "id": "470412a0",
   "metadata": {},
   "outputs": [
    {
     "data": {
      "text/plain": [
       "11"
      ]
     },
     "execution_count": 42,
     "metadata": {},
     "output_type": "execute_result"
    }
   ],
   "source": [
    "len(sql_data_docx)"
   ]
  },
  {
   "cell_type": "code",
   "execution_count": 43,
   "id": "b628949b",
   "metadata": {},
   "outputs": [
    {
     "data": {
      "text/html": [
       "<div>\n",
       "<style scoped>\n",
       "    .dataframe tbody tr th:only-of-type {\n",
       "        vertical-align: middle;\n",
       "    }\n",
       "\n",
       "    .dataframe tbody tr th {\n",
       "        vertical-align: top;\n",
       "    }\n",
       "\n",
       "    .dataframe thead th {\n",
       "        text-align: right;\n",
       "    }\n",
       "</style>\n",
       "<table border=\"1\" class=\"dataframe\">\n",
       "  <thead>\n",
       "    <tr style=\"text-align: right;\">\n",
       "      <th></th>\n",
       "      <th>Resumes</th>\n",
       "      <th>Catagory</th>\n",
       "    </tr>\n",
       "  </thead>\n",
       "  <tbody>\n",
       "    <tr>\n",
       "      <th>0</th>\n",
       "      <td>ANIL KUMAR MADDUKURI     SQL &amp; MSBI Developer ...</td>\n",
       "      <td>SQL_Developer</td>\n",
       "    </tr>\n",
       "    <tr>\n",
       "      <th>1</th>\n",
       "      <td>Aradhana Tripathi Current Location: Gachibowli...</td>\n",
       "      <td>SQL_Developer</td>\n",
       "    </tr>\n",
       "    <tr>\n",
       "      <th>2</th>\n",
       "      <td>BUDDHA VAMSI                                  ...</td>\n",
       "      <td>SQL_Developer</td>\n",
       "    </tr>\n",
       "    <tr>\n",
       "      <th>3</th>\n",
       "      <td>KAMBALLA PRADEEP                              ...</td>\n",
       "      <td>SQL_Developer</td>\n",
       "    </tr>\n",
       "    <tr>\n",
       "      <th>4</th>\n",
       "      <td>Resume Name     :  Neeraj Mishra Experience Su...</td>\n",
       "      <td>SQL_Developer</td>\n",
       "    </tr>\n",
       "    <tr>\n",
       "      <th>5</th>\n",
       "      <td>SQL DEVELOPER Name: -   Bandi prem sai Career ...</td>\n",
       "      <td>SQL_Developer</td>\n",
       "    </tr>\n",
       "    <tr>\n",
       "      <th>6</th>\n",
       "      <td>SQL SERVER DEVELOPER P. Syam Kumar            ...</td>\n",
       "      <td>SQL_Developer</td>\n",
       "    </tr>\n",
       "    <tr>\n",
       "      <th>7</th>\n",
       "      <td>RAJU PAVANA KUMARI    Professional Summary: Ha...</td>\n",
       "      <td>SQL_Developer</td>\n",
       "    </tr>\n",
       "    <tr>\n",
       "      <th>8</th>\n",
       "      <td>resume             Ramalakshmi K              ...</td>\n",
       "      <td>SQL_Developer</td>\n",
       "    </tr>\n",
       "    <tr>\n",
       "      <th>9</th>\n",
       "      <td>Name: Ramesh    Career Objective:             ...</td>\n",
       "      <td>SQL_Developer</td>\n",
       "    </tr>\n",
       "    <tr>\n",
       "      <th>10</th>\n",
       "      <td>SQL AND MSBI DEVELOPER SQL AND MSBI DEVELOPER ...</td>\n",
       "      <td>SQL_Developer</td>\n",
       "    </tr>\n",
       "  </tbody>\n",
       "</table>\n",
       "</div>"
      ],
      "text/plain": [
       "                                              Resumes       Catagory\n",
       "0   ANIL KUMAR MADDUKURI     SQL & MSBI Developer ...  SQL_Developer\n",
       "1   Aradhana Tripathi Current Location: Gachibowli...  SQL_Developer\n",
       "2   BUDDHA VAMSI                                  ...  SQL_Developer\n",
       "3   KAMBALLA PRADEEP                              ...  SQL_Developer\n",
       "4   Resume Name     :  Neeraj Mishra Experience Su...  SQL_Developer\n",
       "5   SQL DEVELOPER Name: -   Bandi prem sai Career ...  SQL_Developer\n",
       "6   SQL SERVER DEVELOPER P. Syam Kumar            ...  SQL_Developer\n",
       "7   RAJU PAVANA KUMARI    Professional Summary: Ha...  SQL_Developer\n",
       "8   resume             Ramalakshmi K              ...  SQL_Developer\n",
       "9   Name: Ramesh    Career Objective:             ...  SQL_Developer\n",
       "10  SQL AND MSBI DEVELOPER SQL AND MSBI DEVELOPER ...  SQL_Developer"
      ]
     },
     "execution_count": 43,
     "metadata": {},
     "output_type": "execute_result"
    }
   ],
   "source": [
    "sql_df1=pd.DataFrame(sql_data_docx,columns=[\"Resumes\"])  \n",
    "sql_df1[\"Catagory\"]=\"SQL_Developer\"\n",
    "sql_df1"
   ]
  },
  {
   "cell_type": "code",
   "execution_count": null,
   "id": "78024ae4",
   "metadata": {},
   "outputs": [],
   "source": []
  },
  {
   "cell_type": "markdown",
   "id": "8d71f5d5",
   "metadata": {},
   "source": [
    "#### Reading .doc files"
   ]
  },
  {
   "cell_type": "code",
   "execution_count": 44,
   "id": "f8379d3c",
   "metadata": {},
   "outputs": [
    {
     "data": {
      "text/plain": [
       "['D:\\\\EXCELR\\\\Resume Classification NLP project\\\\Resumes\\\\SQL Developer Lightning insight\\\\Nazeer Basha.doc',\n",
       " 'D:\\\\EXCELR\\\\Resume Classification NLP project\\\\Resumes\\\\SQL Developer Lightning insight\\\\Priyanka L.doc',\n",
       " 'D:\\\\EXCELR\\\\Resume Classification NLP project\\\\Resumes\\\\SQL Developer Lightning insight\\\\Tatikonda Kiran Kumar.doc']"
      ]
     },
     "execution_count": 44,
     "metadata": {},
     "output_type": "execute_result"
    }
   ],
   "source": [
    "sql_file =glob.glob(os.path.join(os.getcwd(),\"*.doc\"))\n",
    "sql_file"
   ]
  },
  {
   "cell_type": "code",
   "execution_count": 45,
   "id": "abca795e",
   "metadata": {},
   "outputs": [],
   "source": [
    "sql_data_doc=[]\n",
    "for file in sql_file:\n",
    "    resume=extract_text_from_doc(file)\n",
    "    sql_data_doc.append(resume)"
   ]
  },
  {
   "cell_type": "code",
   "execution_count": 46,
   "id": "afc0e16a",
   "metadata": {},
   "outputs": [
    {
     "data": {
      "text/plain": [
       "3"
      ]
     },
     "execution_count": 46,
     "metadata": {},
     "output_type": "execute_result"
    }
   ],
   "source": [
    "len(sql_data_doc)"
   ]
  },
  {
   "cell_type": "code",
   "execution_count": 47,
   "id": "3dc824d6",
   "metadata": {},
   "outputs": [
    {
     "data": {
      "text/html": [
       "<div>\n",
       "<style scoped>\n",
       "    .dataframe tbody tr th:only-of-type {\n",
       "        vertical-align: middle;\n",
       "    }\n",
       "\n",
       "    .dataframe tbody tr th {\n",
       "        vertical-align: top;\n",
       "    }\n",
       "\n",
       "    .dataframe thead th {\n",
       "        text-align: right;\n",
       "    }\n",
       "</style>\n",
       "<table border=\"1\" class=\"dataframe\">\n",
       "  <thead>\n",
       "    <tr style=\"text-align: right;\">\n",
       "      <th></th>\n",
       "      <th>Resumes</th>\n",
       "      <th>Catagory</th>\n",
       "    </tr>\n",
       "  </thead>\n",
       "  <tbody>\n",
       "    <tr>\n",
       "      <th>0</th>\n",
       "      <td> Hyderabad \u000eNazeer Basha SQL and Power BI D...</td>\n",
       "      <td>SQL_Developer</td>\n",
       "    </tr>\n",
       "    <tr>\n",
       "      <th>1</th>\n",
       "      <td>SQL SER...</td>\n",
       "      <td>SQL_Developer</td>\n",
       "    </tr>\n",
       "    <tr>\n",
       "      <th>2</th>\n",
       "      <td>Career objective   A rewarding opportunity in ...</td>\n",
       "      <td>SQL_Developer</td>\n",
       "    </tr>\n",
       "  </tbody>\n",
       "</table>\n",
       "</div>"
      ],
      "text/plain": [
       "                                             Resumes       Catagory\n",
       "0  \n",
       "  Hyderabad \u000eNazeer Basha SQL and Power BI D...  SQL_Developer\n",
       "1                                         SQL SER...  SQL_Developer\n",
       "2  Career objective   A rewarding opportunity in ...  SQL_Developer"
      ]
     },
     "execution_count": 47,
     "metadata": {},
     "output_type": "execute_result"
    }
   ],
   "source": [
    "sql_df2=pd.DataFrame(sql_data_doc,columns=[\"Resumes\"])  \n",
    "sql_df2[\"Catagory\"]=\"SQL_Developer\"\n",
    "sql_df2"
   ]
  },
  {
   "cell_type": "markdown",
   "id": "db35a8f0",
   "metadata": {},
   "source": [
    "##### Combining both dataframes "
   ]
  },
  {
   "cell_type": "code",
   "execution_count": 48,
   "id": "9d545ac5",
   "metadata": {},
   "outputs": [
    {
     "data": {
      "text/html": [
       "<div>\n",
       "<style scoped>\n",
       "    .dataframe tbody tr th:only-of-type {\n",
       "        vertical-align: middle;\n",
       "    }\n",
       "\n",
       "    .dataframe tbody tr th {\n",
       "        vertical-align: top;\n",
       "    }\n",
       "\n",
       "    .dataframe thead th {\n",
       "        text-align: right;\n",
       "    }\n",
       "</style>\n",
       "<table border=\"1\" class=\"dataframe\">\n",
       "  <thead>\n",
       "    <tr style=\"text-align: right;\">\n",
       "      <th></th>\n",
       "      <th>Resumes</th>\n",
       "      <th>Catagory</th>\n",
       "    </tr>\n",
       "  </thead>\n",
       "  <tbody>\n",
       "    <tr>\n",
       "      <th>0</th>\n",
       "      <td>ANIL KUMAR MADDUKURI     SQL &amp; MSBI Developer ...</td>\n",
       "      <td>SQL_Developer</td>\n",
       "    </tr>\n",
       "    <tr>\n",
       "      <th>1</th>\n",
       "      <td>Aradhana Tripathi Current Location: Gachibowli...</td>\n",
       "      <td>SQL_Developer</td>\n",
       "    </tr>\n",
       "    <tr>\n",
       "      <th>2</th>\n",
       "      <td>BUDDHA VAMSI                                  ...</td>\n",
       "      <td>SQL_Developer</td>\n",
       "    </tr>\n",
       "    <tr>\n",
       "      <th>3</th>\n",
       "      <td>KAMBALLA PRADEEP                              ...</td>\n",
       "      <td>SQL_Developer</td>\n",
       "    </tr>\n",
       "    <tr>\n",
       "      <th>4</th>\n",
       "      <td>Resume Name     :  Neeraj Mishra Experience Su...</td>\n",
       "      <td>SQL_Developer</td>\n",
       "    </tr>\n",
       "    <tr>\n",
       "      <th>5</th>\n",
       "      <td>SQL DEVELOPER Name: -   Bandi prem sai Career ...</td>\n",
       "      <td>SQL_Developer</td>\n",
       "    </tr>\n",
       "    <tr>\n",
       "      <th>6</th>\n",
       "      <td>SQL SERVER DEVELOPER P. Syam Kumar            ...</td>\n",
       "      <td>SQL_Developer</td>\n",
       "    </tr>\n",
       "    <tr>\n",
       "      <th>7</th>\n",
       "      <td>RAJU PAVANA KUMARI    Professional Summary: Ha...</td>\n",
       "      <td>SQL_Developer</td>\n",
       "    </tr>\n",
       "    <tr>\n",
       "      <th>8</th>\n",
       "      <td>resume             Ramalakshmi K              ...</td>\n",
       "      <td>SQL_Developer</td>\n",
       "    </tr>\n",
       "    <tr>\n",
       "      <th>9</th>\n",
       "      <td>Name: Ramesh    Career Objective:             ...</td>\n",
       "      <td>SQL_Developer</td>\n",
       "    </tr>\n",
       "    <tr>\n",
       "      <th>10</th>\n",
       "      <td>SQL AND MSBI DEVELOPER SQL AND MSBI DEVELOPER ...</td>\n",
       "      <td>SQL_Developer</td>\n",
       "    </tr>\n",
       "    <tr>\n",
       "      <th>11</th>\n",
       "      <td> Hyderabad \u000eNazeer Basha SQL and Power BI D...</td>\n",
       "      <td>SQL_Developer</td>\n",
       "    </tr>\n",
       "    <tr>\n",
       "      <th>12</th>\n",
       "      <td>SQL SER...</td>\n",
       "      <td>SQL_Developer</td>\n",
       "    </tr>\n",
       "    <tr>\n",
       "      <th>13</th>\n",
       "      <td>Career objective   A rewarding opportunity in ...</td>\n",
       "      <td>SQL_Developer</td>\n",
       "    </tr>\n",
       "  </tbody>\n",
       "</table>\n",
       "</div>"
      ],
      "text/plain": [
       "                                              Resumes       Catagory\n",
       "0   ANIL KUMAR MADDUKURI     SQL & MSBI Developer ...  SQL_Developer\n",
       "1   Aradhana Tripathi Current Location: Gachibowli...  SQL_Developer\n",
       "2   BUDDHA VAMSI                                  ...  SQL_Developer\n",
       "3   KAMBALLA PRADEEP                              ...  SQL_Developer\n",
       "4   Resume Name     :  Neeraj Mishra Experience Su...  SQL_Developer\n",
       "5   SQL DEVELOPER Name: -   Bandi prem sai Career ...  SQL_Developer\n",
       "6   SQL SERVER DEVELOPER P. Syam Kumar            ...  SQL_Developer\n",
       "7   RAJU PAVANA KUMARI    Professional Summary: Ha...  SQL_Developer\n",
       "8   resume             Ramalakshmi K              ...  SQL_Developer\n",
       "9   Name: Ramesh    Career Objective:             ...  SQL_Developer\n",
       "10  SQL AND MSBI DEVELOPER SQL AND MSBI DEVELOPER ...  SQL_Developer\n",
       "11  \n",
       "  Hyderabad \u000eNazeer Basha SQL and Power BI D...  SQL_Developer\n",
       "12                                         SQL SER...  SQL_Developer\n",
       "13  Career objective   A rewarding opportunity in ...  SQL_Developer"
      ]
     },
     "execution_count": 48,
     "metadata": {},
     "output_type": "execute_result"
    }
   ],
   "source": [
    "sql_df = pd.concat([sql_df1, sql_df2], axis=0,ignore_index=1)\n",
    "sql_df"
   ]
  },
  {
   "cell_type": "code",
   "execution_count": null,
   "id": "a8778e66",
   "metadata": {},
   "outputs": [],
   "source": []
  },
  {
   "cell_type": "markdown",
   "id": "aaf55400",
   "metadata": {},
   "source": [
    "###### Changing the directory to 'workday resumes'folder"
   ]
  },
  {
   "cell_type": "code",
   "execution_count": 49,
   "id": "0126308c",
   "metadata": {},
   "outputs": [
    {
     "data": {
      "text/plain": [
       "'D:\\\\EXCELR\\\\Resume Classification NLP project\\\\Resumes\\\\SQL Developer Lightning insight'"
      ]
     },
     "execution_count": 49,
     "metadata": {},
     "output_type": "execute_result"
    }
   ],
   "source": [
    "os.getcwd()"
   ]
  },
  {
   "cell_type": "code",
   "execution_count": 50,
   "id": "a184da8b",
   "metadata": {},
   "outputs": [],
   "source": [
    "os.chdir(\"../\")"
   ]
  },
  {
   "cell_type": "code",
   "execution_count": 51,
   "id": "1b2c2e93",
   "metadata": {},
   "outputs": [
    {
     "data": {
      "text/plain": [
       "'D:\\\\EXCELR\\\\Resume Classification NLP project\\\\Resumes'"
      ]
     },
     "execution_count": 51,
     "metadata": {},
     "output_type": "execute_result"
    }
   ],
   "source": [
    "os.getcwd()"
   ]
  },
  {
   "cell_type": "code",
   "execution_count": 52,
   "id": "ec89e035",
   "metadata": {},
   "outputs": [
    {
     "data": {
      "text/plain": [
       "['Internship_Ravali_Musquare Technologies (1).docx',\n",
       " 'Internship_Susovan Bag_Musquare Technologies.docx',\n",
       " 'Peoplesoft resumes',\n",
       " 'React Developer_Deepakreddy.docx',\n",
       " 'React Developer_Haripriya.docx',\n",
       " 'React Developer_Kamalakar Reddy.docx',\n",
       " 'React Developer_Naveen sadhu.docx',\n",
       " 'React Developer_PavasGoswami.doc',\n",
       " 'React Developer_Pragnya.docx',\n",
       " 'React Developer_Sarala Madasu-converted.docx',\n",
       " 'React Developer_Thirupathiamma.docx',\n",
       " 'React Developer_Vinay Reddy.doc',\n",
       " 'React Dev_Krishna Kanth.docx',\n",
       " 'React Dev_Krishna Kanth_Musquare Technologies.docx',\n",
       " 'React JS Developer_AnjaniPriyadarshini.doc',\n",
       " 'React JS Developer_KotaniDurgaprasad[3_1] (1)-converted.docx',\n",
       " 'React JS Developer_Venkatalakshmi (1)-converted.docx',\n",
       " 'Reactjs Developer_kambala sai surendra_Musquare Technologies.docx',\n",
       " 'Reactjs Developer_M Lokesh Babu_Musquare Technologies.docx',\n",
       " 'Reactjs Developer_M Lokesh.docx',\n",
       " 'Reactjs Developer_MD Khizaruddin Rauf _Musquare Technologies.docx',\n",
       " 'Reactjs Developer_Prabakaran_Musquare Technologies.pdf',\n",
       " 'Reactjs Developer_Pranish Sonone_Musquare Technologies.docx',\n",
       " 'Reactjs Developer_Ranga Gaganam_Musquare Technologies.docx',\n",
       " 'Reactjs Developer_Shaik Abdul Sharuk_Musquare Technologies.docx',\n",
       " 'SQL Developer Lightning insight',\n",
       " 'workday resumes']"
      ]
     },
     "execution_count": 52,
     "metadata": {},
     "output_type": "execute_result"
    }
   ],
   "source": [
    "os.listdir()"
   ]
  },
  {
   "cell_type": "markdown",
   "id": "c5ddf7e9",
   "metadata": {},
   "source": [
    "### 'workday resumes' Folder"
   ]
  },
  {
   "cell_type": "code",
   "execution_count": 53,
   "id": "1c566bc8",
   "metadata": {},
   "outputs": [],
   "source": [
    "os.chdir('workday resumes')"
   ]
  },
  {
   "cell_type": "code",
   "execution_count": 54,
   "id": "f27418f4",
   "metadata": {},
   "outputs": [
    {
     "data": {
      "text/plain": [
       "'D:\\\\EXCELR\\\\Resume Classification NLP project\\\\Resumes\\\\workday resumes'"
      ]
     },
     "execution_count": 54,
     "metadata": {},
     "output_type": "execute_result"
    }
   ],
   "source": [
    "os.getcwd()"
   ]
  },
  {
   "cell_type": "code",
   "execution_count": 55,
   "id": "3a337181",
   "metadata": {},
   "outputs": [
    {
     "data": {
      "text/plain": [
       "['ChinnaSubbarayuduM_Hexaware.docx',\n",
       " 'Gopi Krishna_Hexaware.docx',\n",
       " 'Hari Krishna M_Hexaware.doc',\n",
       " 'Harikrishna Akula_Hexaware.doc',\n",
       " 'Hima Mendu_Hexaware.doc',\n",
       " 'Himaja G_(Hexaware).docx',\n",
       " 'J. Sumanth Royal_Hexaware.doc',\n",
       " 'Jyotiverma_Heaware.docx',\n",
       " 'Madeeswar A_Hexaware.doc',\n",
       " 'MooraboyinaGuravaiah_Hexaware.docx',\n",
       " 'Naresh Babu Cherukuri_Hexaware.doc',\n",
       " 'P V Sai Krishna_ Hexaware.docx',\n",
       " 'Punugoti Swetha_Hexaware.doc',\n",
       " 'RahulM_Hexaware.docx',\n",
       " 'RameshP_Hexaware.docx',\n",
       " 'ShireeshKumar_Hexaware.doc',\n",
       " 'Sri Krishna S_Hexaware.doc',\n",
       " 'Srikanth-Hexaware.docx',\n",
       " 'SSKumar_Hexaware.docx',\n",
       " 'Venkateswarlu B_Hexaware.doc',\n",
       " 'Vinay Kumar_Hexaware.docx']"
      ]
     },
     "execution_count": 55,
     "metadata": {},
     "output_type": "execute_result"
    }
   ],
   "source": [
    "os.listdir()"
   ]
  },
  {
   "cell_type": "code",
   "execution_count": 56,
   "id": "8c3d9008",
   "metadata": {},
   "outputs": [
    {
     "data": {
      "text/plain": [
       "21"
      ]
     },
     "execution_count": 56,
     "metadata": {},
     "output_type": "execute_result"
    }
   ],
   "source": [
    "len(os.listdir())"
   ]
  },
  {
   "cell_type": "markdown",
   "id": "703c62d7",
   "metadata": {},
   "source": [
    "#### Reading .docx files in workday folder"
   ]
  },
  {
   "cell_type": "code",
   "execution_count": 57,
   "id": "8eb40f94",
   "metadata": {},
   "outputs": [],
   "source": [
    "workday_data_docx=[]\n",
    "for file in os.listdir():\n",
    "    if file.endswith(\".docx\"):\n",
    "        resume=extract_text_from_docx(file)\n",
    "        workday_data_docx.append(resume)"
   ]
  },
  {
   "cell_type": "code",
   "execution_count": 58,
   "id": "38217135",
   "metadata": {},
   "outputs": [
    {
     "data": {
      "text/plain": [
       "11"
      ]
     },
     "execution_count": 58,
     "metadata": {},
     "output_type": "execute_result"
    }
   ],
   "source": [
    "len(workday_data_docx)"
   ]
  },
  {
   "cell_type": "code",
   "execution_count": 59,
   "id": "ee8b6e6c",
   "metadata": {},
   "outputs": [
    {
     "data": {
      "text/html": [
       "<div>\n",
       "<style scoped>\n",
       "    .dataframe tbody tr th:only-of-type {\n",
       "        vertical-align: middle;\n",
       "    }\n",
       "\n",
       "    .dataframe tbody tr th {\n",
       "        vertical-align: top;\n",
       "    }\n",
       "\n",
       "    .dataframe thead th {\n",
       "        text-align: right;\n",
       "    }\n",
       "</style>\n",
       "<table border=\"1\" class=\"dataframe\">\n",
       "  <thead>\n",
       "    <tr style=\"text-align: right;\">\n",
       "      <th></th>\n",
       "      <th>Resumes</th>\n",
       "      <th>Catagory</th>\n",
       "    </tr>\n",
       "  </thead>\n",
       "  <tbody>\n",
       "    <tr>\n",
       "      <th>0</th>\n",
       "      <td>Chinna Subbarayudu M DOB: 06th March 1994 Nati...</td>\n",
       "      <td>workday</td>\n",
       "    </tr>\n",
       "    <tr>\n",
       "      <th>1</th>\n",
       "      <td>Name         : Gopi Krishna Reddy             ...</td>\n",
       "      <td>workday</td>\n",
       "    </tr>\n",
       "    <tr>\n",
       "      <th>2</th>\n",
       "      <td>G Himaja                                      ...</td>\n",
       "      <td>workday</td>\n",
       "    </tr>\n",
       "    <tr>\n",
       "      <th>3</th>\n",
       "      <td>JYOTI VERMA      PROFESSIONAL SUMMARY PROFESSI...</td>\n",
       "      <td>workday</td>\n",
       "    </tr>\n",
       "    <tr>\n",
       "      <th>4</th>\n",
       "      <td>Mooraboyina Guravaiah Workday Integration Spec...</td>\n",
       "      <td>workday</td>\n",
       "    </tr>\n",
       "    <tr>\n",
       "      <th>5</th>\n",
       "      <td>VENKATA SAIKRISHNA  Workday Consultant PROFSSI...</td>\n",
       "      <td>workday</td>\n",
       "    </tr>\n",
       "    <tr>\n",
       "      <th>6</th>\n",
       "      <td>Workday HCM  Techno functional Consultant     ...</td>\n",
       "      <td>workday</td>\n",
       "    </tr>\n",
       "    <tr>\n",
       "      <th>7</th>\n",
       "      <td>Ramesh A                      (Workday HCM Con...</td>\n",
       "      <td>workday</td>\n",
       "    </tr>\n",
       "    <tr>\n",
       "      <th>8</th>\n",
       "      <td>Srikanth (WORKDAY hCM Consultant)             ...</td>\n",
       "      <td>workday</td>\n",
       "    </tr>\n",
       "    <tr>\n",
       "      <th>9</th>\n",
       "      <td>WORKDAY | HCM | FCM Name   : Kumar S.S Role   ...</td>\n",
       "      <td>workday</td>\n",
       "    </tr>\n",
       "    <tr>\n",
       "      <th>10</th>\n",
       "      <td>Vinay kumar .v Workday Functional Consultant E...</td>\n",
       "      <td>workday</td>\n",
       "    </tr>\n",
       "  </tbody>\n",
       "</table>\n",
       "</div>"
      ],
      "text/plain": [
       "                                              Resumes Catagory\n",
       "0   Chinna Subbarayudu M DOB: 06th March 1994 Nati...  workday\n",
       "1   Name         : Gopi Krishna Reddy             ...  workday\n",
       "2   G Himaja                                      ...  workday\n",
       "3   JYOTI VERMA      PROFESSIONAL SUMMARY PROFESSI...  workday\n",
       "4   Mooraboyina Guravaiah Workday Integration Spec...  workday\n",
       "5   VENKATA SAIKRISHNA  Workday Consultant PROFSSI...  workday\n",
       "6   Workday HCM  Techno functional Consultant     ...  workday\n",
       "7   Ramesh A                      (Workday HCM Con...  workday\n",
       "8   Srikanth (WORKDAY hCM Consultant)             ...  workday\n",
       "9   WORKDAY | HCM | FCM Name   : Kumar S.S Role   ...  workday\n",
       "10  Vinay kumar .v Workday Functional Consultant E...  workday"
      ]
     },
     "execution_count": 59,
     "metadata": {},
     "output_type": "execute_result"
    }
   ],
   "source": [
    "workday_df1=pd.DataFrame(workday_data_docx,columns=[\"Resumes\"])  \n",
    "workday_df1[\"Catagory\"]=\"workday\"\n",
    "workday_df1"
   ]
  },
  {
   "cell_type": "markdown",
   "id": "ec9f6351",
   "metadata": {},
   "source": [
    "#### Reading .doc files"
   ]
  },
  {
   "cell_type": "code",
   "execution_count": 60,
   "id": "51b7faf4",
   "metadata": {},
   "outputs": [
    {
     "data": {
      "text/plain": [
       "['D:\\\\EXCELR\\\\Resume Classification NLP project\\\\Resumes\\\\workday resumes\\\\Hari Krishna M_Hexaware.doc',\n",
       " 'D:\\\\EXCELR\\\\Resume Classification NLP project\\\\Resumes\\\\workday resumes\\\\Harikrishna Akula_Hexaware.doc',\n",
       " 'D:\\\\EXCELR\\\\Resume Classification NLP project\\\\Resumes\\\\workday resumes\\\\Hima Mendu_Hexaware.doc',\n",
       " 'D:\\\\EXCELR\\\\Resume Classification NLP project\\\\Resumes\\\\workday resumes\\\\J. Sumanth Royal_Hexaware.doc',\n",
       " 'D:\\\\EXCELR\\\\Resume Classification NLP project\\\\Resumes\\\\workday resumes\\\\Madeeswar A_Hexaware.doc',\n",
       " 'D:\\\\EXCELR\\\\Resume Classification NLP project\\\\Resumes\\\\workday resumes\\\\Naresh Babu Cherukuri_Hexaware.doc',\n",
       " 'D:\\\\EXCELR\\\\Resume Classification NLP project\\\\Resumes\\\\workday resumes\\\\Punugoti Swetha_Hexaware.doc',\n",
       " 'D:\\\\EXCELR\\\\Resume Classification NLP project\\\\Resumes\\\\workday resumes\\\\ShireeshKumar_Hexaware.doc',\n",
       " 'D:\\\\EXCELR\\\\Resume Classification NLP project\\\\Resumes\\\\workday resumes\\\\Sri Krishna S_Hexaware.doc',\n",
       " 'D:\\\\EXCELR\\\\Resume Classification NLP project\\\\Resumes\\\\workday resumes\\\\Venkateswarlu B_Hexaware.doc']"
      ]
     },
     "execution_count": 60,
     "metadata": {},
     "output_type": "execute_result"
    }
   ],
   "source": [
    "workday_file =glob.glob(os.path.join(os.getcwd(),\"*.doc\"))\n",
    "workday_file"
   ]
  },
  {
   "cell_type": "code",
   "execution_count": 61,
   "id": "2a0cdc9a",
   "metadata": {},
   "outputs": [],
   "source": [
    "workday_data_doc=[]\n",
    "for file in workday_file:\n",
    "    resume=extract_text_from_doc(file)\n",
    "    workday_data_doc.append(resume)"
   ]
  },
  {
   "cell_type": "code",
   "execution_count": 62,
   "id": "2498a342",
   "metadata": {},
   "outputs": [
    {
     "data": {
      "text/plain": [
       "10"
      ]
     },
     "execution_count": 62,
     "metadata": {},
     "output_type": "execute_result"
    }
   ],
   "source": [
    "len(workday_data_doc)"
   ]
  },
  {
   "cell_type": "code",
   "execution_count": 63,
   "id": "f9deb955",
   "metadata": {},
   "outputs": [
    {
     "data": {
      "text/html": [
       "<div>\n",
       "<style scoped>\n",
       "    .dataframe tbody tr th:only-of-type {\n",
       "        vertical-align: middle;\n",
       "    }\n",
       "\n",
       "    .dataframe tbody tr th {\n",
       "        vertical-align: top;\n",
       "    }\n",
       "\n",
       "    .dataframe thead th {\n",
       "        text-align: right;\n",
       "    }\n",
       "</style>\n",
       "<table border=\"1\" class=\"dataframe\">\n",
       "  <thead>\n",
       "    <tr style=\"text-align: right;\">\n",
       "      <th></th>\n",
       "      <th>Resumes</th>\n",
       "      <th>Catagory</th>\n",
       "    </tr>\n",
       "  </thead>\n",
       "  <tbody>\n",
       "    <tr>\n",
       "      <th>0</th>\n",
       "      <td>Hari Krishna M Summary: A result oriented prof...</td>\n",
       "      <td>workday</td>\n",
       "    </tr>\n",
       "    <tr>\n",
       "      <th>1</th>\n",
       "      <td>Harikrishna Akula                             ...</td>\n",
       "      <td>workday</td>\n",
       "    </tr>\n",
       "    <tr>\n",
       "      <th>2</th>\n",
       "      <td>HIMA.MENDU    Career Objective To continue gro...</td>\n",
       "      <td>workday</td>\n",
       "    </tr>\n",
       "    <tr>\n",
       "      <th>3</th>\n",
       "      <td>\u0001       Name: J. Sumanth Royal.   PROFESSIONAL...</td>\n",
       "      <td>workday</td>\n",
       "    </tr>\n",
       "    <tr>\n",
       "      <th>4</th>\n",
       "      <td>Madeeswar A     PROFILE SUMMARY: Having a...</td>\n",
       "      <td>workday</td>\n",
       "    </tr>\n",
       "    <tr>\n",
       "      <th>5</th>\n",
       "      <td>Name : Naresh Babu Cherukuri Objective: To tak...</td>\n",
       "      <td>workday</td>\n",
       "    </tr>\n",
       "    <tr>\n",
       "      <th>6</th>\n",
       "      <td>\u0001\u0015 \u0001\u0015 3.3 years of IT experience as Workday HC...</td>\n",
       "      <td>workday</td>\n",
       "    </tr>\n",
       "    <tr>\n",
       "      <th>7</th>\n",
       "      <td>Shireesh Balasani                             ...</td>\n",
       "      <td>workday</td>\n",
       "    </tr>\n",
       "    <tr>\n",
       "      <th>8</th>\n",
       "      <td>Workday Integration Consultant Name         :...</td>\n",
       "      <td>workday</td>\n",
       "    </tr>\n",
       "    <tr>\n",
       "      <th>9</th>\n",
       "      <td>Venkateswarlu.B        Workday Consultant     ...</td>\n",
       "      <td>workday</td>\n",
       "    </tr>\n",
       "  </tbody>\n",
       "</table>\n",
       "</div>"
      ],
      "text/plain": [
       "                                             Resumes Catagory\n",
       "0  Hari Krishna M Summary: A result oriented prof...  workday\n",
       "1  Harikrishna Akula                             ...  workday\n",
       "2  HIMA.MENDU    Career Objective To continue gro...  workday\n",
       "3  \u0001       Name: J. Sumanth Royal.   PROFESSIONAL...  workday\n",
       "4       Madeeswar A     PROFILE SUMMARY: Having a...  workday\n",
       "5  Name : Naresh Babu Cherukuri Objective: To tak...  workday\n",
       "6  \u0001\u0015 \u0001\u0015 3.3 years of IT experience as Workday HC...  workday\n",
       "7  Shireesh Balasani                             ...  workday\n",
       "8   Workday Integration Consultant Name         :...  workday\n",
       "9  Venkateswarlu.B        Workday Consultant     ...  workday"
      ]
     },
     "execution_count": 63,
     "metadata": {},
     "output_type": "execute_result"
    }
   ],
   "source": [
    "workday_df2=pd.DataFrame(workday_data_doc,columns=[\"Resumes\"])  \n",
    "workday_df2[\"Catagory\"]=\"workday\"\n",
    "workday_df2"
   ]
  },
  {
   "cell_type": "markdown",
   "id": "a965d885",
   "metadata": {},
   "source": [
    "#### Combining both the data frames"
   ]
  },
  {
   "cell_type": "code",
   "execution_count": 64,
   "id": "12a743ae",
   "metadata": {},
   "outputs": [
    {
     "data": {
      "text/html": [
       "<div>\n",
       "<style scoped>\n",
       "    .dataframe tbody tr th:only-of-type {\n",
       "        vertical-align: middle;\n",
       "    }\n",
       "\n",
       "    .dataframe tbody tr th {\n",
       "        vertical-align: top;\n",
       "    }\n",
       "\n",
       "    .dataframe thead th {\n",
       "        text-align: right;\n",
       "    }\n",
       "</style>\n",
       "<table border=\"1\" class=\"dataframe\">\n",
       "  <thead>\n",
       "    <tr style=\"text-align: right;\">\n",
       "      <th></th>\n",
       "      <th>Resumes</th>\n",
       "      <th>Catagory</th>\n",
       "    </tr>\n",
       "  </thead>\n",
       "  <tbody>\n",
       "    <tr>\n",
       "      <th>0</th>\n",
       "      <td>Chinna Subbarayudu M DOB: 06th March 1994 Nati...</td>\n",
       "      <td>workday</td>\n",
       "    </tr>\n",
       "    <tr>\n",
       "      <th>1</th>\n",
       "      <td>Name         : Gopi Krishna Reddy             ...</td>\n",
       "      <td>workday</td>\n",
       "    </tr>\n",
       "    <tr>\n",
       "      <th>2</th>\n",
       "      <td>G Himaja                                      ...</td>\n",
       "      <td>workday</td>\n",
       "    </tr>\n",
       "    <tr>\n",
       "      <th>3</th>\n",
       "      <td>JYOTI VERMA      PROFESSIONAL SUMMARY PROFESSI...</td>\n",
       "      <td>workday</td>\n",
       "    </tr>\n",
       "    <tr>\n",
       "      <th>4</th>\n",
       "      <td>Mooraboyina Guravaiah Workday Integration Spec...</td>\n",
       "      <td>workday</td>\n",
       "    </tr>\n",
       "    <tr>\n",
       "      <th>5</th>\n",
       "      <td>VENKATA SAIKRISHNA  Workday Consultant PROFSSI...</td>\n",
       "      <td>workday</td>\n",
       "    </tr>\n",
       "    <tr>\n",
       "      <th>6</th>\n",
       "      <td>Workday HCM  Techno functional Consultant     ...</td>\n",
       "      <td>workday</td>\n",
       "    </tr>\n",
       "    <tr>\n",
       "      <th>7</th>\n",
       "      <td>Ramesh A                      (Workday HCM Con...</td>\n",
       "      <td>workday</td>\n",
       "    </tr>\n",
       "    <tr>\n",
       "      <th>8</th>\n",
       "      <td>Srikanth (WORKDAY hCM Consultant)             ...</td>\n",
       "      <td>workday</td>\n",
       "    </tr>\n",
       "    <tr>\n",
       "      <th>9</th>\n",
       "      <td>WORKDAY | HCM | FCM Name   : Kumar S.S Role   ...</td>\n",
       "      <td>workday</td>\n",
       "    </tr>\n",
       "    <tr>\n",
       "      <th>10</th>\n",
       "      <td>Vinay kumar .v Workday Functional Consultant E...</td>\n",
       "      <td>workday</td>\n",
       "    </tr>\n",
       "    <tr>\n",
       "      <th>11</th>\n",
       "      <td>Hari Krishna M Summary: A result oriented prof...</td>\n",
       "      <td>workday</td>\n",
       "    </tr>\n",
       "    <tr>\n",
       "      <th>12</th>\n",
       "      <td>Harikrishna Akula                             ...</td>\n",
       "      <td>workday</td>\n",
       "    </tr>\n",
       "    <tr>\n",
       "      <th>13</th>\n",
       "      <td>HIMA.MENDU    Career Objective To continue gro...</td>\n",
       "      <td>workday</td>\n",
       "    </tr>\n",
       "    <tr>\n",
       "      <th>14</th>\n",
       "      <td>\u0001       Name: J. Sumanth Royal.   PROFESSIONAL...</td>\n",
       "      <td>workday</td>\n",
       "    </tr>\n",
       "    <tr>\n",
       "      <th>15</th>\n",
       "      <td>Madeeswar A     PROFILE SUMMARY: Having a...</td>\n",
       "      <td>workday</td>\n",
       "    </tr>\n",
       "    <tr>\n",
       "      <th>16</th>\n",
       "      <td>Name : Naresh Babu Cherukuri Objective: To tak...</td>\n",
       "      <td>workday</td>\n",
       "    </tr>\n",
       "    <tr>\n",
       "      <th>17</th>\n",
       "      <td>\u0001\u0015 \u0001\u0015 3.3 years of IT experience as Workday HC...</td>\n",
       "      <td>workday</td>\n",
       "    </tr>\n",
       "    <tr>\n",
       "      <th>18</th>\n",
       "      <td>Shireesh Balasani                             ...</td>\n",
       "      <td>workday</td>\n",
       "    </tr>\n",
       "    <tr>\n",
       "      <th>19</th>\n",
       "      <td>Workday Integration Consultant Name         :...</td>\n",
       "      <td>workday</td>\n",
       "    </tr>\n",
       "    <tr>\n",
       "      <th>20</th>\n",
       "      <td>Venkateswarlu.B        Workday Consultant     ...</td>\n",
       "      <td>workday</td>\n",
       "    </tr>\n",
       "  </tbody>\n",
       "</table>\n",
       "</div>"
      ],
      "text/plain": [
       "                                              Resumes Catagory\n",
       "0   Chinna Subbarayudu M DOB: 06th March 1994 Nati...  workday\n",
       "1   Name         : Gopi Krishna Reddy             ...  workday\n",
       "2   G Himaja                                      ...  workday\n",
       "3   JYOTI VERMA      PROFESSIONAL SUMMARY PROFESSI...  workday\n",
       "4   Mooraboyina Guravaiah Workday Integration Spec...  workday\n",
       "5   VENKATA SAIKRISHNA  Workday Consultant PROFSSI...  workday\n",
       "6   Workday HCM  Techno functional Consultant     ...  workday\n",
       "7   Ramesh A                      (Workday HCM Con...  workday\n",
       "8   Srikanth (WORKDAY hCM Consultant)             ...  workday\n",
       "9   WORKDAY | HCM | FCM Name   : Kumar S.S Role   ...  workday\n",
       "10  Vinay kumar .v Workday Functional Consultant E...  workday\n",
       "11  Hari Krishna M Summary: A result oriented prof...  workday\n",
       "12  Harikrishna Akula                             ...  workday\n",
       "13  HIMA.MENDU    Career Objective To continue gro...  workday\n",
       "14  \u0001       Name: J. Sumanth Royal.   PROFESSIONAL...  workday\n",
       "15       Madeeswar A     PROFILE SUMMARY: Having a...  workday\n",
       "16  Name : Naresh Babu Cherukuri Objective: To tak...  workday\n",
       "17  \u0001\u0015 \u0001\u0015 3.3 years of IT experience as Workday HC...  workday\n",
       "18  Shireesh Balasani                             ...  workday\n",
       "19   Workday Integration Consultant Name         :...  workday\n",
       "20  Venkateswarlu.B        Workday Consultant     ...  workday"
      ]
     },
     "execution_count": 64,
     "metadata": {},
     "output_type": "execute_result"
    }
   ],
   "source": [
    "workday_df = pd.concat([workday_df1, workday_df2], axis=0,ignore_index=1)\n",
    "workday_df"
   ]
  },
  {
   "cell_type": "code",
   "execution_count": null,
   "id": "2dcb0f89",
   "metadata": {},
   "outputs": [],
   "source": []
  },
  {
   "cell_type": "code",
   "execution_count": 65,
   "id": "dad25682",
   "metadata": {},
   "outputs": [],
   "source": [
    "os.chdir(path)"
   ]
  },
  {
   "cell_type": "code",
   "execution_count": 66,
   "id": "b239ce13",
   "metadata": {},
   "outputs": [
    {
     "data": {
      "text/plain": [
       "'D:\\\\EXCELR\\\\Resume Classification NLP project\\\\Resumes'"
      ]
     },
     "execution_count": 66,
     "metadata": {},
     "output_type": "execute_result"
    }
   ],
   "source": [
    "os.getcwd()"
   ]
  },
  {
   "cell_type": "code",
   "execution_count": 68,
   "id": "a65d0804",
   "metadata": {},
   "outputs": [
    {
     "data": {
      "text/plain": [
       "['Internship_Ravali_Musquare Technologies (1).docx',\n",
       " 'Internship_Susovan Bag_Musquare Technologies.docx',\n",
       " 'Peoplesoft resumes',\n",
       " 'React Developer_Deepakreddy.docx',\n",
       " 'React Developer_Haripriya.docx',\n",
       " 'React Developer_Kamalakar Reddy.docx',\n",
       " 'React Developer_Naveen sadhu.docx',\n",
       " 'React Developer_PavasGoswami.doc',\n",
       " 'React Developer_Pragnya.docx',\n",
       " 'React Developer_Sarala Madasu-converted.docx',\n",
       " 'React Developer_Thirupathiamma.docx',\n",
       " 'React Developer_Vinay Reddy.doc',\n",
       " 'React Dev_Krishna Kanth.docx',\n",
       " 'React Dev_Krishna Kanth_Musquare Technologies.docx',\n",
       " 'React JS Developer_AnjaniPriyadarshini.doc',\n",
       " 'React JS Developer_KotaniDurgaprasad[3_1] (1)-converted.docx',\n",
       " 'React JS Developer_Venkatalakshmi (1)-converted.docx',\n",
       " 'Reactjs Developer_kambala sai surendra_Musquare Technologies.docx',\n",
       " 'Reactjs Developer_M Lokesh Babu_Musquare Technologies.docx',\n",
       " 'Reactjs Developer_M Lokesh.docx',\n",
       " 'Reactjs Developer_MD Khizaruddin Rauf _Musquare Technologies.docx',\n",
       " 'Reactjs Developer_Prabakaran_Musquare Technologies.pdf',\n",
       " 'Reactjs Developer_Pranish Sonone_Musquare Technologies.docx',\n",
       " 'Reactjs Developer_Ranga Gaganam_Musquare Technologies.docx',\n",
       " 'Reactjs Developer_Shaik Abdul Sharuk_Musquare Technologies.docx',\n",
       " 'SQL Developer Lightning insight',\n",
       " 'workday resumes']"
      ]
     },
     "execution_count": 68,
     "metadata": {},
     "output_type": "execute_result"
    }
   ],
   "source": [
    "os.listdir()"
   ]
  },
  {
   "cell_type": "code",
   "execution_count": null,
   "id": "fe7a5e81",
   "metadata": {},
   "outputs": [],
   "source": []
  },
  {
   "cell_type": "code",
   "execution_count": 69,
   "id": "1709aa5d",
   "metadata": {},
   "outputs": [],
   "source": [
    "reactjs_data_docx=[]\n",
    "for file in os.listdir():\n",
    "    if file.endswith(\".docx\"):\n",
    "        resume=extract_text_from_docx(file)\n",
    "        reactjs_data_docx.append(resume)"
   ]
  },
  {
   "cell_type": "code",
   "execution_count": 70,
   "id": "50108cd4",
   "metadata": {},
   "outputs": [
    {
     "data": {
      "text/plain": [
       "20"
      ]
     },
     "execution_count": 70,
     "metadata": {},
     "output_type": "execute_result"
    }
   ],
   "source": [
    "len(reactjs_data_docx)"
   ]
  },
  {
   "cell_type": "code",
   "execution_count": 71,
   "id": "ec0bd791",
   "metadata": {},
   "outputs": [
    {
     "data": {
      "text/html": [
       "<div>\n",
       "<style scoped>\n",
       "    .dataframe tbody tr th:only-of-type {\n",
       "        vertical-align: middle;\n",
       "    }\n",
       "\n",
       "    .dataframe tbody tr th {\n",
       "        vertical-align: top;\n",
       "    }\n",
       "\n",
       "    .dataframe thead th {\n",
       "        text-align: right;\n",
       "    }\n",
       "</style>\n",
       "<table border=\"1\" class=\"dataframe\">\n",
       "  <thead>\n",
       "    <tr style=\"text-align: right;\">\n",
       "      <th></th>\n",
       "      <th>Resumes</th>\n",
       "      <th>Catagory</th>\n",
       "    </tr>\n",
       "  </thead>\n",
       "  <tbody>\n",
       "    <tr>\n",
       "      <th>0</th>\n",
       "      <td>Name: Ravali P                                ...</td>\n",
       "      <td>Reactjs</td>\n",
       "    </tr>\n",
       "    <tr>\n",
       "      <th>1</th>\n",
       "      <td>SUSOVAN  BAG    Seeking  a  challenging  posit...</td>\n",
       "      <td>Reactjs</td>\n",
       "    </tr>\n",
       "    <tr>\n",
       "      <th>2</th>\n",
       "      <td>Kanumuru Deepak Reddy   CAREER OBJECTIVE: To s...</td>\n",
       "      <td>Reactjs</td>\n",
       "    </tr>\n",
       "    <tr>\n",
       "      <th>3</th>\n",
       "      <td>HARIPRIYA BATTINA  Experience as UI Developer ...</td>\n",
       "      <td>Reactjs</td>\n",
       "    </tr>\n",
       "    <tr>\n",
       "      <th>4</th>\n",
       "      <td>KAMALAKAR REDDY. A  Linked In: https://www.lin...</td>\n",
       "      <td>Reactjs</td>\n",
       "    </tr>\n",
       "    <tr>\n",
       "      <th>5</th>\n",
       "      <td>Naveen Sadhu Title: software developer        ...</td>\n",
       "      <td>Reactjs</td>\n",
       "    </tr>\n",
       "    <tr>\n",
       "      <th>6</th>\n",
       "      <td>PRAGNYA PATTNAIK        Expertise:    Having a...</td>\n",
       "      <td>Reactjs</td>\n",
       "    </tr>\n",
       "    <tr>\n",
       "      <th>7</th>\n",
       "      <td>SARALA MADASU SARALA MADASU  204,Sri geethika...</td>\n",
       "      <td>Reactjs</td>\n",
       "    </tr>\n",
       "    <tr>\n",
       "      <th>8</th>\n",
       "      <td>Thirupathamma Balla SUMMARY: 2.8 year of IT ex...</td>\n",
       "      <td>Reactjs</td>\n",
       "    </tr>\n",
       "    <tr>\n",
       "      <th>9</th>\n",
       "      <td>Ui-Developer/ React JS Developer  NAME: KRISHN...</td>\n",
       "      <td>Reactjs</td>\n",
       "    </tr>\n",
       "    <tr>\n",
       "      <th>10</th>\n",
       "      <td>Ui-Developer/ React JS Developer  NAME: KRISHN...</td>\n",
       "      <td>Reactjs</td>\n",
       "    </tr>\n",
       "    <tr>\n",
       "      <th>11</th>\n",
       "      <td>Kotani Durga Prasad Objective: Aspirant for a ...</td>\n",
       "      <td>Reactjs</td>\n",
       "    </tr>\n",
       "    <tr>\n",
       "      <th>12</th>\n",
       "      <td>Venkatalakshmi Pedireddy Software Developer Ex...</td>\n",
       "      <td>Reactjs</td>\n",
       "    </tr>\n",
       "    <tr>\n",
       "      <th>13</th>\n",
       "      <td>KAMBALA SAI SURENDRA          SUMMARY    PROJE...</td>\n",
       "      <td>Reactjs</td>\n",
       "    </tr>\n",
       "    <tr>\n",
       "      <th>14</th>\n",
       "      <td>MAREEDU LOKESH BABU PROFESSIONAL OVERVIEW     ...</td>\n",
       "      <td>Reactjs</td>\n",
       "    </tr>\n",
       "    <tr>\n",
       "      <th>15</th>\n",
       "      <td>MAREEDU LOKESH BABU PROFESSIONAL OVERVIEW     ...</td>\n",
       "      <td>Reactjs</td>\n",
       "    </tr>\n",
       "    <tr>\n",
       "      <th>16</th>\n",
       "      <td>MD KHIZARUDDIN RAUF     EXPERIENCE        ⇨ Cu...</td>\n",
       "      <td>Reactjs</td>\n",
       "    </tr>\n",
       "    <tr>\n",
       "      <th>17</th>\n",
       "      <td>Pranish Sonone    Career summary:    Experienc...</td>\n",
       "      <td>Reactjs</td>\n",
       "    </tr>\n",
       "    <tr>\n",
       "      <th>18</th>\n",
       "      <td>Ranga Gaganam     Professional   Summary:     ...</td>\n",
       "      <td>Reactjs</td>\n",
       "    </tr>\n",
       "    <tr>\n",
       "      <th>19</th>\n",
       "      <td>SHAIK ABDUL SHARUK    2 years’ Experience in W...</td>\n",
       "      <td>Reactjs</td>\n",
       "    </tr>\n",
       "  </tbody>\n",
       "</table>\n",
       "</div>"
      ],
      "text/plain": [
       "                                              Resumes Catagory\n",
       "0   Name: Ravali P                                ...  Reactjs\n",
       "1   SUSOVAN  BAG    Seeking  a  challenging  posit...  Reactjs\n",
       "2   Kanumuru Deepak Reddy   CAREER OBJECTIVE: To s...  Reactjs\n",
       "3   HARIPRIYA BATTINA  Experience as UI Developer ...  Reactjs\n",
       "4   KAMALAKAR REDDY. A  Linked In: https://www.lin...  Reactjs\n",
       "5   Naveen Sadhu Title: software developer        ...  Reactjs\n",
       "6   PRAGNYA PATTNAIK        Expertise:    Having a...  Reactjs\n",
       "7   SARALA MADASU SARALA MADASU  204,Sri geethika...  Reactjs\n",
       "8   Thirupathamma Balla SUMMARY: 2.8 year of IT ex...  Reactjs\n",
       "9   Ui-Developer/ React JS Developer  NAME: KRISHN...  Reactjs\n",
       "10  Ui-Developer/ React JS Developer  NAME: KRISHN...  Reactjs\n",
       "11  Kotani Durga Prasad Objective: Aspirant for a ...  Reactjs\n",
       "12  Venkatalakshmi Pedireddy Software Developer Ex...  Reactjs\n",
       "13  KAMBALA SAI SURENDRA          SUMMARY    PROJE...  Reactjs\n",
       "14  MAREEDU LOKESH BABU PROFESSIONAL OVERVIEW     ...  Reactjs\n",
       "15  MAREEDU LOKESH BABU PROFESSIONAL OVERVIEW     ...  Reactjs\n",
       "16  MD KHIZARUDDIN RAUF     EXPERIENCE        ⇨ Cu...  Reactjs\n",
       "17  Pranish Sonone    Career summary:    Experienc...  Reactjs\n",
       "18  Ranga Gaganam     Professional   Summary:     ...  Reactjs\n",
       "19  SHAIK ABDUL SHARUK    2 years’ Experience in W...  Reactjs"
      ]
     },
     "execution_count": 71,
     "metadata": {},
     "output_type": "execute_result"
    }
   ],
   "source": [
    "reactjs_df1=pd.DataFrame(reactjs_data_docx,columns=[\"Resumes\"])  \n",
    "reactjs_df1[\"Catagory\"]=\"Reactjs\"\n",
    "reactjs_df1"
   ]
  },
  {
   "cell_type": "code",
   "execution_count": null,
   "id": "a9d8052a",
   "metadata": {},
   "outputs": [],
   "source": []
  },
  {
   "cell_type": "code",
   "execution_count": 72,
   "id": "4086a9e8",
   "metadata": {},
   "outputs": [
    {
     "data": {
      "text/plain": [
       "['D:\\\\EXCELR\\\\Resume Classification NLP project\\\\Resumes\\\\React Developer_PavasGoswami.doc',\n",
       " 'D:\\\\EXCELR\\\\Resume Classification NLP project\\\\Resumes\\\\React Developer_Vinay Reddy.doc',\n",
       " 'D:\\\\EXCELR\\\\Resume Classification NLP project\\\\Resumes\\\\React JS Developer_AnjaniPriyadarshini.doc']"
      ]
     },
     "execution_count": 72,
     "metadata": {},
     "output_type": "execute_result"
    }
   ],
   "source": [
    "reactjs_file =glob.glob(os.path.join(os.getcwd(),\"*.doc\"))\n",
    "reactjs_file"
   ]
  },
  {
   "cell_type": "code",
   "execution_count": 73,
   "id": "4abbbfe6",
   "metadata": {},
   "outputs": [],
   "source": [
    "reactjs_data_doc=[]\n",
    "for file in reactjs_file:\n",
    "    resume=extract_text_from_doc(file)\n",
    "    reactjs_data_doc.append(resume)"
   ]
  },
  {
   "cell_type": "code",
   "execution_count": 74,
   "id": "75bda2e1",
   "metadata": {},
   "outputs": [
    {
     "data": {
      "text/plain": [
       "3"
      ]
     },
     "execution_count": 74,
     "metadata": {},
     "output_type": "execute_result"
    }
   ],
   "source": [
    "len(reactjs_data_doc)"
   ]
  },
  {
   "cell_type": "code",
   "execution_count": 75,
   "id": "e06b28b6",
   "metadata": {},
   "outputs": [
    {
     "data": {
      "text/html": [
       "<div>\n",
       "<style scoped>\n",
       "    .dataframe tbody tr th:only-of-type {\n",
       "        vertical-align: middle;\n",
       "    }\n",
       "\n",
       "    .dataframe tbody tr th {\n",
       "        vertical-align: top;\n",
       "    }\n",
       "\n",
       "    .dataframe thead th {\n",
       "        text-align: right;\n",
       "    }\n",
       "</style>\n",
       "<table border=\"1\" class=\"dataframe\">\n",
       "  <thead>\n",
       "    <tr style=\"text-align: right;\">\n",
       "      <th></th>\n",
       "      <th>Resumes</th>\n",
       "      <th>Catagory</th>\n",
       "    </tr>\n",
       "  </thead>\n",
       "  <tbody>\n",
       "    <tr>\n",
       "      <th>0</th>\n",
       "      <td>\u0001\u0015 \f",
       "PROFILE Searching for the opportunity to b...</td>\n",
       "      <td>Reactjs</td>\n",
       "    </tr>\n",
       "    <tr>\n",
       "      <th>1</th>\n",
       "      <td>Maryala Vinay Reddy Professional Summary:  Hav...</td>\n",
       "      <td>Reactjs</td>\n",
       "    </tr>\n",
       "    <tr>\n",
       "      <th>2</th>\n",
       "      <td>CURRICULUM VITAE Anjani Priyadarshini Sr. Web ...</td>\n",
       "      <td>Reactjs</td>\n",
       "    </tr>\n",
       "  </tbody>\n",
       "</table>\n",
       "</div>"
      ],
      "text/plain": [
       "                                             Resumes Catagory\n",
       "0  \u0001\u0015 \n",
       "PROFILE Searching for the opportunity to b...  Reactjs\n",
       "1  Maryala Vinay Reddy Professional Summary:  Hav...  Reactjs\n",
       "2  CURRICULUM VITAE Anjani Priyadarshini Sr. Web ...  Reactjs"
      ]
     },
     "execution_count": 75,
     "metadata": {},
     "output_type": "execute_result"
    }
   ],
   "source": [
    "reactjs_df2=pd.DataFrame(reactjs_data_doc,columns=[\"Resumes\"])  \n",
    "reactjs_df2[\"Catagory\"]=\"Reactjs\"\n",
    "reactjs_df2"
   ]
  },
  {
   "cell_type": "code",
   "execution_count": null,
   "id": "0787c7c1",
   "metadata": {},
   "outputs": [],
   "source": []
  },
  {
   "cell_type": "code",
   "execution_count": null,
   "id": "fdba85f6",
   "metadata": {},
   "outputs": [],
   "source": []
  },
  {
   "cell_type": "code",
   "execution_count": 76,
   "id": "3641e0d1",
   "metadata": {},
   "outputs": [
    {
     "name": "stdout",
     "output_type": "stream",
     "text": [
      "   \n",
      "Page | 1  \n",
      " Name: M. Prabakaran  \n",
      "Title: UI Developer  \n",
      " \n",
      "PROFESSIONAL SUMMARY  \n",
      " \n",
      "● 2.4+ years of Professional IT experience as a software developer having knowledge on different UI based \n",
      "Application.  \n",
      "● Hands on experience in HTML, CSS, JS, ReactJS.   \n",
      "● Hands on experience in handling UI interaction, Design methodology.  \n",
      "● Handling In -App purchase, uploading and maintaining apps in play store.  \n",
      "● Hands on experience with customization over base -product depends on  client requirement.  \n",
      "● Cohesive team worker, having strong analytical, problem solving and interpersonal skills.  \n",
      " \n",
      "EDUCATION  \n",
      " \n",
      "● Completed on 2017 Bachelor of Technology (ECE) , PRIST University, Tamil Nadu.  \n",
      "● Completed on 2012 Higher Secondary , Mount Park Hr Sec School , Thiyagadurgam,  Tamil Nadu.  \n",
      "● Completed on 2010 SSLC , Krishnasamy Hr Sec School , Cuddalore,  Tamil Nadu.  \n",
      " \n",
      "SKILLS  \n",
      " \n",
      "Operating System  Windows, Unix,Mac  \n",
      "Programming Languages  HTML, CSS, JS, React  \n",
      "Mobile App Development  Windows and Android Apps  \n",
      "Designing  Constatinant layout ,Motion layout  \n",
      "Architectural Pattern  MVC  \n",
      "IDE  Android Studio  \n",
      "Services  AWS bucket s3 service, Bitbucket  \n",
      " \n",
      "PROJECT DETAILS  \n",
      " \n",
      "Project 1 \n",
      "Boomi is the name of the our project which is e -commerce online store. We’d developed and maintains by react \n",
      "code.  \n",
      "Role  Front End  Developer  \n",
      "Project  E-commerce  \n",
      "Technology  Android  \n",
      "Role Played  ● Developing applications using Technologies like React and HTML.  \n",
      "● Involved in Requirement Gathering.  \n",
      "● Resolving client given queries.  \n",
      "● Communicating with the team and adding features.  \n",
      "● Performed Restful API services using volley.  \n",
      " \n",
      " \n",
      " \n",
      "   \n",
      "Page | 2  \n",
      " Project 2  \n",
      "Golden Gopuram – This’s the live project it is pooja based on products seems it going on development also \n",
      "available on source  \n",
      "Role  Front End Developer  \n",
      "Project  Golden Gopuram  \n",
      "Technology  Android  \n",
      "Role Played  ● Developing applications using Technologies like Java and XML.  \n",
      "● Involved in Requirement Gathering.  \n",
      "● Resolving client given queries.  \n",
      "● Communicating with the team and adding features.  \n",
      "● Performed Restful API services using volley.  \n",
      "● Implementing design patterns.  \n",
      " \n",
      " \n",
      "Project 3 \n",
      "ToDo App – This’s the myself created for my practice  seems it going on development also available on source  \n",
      "Role  Front End Developer  \n",
      "Project  ToDo App  \n",
      "Technology  Android  \n",
      "Role Played  ● Developing applications using Technologies like Java and XML.  \n",
      "● Involved in Requirement Gathering.  \n",
      "● Resolving client given queries.  \n",
      "● Communicating with the team and adding features.  \n",
      "● Performed Restful API services using volley.  \n",
      "● Implementing design patterns.  \n",
      " \n",
      " \n",
      "Basic Details:  \n",
      " \n",
      "DOB:   23/01/1995  \n",
      "PAN:   CCRPP0144B  \n",
      "Father Name:  Murugan,  \n",
      "Residency:  Cuddalore, Tamilnadu.  \n",
      " \n",
      " \n",
      " \n",
      " \n",
      " \n",
      " \n",
      " \n",
      " \n",
      " \n",
      "Date:            \n",
      "Place: Cuddalore         Prabakaran M  \n"
     ]
    }
   ],
   "source": [
    "import PyPDF2\n",
    "\n",
    "pdfName = \"D:\\EXCELR\\Resume Classification NLP project\\Resumes\\Reactjs Developer_Prabakaran_Musquare Technologies.pdf\"\n",
    "read_pdf = PyPDF2.PdfReader(pdfName)\n",
    "\n",
    "reactjs_data_pdf=[]\n",
    "for i in range(len(read_pdf.pages)):\n",
    "    page = read_pdf.pages[i]\n",
    "    page_content = page.extract_text()\n",
    "    \n",
    "    reactjs_data_pdf.append(page_content)\n",
    "    \n",
    "    print(page_content)"
   ]
  },
  {
   "cell_type": "code",
   "execution_count": 77,
   "id": "cacdb159",
   "metadata": {},
   "outputs": [
    {
     "data": {
      "text/plain": [
       "'    Page | 1    Name: M. Prabakaran   Title: UI Developer     PROFESSIONAL SUMMARY     ● 2.4+ years of Professional IT experience as a software developer having knowledge on different UI based  Application.   ● Hands on experience in HTML, CSS, JS, ReactJS.    ● Hands on experience in handling UI interaction, Design methodology.   ● Handling In -App purchase, uploading and maintaining apps in play store.   ● Hands on experience with customization over base -product depends on  client requirement.   ● Cohesive team worker, having strong analytical, problem solving and interpersonal skills.     EDUCATION     ● Completed on 2017 Bachelor of Technology (ECE) , PRIST University, Tamil Nadu.   ● Completed on 2012 Higher Secondary , Mount Park Hr Sec School , Thiyagadurgam,  Tamil Nadu.   ● Completed on 2010 SSLC , Krishnasamy Hr Sec School , Cuddalore,  Tamil Nadu.     SKILLS     Operating System  Windows, Unix,Mac   Programming Languages  HTML, CSS, JS, React   Mobile App Development  Windows and Android Apps   Designing  Constatinant layout ,Motion layout   Architectural Pattern  MVC   IDE  Android Studio   Services  AWS bucket s3 service, Bitbucket     PROJECT DETAILS     Project 1  Boomi is the name of the our project which is e -commerce online store. We’d developed and maintains by react  code.   Role  Front End  Developer   Project  E-commerce   Technology  Android   Role Played  ● Developing applications using Technologies like React and HTML.   ● Involved in Requirement Gathering.   ● Resolving client given queries.   ● Communicating with the team and adding features.   ● Performed Restful API services using volley.        '"
      ]
     },
     "execution_count": 77,
     "metadata": {},
     "output_type": "execute_result"
    }
   ],
   "source": [
    "temp = reactjs_data_pdf[0]\n",
    "text = [line.replace('\\t', ' ') for line in temp.split('\\n') if line]\n",
    "' '.join(text)"
   ]
  },
  {
   "cell_type": "code",
   "execution_count": 78,
   "id": "ffc3ba22",
   "metadata": {},
   "outputs": [],
   "source": [
    "reactjs_pdf=[' '.join(text)]"
   ]
  },
  {
   "cell_type": "code",
   "execution_count": 79,
   "id": "62f726d2",
   "metadata": {},
   "outputs": [
    {
     "data": {
      "text/plain": [
       "['    Page | 1    Name: M. Prabakaran   Title: UI Developer     PROFESSIONAL SUMMARY     ● 2.4+ years of Professional IT experience as a software developer having knowledge on different UI based  Application.   ● Hands on experience in HTML, CSS, JS, ReactJS.    ● Hands on experience in handling UI interaction, Design methodology.   ● Handling In -App purchase, uploading and maintaining apps in play store.   ● Hands on experience with customization over base -product depends on  client requirement.   ● Cohesive team worker, having strong analytical, problem solving and interpersonal skills.     EDUCATION     ● Completed on 2017 Bachelor of Technology (ECE) , PRIST University, Tamil Nadu.   ● Completed on 2012 Higher Secondary , Mount Park Hr Sec School , Thiyagadurgam,  Tamil Nadu.   ● Completed on 2010 SSLC , Krishnasamy Hr Sec School , Cuddalore,  Tamil Nadu.     SKILLS     Operating System  Windows, Unix,Mac   Programming Languages  HTML, CSS, JS, React   Mobile App Development  Windows and Android Apps   Designing  Constatinant layout ,Motion layout   Architectural Pattern  MVC   IDE  Android Studio   Services  AWS bucket s3 service, Bitbucket     PROJECT DETAILS     Project 1  Boomi is the name of the our project which is e -commerce online store. We’d developed and maintains by react  code.   Role  Front End  Developer   Project  E-commerce   Technology  Android   Role Played  ● Developing applications using Technologies like React and HTML.   ● Involved in Requirement Gathering.   ● Resolving client given queries.   ● Communicating with the team and adding features.   ● Performed Restful API services using volley.        ']"
      ]
     },
     "execution_count": 79,
     "metadata": {},
     "output_type": "execute_result"
    }
   ],
   "source": [
    "reactjs_pdf"
   ]
  },
  {
   "cell_type": "code",
   "execution_count": 80,
   "id": "aa7e08d7",
   "metadata": {},
   "outputs": [
    {
     "data": {
      "text/plain": [
       "1"
      ]
     },
     "execution_count": 80,
     "metadata": {},
     "output_type": "execute_result"
    }
   ],
   "source": [
    "len(reactjs_pdf)"
   ]
  },
  {
   "cell_type": "code",
   "execution_count": 81,
   "id": "caf4a7f0",
   "metadata": {},
   "outputs": [
    {
     "data": {
      "text/html": [
       "<div>\n",
       "<style scoped>\n",
       "    .dataframe tbody tr th:only-of-type {\n",
       "        vertical-align: middle;\n",
       "    }\n",
       "\n",
       "    .dataframe tbody tr th {\n",
       "        vertical-align: top;\n",
       "    }\n",
       "\n",
       "    .dataframe thead th {\n",
       "        text-align: right;\n",
       "    }\n",
       "</style>\n",
       "<table border=\"1\" class=\"dataframe\">\n",
       "  <thead>\n",
       "    <tr style=\"text-align: right;\">\n",
       "      <th></th>\n",
       "      <th>Resumes</th>\n",
       "      <th>Catagory</th>\n",
       "    </tr>\n",
       "  </thead>\n",
       "  <tbody>\n",
       "    <tr>\n",
       "      <th>0</th>\n",
       "      <td>Page | 1    Name: M. Prabakaran   Title: U...</td>\n",
       "      <td>Reactjs</td>\n",
       "    </tr>\n",
       "  </tbody>\n",
       "</table>\n",
       "</div>"
      ],
      "text/plain": [
       "                                             Resumes Catagory\n",
       "0      Page | 1    Name: M. Prabakaran   Title: U...  Reactjs"
      ]
     },
     "execution_count": 81,
     "metadata": {},
     "output_type": "execute_result"
    }
   ],
   "source": [
    "reactjs_df3=pd.DataFrame(reactjs_pdf,columns=[\"Resumes\"])  \n",
    "reactjs_df3[\"Catagory\"]=\"Reactjs\"\n",
    "reactjs_df3"
   ]
  },
  {
   "cell_type": "code",
   "execution_count": null,
   "id": "d521fbe3",
   "metadata": {},
   "outputs": [],
   "source": []
  },
  {
   "cell_type": "code",
   "execution_count": 82,
   "id": "c4afb0a4",
   "metadata": {},
   "outputs": [
    {
     "data": {
      "text/html": [
       "<div>\n",
       "<style scoped>\n",
       "    .dataframe tbody tr th:only-of-type {\n",
       "        vertical-align: middle;\n",
       "    }\n",
       "\n",
       "    .dataframe tbody tr th {\n",
       "        vertical-align: top;\n",
       "    }\n",
       "\n",
       "    .dataframe thead th {\n",
       "        text-align: right;\n",
       "    }\n",
       "</style>\n",
       "<table border=\"1\" class=\"dataframe\">\n",
       "  <thead>\n",
       "    <tr style=\"text-align: right;\">\n",
       "      <th></th>\n",
       "      <th>Resumes</th>\n",
       "      <th>Catagory</th>\n",
       "    </tr>\n",
       "  </thead>\n",
       "  <tbody>\n",
       "    <tr>\n",
       "      <th>0</th>\n",
       "      <td>Name: Ravali P                                ...</td>\n",
       "      <td>Reactjs</td>\n",
       "    </tr>\n",
       "    <tr>\n",
       "      <th>1</th>\n",
       "      <td>SUSOVAN  BAG    Seeking  a  challenging  posit...</td>\n",
       "      <td>Reactjs</td>\n",
       "    </tr>\n",
       "    <tr>\n",
       "      <th>2</th>\n",
       "      <td>Kanumuru Deepak Reddy   CAREER OBJECTIVE: To s...</td>\n",
       "      <td>Reactjs</td>\n",
       "    </tr>\n",
       "    <tr>\n",
       "      <th>3</th>\n",
       "      <td>HARIPRIYA BATTINA  Experience as UI Developer ...</td>\n",
       "      <td>Reactjs</td>\n",
       "    </tr>\n",
       "    <tr>\n",
       "      <th>4</th>\n",
       "      <td>KAMALAKAR REDDY. A  Linked In: https://www.lin...</td>\n",
       "      <td>Reactjs</td>\n",
       "    </tr>\n",
       "    <tr>\n",
       "      <th>5</th>\n",
       "      <td>Naveen Sadhu Title: software developer        ...</td>\n",
       "      <td>Reactjs</td>\n",
       "    </tr>\n",
       "    <tr>\n",
       "      <th>6</th>\n",
       "      <td>PRAGNYA PATTNAIK        Expertise:    Having a...</td>\n",
       "      <td>Reactjs</td>\n",
       "    </tr>\n",
       "    <tr>\n",
       "      <th>7</th>\n",
       "      <td>SARALA MADASU SARALA MADASU  204,Sri geethika...</td>\n",
       "      <td>Reactjs</td>\n",
       "    </tr>\n",
       "    <tr>\n",
       "      <th>8</th>\n",
       "      <td>Thirupathamma Balla SUMMARY: 2.8 year of IT ex...</td>\n",
       "      <td>Reactjs</td>\n",
       "    </tr>\n",
       "    <tr>\n",
       "      <th>9</th>\n",
       "      <td>Ui-Developer/ React JS Developer  NAME: KRISHN...</td>\n",
       "      <td>Reactjs</td>\n",
       "    </tr>\n",
       "    <tr>\n",
       "      <th>10</th>\n",
       "      <td>Ui-Developer/ React JS Developer  NAME: KRISHN...</td>\n",
       "      <td>Reactjs</td>\n",
       "    </tr>\n",
       "    <tr>\n",
       "      <th>11</th>\n",
       "      <td>Kotani Durga Prasad Objective: Aspirant for a ...</td>\n",
       "      <td>Reactjs</td>\n",
       "    </tr>\n",
       "    <tr>\n",
       "      <th>12</th>\n",
       "      <td>Venkatalakshmi Pedireddy Software Developer Ex...</td>\n",
       "      <td>Reactjs</td>\n",
       "    </tr>\n",
       "    <tr>\n",
       "      <th>13</th>\n",
       "      <td>KAMBALA SAI SURENDRA          SUMMARY    PROJE...</td>\n",
       "      <td>Reactjs</td>\n",
       "    </tr>\n",
       "    <tr>\n",
       "      <th>14</th>\n",
       "      <td>MAREEDU LOKESH BABU PROFESSIONAL OVERVIEW     ...</td>\n",
       "      <td>Reactjs</td>\n",
       "    </tr>\n",
       "    <tr>\n",
       "      <th>15</th>\n",
       "      <td>MAREEDU LOKESH BABU PROFESSIONAL OVERVIEW     ...</td>\n",
       "      <td>Reactjs</td>\n",
       "    </tr>\n",
       "    <tr>\n",
       "      <th>16</th>\n",
       "      <td>MD KHIZARUDDIN RAUF     EXPERIENCE        ⇨ Cu...</td>\n",
       "      <td>Reactjs</td>\n",
       "    </tr>\n",
       "    <tr>\n",
       "      <th>17</th>\n",
       "      <td>Pranish Sonone    Career summary:    Experienc...</td>\n",
       "      <td>Reactjs</td>\n",
       "    </tr>\n",
       "    <tr>\n",
       "      <th>18</th>\n",
       "      <td>Ranga Gaganam     Professional   Summary:     ...</td>\n",
       "      <td>Reactjs</td>\n",
       "    </tr>\n",
       "    <tr>\n",
       "      <th>19</th>\n",
       "      <td>SHAIK ABDUL SHARUK    2 years’ Experience in W...</td>\n",
       "      <td>Reactjs</td>\n",
       "    </tr>\n",
       "    <tr>\n",
       "      <th>20</th>\n",
       "      <td>\u0001\u0015 \f",
       "PROFILE Searching for the opportunity to b...</td>\n",
       "      <td>Reactjs</td>\n",
       "    </tr>\n",
       "    <tr>\n",
       "      <th>21</th>\n",
       "      <td>Maryala Vinay Reddy Professional Summary:  Hav...</td>\n",
       "      <td>Reactjs</td>\n",
       "    </tr>\n",
       "    <tr>\n",
       "      <th>22</th>\n",
       "      <td>CURRICULUM VITAE Anjani Priyadarshini Sr. Web ...</td>\n",
       "      <td>Reactjs</td>\n",
       "    </tr>\n",
       "    <tr>\n",
       "      <th>23</th>\n",
       "      <td>Page | 1    Name: M. Prabakaran   Title: U...</td>\n",
       "      <td>Reactjs</td>\n",
       "    </tr>\n",
       "  </tbody>\n",
       "</table>\n",
       "</div>"
      ],
      "text/plain": [
       "                                              Resumes Catagory\n",
       "0   Name: Ravali P                                ...  Reactjs\n",
       "1   SUSOVAN  BAG    Seeking  a  challenging  posit...  Reactjs\n",
       "2   Kanumuru Deepak Reddy   CAREER OBJECTIVE: To s...  Reactjs\n",
       "3   HARIPRIYA BATTINA  Experience as UI Developer ...  Reactjs\n",
       "4   KAMALAKAR REDDY. A  Linked In: https://www.lin...  Reactjs\n",
       "5   Naveen Sadhu Title: software developer        ...  Reactjs\n",
       "6   PRAGNYA PATTNAIK        Expertise:    Having a...  Reactjs\n",
       "7   SARALA MADASU SARALA MADASU  204,Sri geethika...  Reactjs\n",
       "8   Thirupathamma Balla SUMMARY: 2.8 year of IT ex...  Reactjs\n",
       "9   Ui-Developer/ React JS Developer  NAME: KRISHN...  Reactjs\n",
       "10  Ui-Developer/ React JS Developer  NAME: KRISHN...  Reactjs\n",
       "11  Kotani Durga Prasad Objective: Aspirant for a ...  Reactjs\n",
       "12  Venkatalakshmi Pedireddy Software Developer Ex...  Reactjs\n",
       "13  KAMBALA SAI SURENDRA          SUMMARY    PROJE...  Reactjs\n",
       "14  MAREEDU LOKESH BABU PROFESSIONAL OVERVIEW     ...  Reactjs\n",
       "15  MAREEDU LOKESH BABU PROFESSIONAL OVERVIEW     ...  Reactjs\n",
       "16  MD KHIZARUDDIN RAUF     EXPERIENCE        ⇨ Cu...  Reactjs\n",
       "17  Pranish Sonone    Career summary:    Experienc...  Reactjs\n",
       "18  Ranga Gaganam     Professional   Summary:     ...  Reactjs\n",
       "19  SHAIK ABDUL SHARUK    2 years’ Experience in W...  Reactjs\n",
       "20  \u0001\u0015 \n",
       "PROFILE Searching for the opportunity to b...  Reactjs\n",
       "21  Maryala Vinay Reddy Professional Summary:  Hav...  Reactjs\n",
       "22  CURRICULUM VITAE Anjani Priyadarshini Sr. Web ...  Reactjs\n",
       "23      Page | 1    Name: M. Prabakaran   Title: U...  Reactjs"
      ]
     },
     "execution_count": 82,
     "metadata": {},
     "output_type": "execute_result"
    }
   ],
   "source": [
    "reactjs_df = pd.concat([reactjs_df1, reactjs_df2,reactjs_df3], axis=0,ignore_index=1)\n",
    "reactjs_df"
   ]
  },
  {
   "cell_type": "code",
   "execution_count": null,
   "id": "2c2b30ff",
   "metadata": {},
   "outputs": [],
   "source": []
  },
  {
   "cell_type": "markdown",
   "id": "f5ad1919",
   "metadata": {},
   "source": [
    "#### Combining all the DataFrames "
   ]
  },
  {
   "cell_type": "code",
   "execution_count": 83,
   "id": "3948fbf1",
   "metadata": {},
   "outputs": [
    {
     "data": {
      "text/html": [
       "<div>\n",
       "<style scoped>\n",
       "    .dataframe tbody tr th:only-of-type {\n",
       "        vertical-align: middle;\n",
       "    }\n",
       "\n",
       "    .dataframe tbody tr th {\n",
       "        vertical-align: top;\n",
       "    }\n",
       "\n",
       "    .dataframe thead th {\n",
       "        text-align: right;\n",
       "    }\n",
       "</style>\n",
       "<table border=\"1\" class=\"dataframe\">\n",
       "  <thead>\n",
       "    <tr style=\"text-align: right;\">\n",
       "      <th></th>\n",
       "      <th>Resumes</th>\n",
       "      <th>Catagory</th>\n",
       "    </tr>\n",
       "  </thead>\n",
       "  <tbody>\n",
       "    <tr>\n",
       "      <th>0</th>\n",
       "      <td>Name: Ravali P                                ...</td>\n",
       "      <td>Reactjs</td>\n",
       "    </tr>\n",
       "    <tr>\n",
       "      <th>1</th>\n",
       "      <td>SUSOVAN  BAG    Seeking  a  challenging  posit...</td>\n",
       "      <td>Reactjs</td>\n",
       "    </tr>\n",
       "    <tr>\n",
       "      <th>2</th>\n",
       "      <td>Kanumuru Deepak Reddy   CAREER OBJECTIVE: To s...</td>\n",
       "      <td>Reactjs</td>\n",
       "    </tr>\n",
       "    <tr>\n",
       "      <th>3</th>\n",
       "      <td>HARIPRIYA BATTINA  Experience as UI Developer ...</td>\n",
       "      <td>Reactjs</td>\n",
       "    </tr>\n",
       "    <tr>\n",
       "      <th>4</th>\n",
       "      <td>KAMALAKAR REDDY. A  Linked In: https://www.lin...</td>\n",
       "      <td>Reactjs</td>\n",
       "    </tr>\n",
       "    <tr>\n",
       "      <th>...</th>\n",
       "      <td>...</td>\n",
       "      <td>...</td>\n",
       "    </tr>\n",
       "    <tr>\n",
       "      <th>74</th>\n",
       "      <td>Name : Naresh Babu Cherukuri Objective: To tak...</td>\n",
       "      <td>workday</td>\n",
       "    </tr>\n",
       "    <tr>\n",
       "      <th>75</th>\n",
       "      <td>\u0001\u0015 \u0001\u0015 3.3 years of IT experience as Workday HC...</td>\n",
       "      <td>workday</td>\n",
       "    </tr>\n",
       "    <tr>\n",
       "      <th>76</th>\n",
       "      <td>Shireesh Balasani                             ...</td>\n",
       "      <td>workday</td>\n",
       "    </tr>\n",
       "    <tr>\n",
       "      <th>77</th>\n",
       "      <td>Workday Integration Consultant Name         :...</td>\n",
       "      <td>workday</td>\n",
       "    </tr>\n",
       "    <tr>\n",
       "      <th>78</th>\n",
       "      <td>Venkateswarlu.B        Workday Consultant     ...</td>\n",
       "      <td>workday</td>\n",
       "    </tr>\n",
       "  </tbody>\n",
       "</table>\n",
       "<p>79 rows × 2 columns</p>\n",
       "</div>"
      ],
      "text/plain": [
       "                                              Resumes Catagory\n",
       "0   Name: Ravali P                                ...  Reactjs\n",
       "1   SUSOVAN  BAG    Seeking  a  challenging  posit...  Reactjs\n",
       "2   Kanumuru Deepak Reddy   CAREER OBJECTIVE: To s...  Reactjs\n",
       "3   HARIPRIYA BATTINA  Experience as UI Developer ...  Reactjs\n",
       "4   KAMALAKAR REDDY. A  Linked In: https://www.lin...  Reactjs\n",
       "..                                                ...      ...\n",
       "74  Name : Naresh Babu Cherukuri Objective: To tak...  workday\n",
       "75  \u0001\u0015 \u0001\u0015 3.3 years of IT experience as Workday HC...  workday\n",
       "76  Shireesh Balasani                             ...  workday\n",
       "77   Workday Integration Consultant Name         :...  workday\n",
       "78  Venkateswarlu.B        Workday Consultant     ...  workday\n",
       "\n",
       "[79 rows x 2 columns]"
      ]
     },
     "execution_count": 83,
     "metadata": {},
     "output_type": "execute_result"
    }
   ],
   "source": [
    "df = pd.concat([reactjs_df, peoplesoft_df, sql_df, workday_df], axis=0,ignore_index=1)\n",
    "df"
   ]
  },
  {
   "cell_type": "code",
   "execution_count": null,
   "id": "6946007a",
   "metadata": {},
   "outputs": [],
   "source": []
  },
  {
   "cell_type": "markdown",
   "id": "36a10202",
   "metadata": {},
   "source": [
    "#### Saving the data into CSV file"
   ]
  },
  {
   "cell_type": "code",
   "execution_count": 84,
   "id": "5718cc46",
   "metadata": {},
   "outputs": [
    {
     "data": {
      "text/plain": [
       "'D:\\\\EXCELR\\\\Resume Classification NLP project\\\\Resumes'"
      ]
     },
     "execution_count": 84,
     "metadata": {},
     "output_type": "execute_result"
    }
   ],
   "source": [
    "os.getcwd()"
   ]
  },
  {
   "cell_type": "code",
   "execution_count": 85,
   "id": "b57d2efb",
   "metadata": {},
   "outputs": [],
   "source": [
    "os.chdir(\"../\")"
   ]
  },
  {
   "cell_type": "code",
   "execution_count": 86,
   "id": "cf4f5408",
   "metadata": {},
   "outputs": [
    {
     "data": {
      "text/plain": [
       "'D:\\\\EXCELR\\\\Resume Classification NLP project'"
      ]
     },
     "execution_count": 86,
     "metadata": {},
     "output_type": "execute_result"
    }
   ],
   "source": [
    "os.getcwd()"
   ]
  },
  {
   "cell_type": "code",
   "execution_count": 87,
   "id": "75ea40aa",
   "metadata": {},
   "outputs": [],
   "source": [
    "df.to_csv(\"resumes.csv\")"
   ]
  },
  {
   "cell_type": "code",
   "execution_count": 88,
   "id": "9e473e3a",
   "metadata": {},
   "outputs": [
    {
     "name": "stdout",
     "output_type": "stream",
     "text": [
      " Volume in drive D is New Volume\n",
      " Volume Serial Number is B6A9-EF26\n",
      "\n",
      " Directory of D:\\EXCELR\\Resume Classification NLP project\n",
      "\n",
      "12-03-2023  16:18    <DIR>          .\n",
      "08-03-2023  15:24    <DIR>          ..\n",
      "01-03-2023  22:13             7,478 PARTICIPANTS_LIST.xlsx\n",
      "01-03-2023  22:13            15,816 Requirement document- Document Classification (1).docx\n",
      "12-03-2023  16:18    <DIR>          Resumes\n",
      "12-03-2023  16:18           423,388 resumes.csv\n",
      "01-03-2023  22:13         1,337,957 TEMPLATE_PPT_Project_Final Presentation.pptx\n",
      "               4 File(s)      1,784,639 bytes\n",
      "               3 Dir(s)  81,613,783,040 bytes free\n"
     ]
    }
   ],
   "source": [
    "ls"
   ]
  },
  {
   "cell_type": "code",
   "execution_count": null,
   "id": "72a8104c",
   "metadata": {},
   "outputs": [],
   "source": []
  },
  {
   "cell_type": "code",
   "execution_count": 20,
   "id": "c7b680d1",
   "metadata": {},
   "outputs": [
    {
     "name": "stdout",
     "output_type": "stream",
     "text": [
      "Collecting textract\n",
      "  Downloading textract-1.6.5-py3-none-any.whl (23 kB)\n",
      "Collecting python-pptx~=0.6.18\n",
      "  Downloading python-pptx-0.6.21.tar.gz (10.1 MB)\n",
      "     ---------------------------------------- 10.1/10.1 MB 6.9 MB/s eta 0:00:00\n",
      "  Preparing metadata (setup.py): started\n",
      "  Preparing metadata (setup.py): finished with status 'done'\n",
      "Collecting pdfminer.six==20191110\n",
      "  Downloading pdfminer.six-20191110-py2.py3-none-any.whl (5.6 MB)\n",
      "     ---------------------------------------- 5.6/5.6 MB 5.0 MB/s eta 0:00:00\n",
      "Collecting six~=1.12.0\n",
      "  Downloading six-1.12.0-py2.py3-none-any.whl (10 kB)\n",
      "Collecting argcomplete~=1.10.0\n",
      "  Downloading argcomplete-1.10.3-py2.py3-none-any.whl (36 kB)\n",
      "Collecting SpeechRecognition~=3.8.1\n",
      "  Downloading SpeechRecognition-3.8.1-py2.py3-none-any.whl (32.8 MB)\n",
      "     ---------------------------------------- 32.8/32.8 MB 5.7 MB/s eta 0:00:00\n",
      "Collecting xlrd~=1.2.0\n"
     ]
    },
    {
     "name": "stderr",
     "output_type": "stream",
     "text": [
      "WARNING: Ignoring invalid distribution -rotobuf (c:\\users\\dell\\anaconda3\\lib\\site-packages)\n",
      "WARNING: Ignoring invalid distribution -rotobuf (c:\\users\\dell\\anaconda3\\lib\\site-packages)\n",
      "WARNING: Retrying (Retry(total=4, connect=None, read=None, redirect=None, status=None)) after connection broken by 'ReadTimeoutError(\"HTTPSConnectionPool(host='pypi.org', port=443): Read timed out. (read timeout=15)\")': /simple/pdfminer-six/\n",
      "WARNING: Ignoring invalid distribution -rotobuf (c:\\users\\dell\\anaconda3\\lib\\site-packages)\n",
      "    WARNING: Ignoring invalid distribution -rotobuf (c:\\users\\dell\\anaconda3\\lib\\site-packages)\n",
      "    WARNING: Ignoring invalid distribution -rotobuf (c:\\users\\dell\\anaconda3\\lib\\site-packages)\n",
      "    WARNING: Ignoring invalid distribution -rotobuf (c:\\users\\dell\\anaconda3\\lib\\site-packages)\n",
      "    WARNING: Ignoring invalid distribution -rotobuf (c:\\users\\dell\\anaconda3\\lib\\site-packages)\n",
      "    WARNING: Ignoring invalid distribution -rotobuf (c:\\users\\dell\\anaconda3\\lib\\site-packages)\n",
      "WARNING: Ignoring invalid distribution -rotobuf (c:\\users\\dell\\anaconda3\\lib\\site-packages)\n",
      "WARNING: Ignoring invalid distribution -rotobuf (c:\\users\\dell\\anaconda3\\lib\\site-packages)\n",
      "WARNING: Ignoring invalid distribution -rotobuf (c:\\users\\dell\\anaconda3\\lib\\site-packages)\n",
      "WARNING: Ignoring invalid distribution -rotobuf (c:\\users\\dell\\anaconda3\\lib\\site-packages)\n",
      "WARNING: Ignoring invalid distribution -rotobuf (c:\\users\\dell\\anaconda3\\lib\\site-packages)\n",
      "WARNING: Ignoring invalid distribution -rotobuf (c:\\users\\dell\\anaconda3\\lib\\site-packages)\n",
      "WARNING: Ignoring invalid distribution -rotobuf (c:\\users\\dell\\anaconda3\\lib\\site-packages)\n",
      "WARNING: Ignoring invalid distribution -rotobuf (c:\\users\\dell\\anaconda3\\lib\\site-packages)\n",
      "WARNING: Ignoring invalid distribution -rotobuf (c:\\users\\dell\\anaconda3\\lib\\site-packages)\n"
     ]
    },
    {
     "name": "stdout",
     "output_type": "stream",
     "text": [
      "  Downloading xlrd-1.2.0-py2.py3-none-any.whl (103 kB)\n",
      "     -------------------------------------- 103.3/103.3 kB 2.9 MB/s eta 0:00:00\n",
      "Collecting beautifulsoup4~=4.8.0\n",
      "  Downloading beautifulsoup4-4.8.2-py3-none-any.whl (106 kB)\n",
      "     -------------------------------------- 106.9/106.9 kB 6.0 MB/s eta 0:00:00\n",
      "Requirement already satisfied: docx2txt~=0.8 in c:\\users\\dell\\anaconda3\\lib\\site-packages (from textract) (0.8)\n",
      "Collecting chardet==3.*\n",
      "  Downloading chardet-3.0.4-py2.py3-none-any.whl (133 kB)\n",
      "     -------------------------------------- 133.4/133.4 kB 7.7 MB/s eta 0:00:00\n",
      "Collecting extract-msg<=0.29.*\n",
      "  Downloading extract_msg-0.28.7-py2.py3-none-any.whl (69 kB)\n",
      "     ---------------------------------------- 69.0/69.0 kB 3.7 MB/s eta 0:00:00\n",
      "Requirement already satisfied: pycryptodome in c:\\users\\dell\\anaconda3\\lib\\site-packages (from pdfminer.six==20191110->textract) (3.17)\n",
      "Requirement already satisfied: sortedcontainers in c:\\users\\dell\\anaconda3\\lib\\site-packages (from pdfminer.six==20191110->textract) (2.4.0)\n",
      "Requirement already satisfied: soupsieve>=1.2 in c:\\users\\dell\\anaconda3\\lib\\site-packages (from beautifulsoup4~=4.8.0->textract) (2.3.1)\n",
      "Requirement already satisfied: olefile>=0.46 in c:\\users\\dell\\anaconda3\\lib\\site-packages (from extract-msg<=0.29.*->textract) (0.46)\n",
      "Collecting ebcdic>=1.1.1\n",
      "  Downloading ebcdic-1.1.1-py2.py3-none-any.whl (128 kB)\n",
      "     -------------------------------------- 128.5/128.5 kB 7.4 MB/s eta 0:00:00\n",
      "Requirement already satisfied: tzlocal>=2.1 in c:\\users\\dell\\anaconda3\\lib\\site-packages (from extract-msg<=0.29.*->textract) (4.2)\n",
      "Collecting imapclient==2.1.0\n",
      "  Downloading IMAPClient-2.1.0-py2.py3-none-any.whl (73 kB)\n",
      "     ---------------------------------------- 74.0/74.0 kB 4.2 MB/s eta 0:00:00\n",
      "Collecting compressed-rtf>=1.0.6\n",
      "  Downloading compressed_rtf-1.0.6.tar.gz (5.8 kB)\n",
      "  Preparing metadata (setup.py): started\n",
      "  Preparing metadata (setup.py): finished with status 'done'\n",
      "Requirement already satisfied: lxml>=3.1.0 in c:\\users\\dell\\anaconda3\\lib\\site-packages (from python-pptx~=0.6.18->textract) (4.8.0)\n",
      "Requirement already satisfied: Pillow>=3.3.2 in c:\\users\\dell\\anaconda3\\lib\\site-packages (from python-pptx~=0.6.18->textract) (9.0.1)\n",
      "Requirement already satisfied: XlsxWriter>=0.5.7 in c:\\users\\dell\\anaconda3\\lib\\site-packages (from python-pptx~=0.6.18->textract) (3.0.3)\n",
      "Requirement already satisfied: pytz-deprecation-shim in c:\\users\\dell\\anaconda3\\lib\\site-packages (from tzlocal>=2.1->extract-msg<=0.29.*->textract) (0.1.0.post0)\n",
      "Requirement already satisfied: tzdata in c:\\users\\dell\\anaconda3\\lib\\site-packages (from tzlocal>=2.1->extract-msg<=0.29.*->textract) (2022.7)\n",
      "Building wheels for collected packages: python-pptx, compressed-rtf\n",
      "  Building wheel for python-pptx (setup.py): started\n",
      "  Building wheel for python-pptx (setup.py): finished with status 'done'\n",
      "  Created wheel for python-pptx: filename=python_pptx-0.6.21-py3-none-any.whl size=470951 sha256=b6ec3173e608edbb5b34977e0734f18f9c7d1c50923c4826da6407394316f96f\n",
      "  Stored in directory: c:\\users\\dell\\appdata\\local\\pip\\cache\\wheels\\0e\\4a\\ed\\9653bc799915f52dce3f04d14946fbd85cce9c3cdedc9cfa71\n",
      "  Building wheel for compressed-rtf (setup.py): started\n",
      "  Building wheel for compressed-rtf (setup.py): finished with status 'done'\n",
      "  Created wheel for compressed-rtf: filename=compressed_rtf-1.0.6-py3-none-any.whl size=6204 sha256=f69c0441b7dbbaa986b2aa11f7aad3edd8fa02aeac0c201b1a9985a3c08e3c1f\n",
      "  Stored in directory: c:\\users\\dell\\appdata\\local\\pip\\cache\\wheels\\e4\\67\\e4\\ba2159853bdd0fe99330aa1e384915108143a5370686ea446f\n",
      "Successfully built python-pptx compressed-rtf\n",
      "Installing collected packages: SpeechRecognition, ebcdic, compressed-rtf, chardet, argcomplete, xlrd, six, python-pptx, beautifulsoup4, pdfminer.six, imapclient, extract-msg, textract\n",
      "  Attempting uninstall: chardet\n",
      "    Found existing installation: chardet 4.0.0\n",
      "    Uninstalling chardet-4.0.0:\n",
      "      Successfully uninstalled chardet-4.0.0\n",
      "  Attempting uninstall: xlrd\n",
      "    Found existing installation: xlrd 2.0.1\n",
      "    Uninstalling xlrd-2.0.1:\n",
      "      Successfully uninstalled xlrd-2.0.1\n",
      "  Attempting uninstall: six\n",
      "    Found existing installation: six 1.16.0\n",
      "    Uninstalling six-1.16.0:\n",
      "      Successfully uninstalled six-1.16.0\n",
      "  Attempting uninstall: beautifulsoup4\n",
      "    Found existing installation: beautifulsoup4 4.11.1\n",
      "    Uninstalling beautifulsoup4-4.11.1:\n",
      "      Successfully uninstalled beautifulsoup4-4.11.1\n",
      "  Attempting uninstall: pdfminer.six\n",
      "    Found existing installation: pdfminer.six 20221105\n",
      "    Uninstalling pdfminer.six-20221105:\n",
      "      Successfully uninstalled pdfminer.six-20221105\n",
      "Successfully installed SpeechRecognition-3.8.1 argcomplete-1.10.3 beautifulsoup4-4.8.2 chardet-3.0.4 compressed-rtf-1.0.6 ebcdic-1.1.1 extract-msg-0.28.7 imapclient-2.1.0 pdfminer.six-20191110 python-pptx-0.6.21 six-1.12.0 textract-1.6.5 xlrd-1.2.0\n"
     ]
    },
    {
     "name": "stderr",
     "output_type": "stream",
     "text": [
      "WARNING: Ignoring invalid distribution -rotobuf (c:\\users\\dell\\anaconda3\\lib\\site-packages)\n",
      "WARNING: Ignoring invalid distribution -rotobuf (c:\\users\\dell\\anaconda3\\lib\\site-packages)\n",
      "WARNING: Ignoring invalid distribution -rotobuf (c:\\users\\dell\\anaconda3\\lib\\site-packages)\n",
      "WARNING: Ignoring invalid distribution -rotobuf (c:\\users\\dell\\anaconda3\\lib\\site-packages)\n",
      "ERROR: pip's dependency resolver does not currently take into account all the packages that are installed. This behaviour is the source of the following dependency conflicts.\n",
      "spyder 5.1.5 requires pyqt5<5.13, which is not installed.\n",
      "spyder 5.1.5 requires pyqtwebengine<5.13, which is not installed.\n",
      "conda-repo-cli 1.0.4 requires pathlib, which is not installed.\n",
      "tensorflow-intel 2.11.0 requires protobuf<3.20,>=3.9.2, but you have protobuf 3.20.3 which is incompatible.\n",
      "google-api-core 1.25.1 requires six>=1.13.0, but you have six 1.12.0 which is incompatible.\n",
      "basemap 1.3.6 requires numpy<1.24,>=1.22; python_version >= \"3.8\", but you have numpy 1.21.5 which is incompatible.\n",
      "WARNING: Ignoring invalid distribution -rotobuf (c:\\users\\dell\\anaconda3\\lib\\site-packages)\n",
      "WARNING: Ignoring invalid distribution -rotobuf (c:\\users\\dell\\anaconda3\\lib\\site-packages)\n",
      "WARNING: Ignoring invalid distribution -rotobuf (c:\\users\\dell\\anaconda3\\lib\\site-packages)\n"
     ]
    }
   ],
   "source": [
    "!pip install textract"
   ]
  },
  {
   "cell_type": "code",
   "execution_count": 22,
   "id": "eb2bb48c",
   "metadata": {},
   "outputs": [],
   "source": [
    "import textract"
   ]
  },
  {
   "cell_type": "code",
   "execution_count": 31,
   "id": "fdf4a8e6",
   "metadata": {},
   "outputs": [
    {
     "ename": "ShellError",
     "evalue": "The command `antiword D:\\EXCELR\\Resume Classification NLP project\\Resumes\\React Developer_PavasGoswami.doc` failed with exit code 127\n------------- stdout -------------\n------------- stderr -------------\n",
     "output_type": "error",
     "traceback": [
      "\u001b[1;31m---------------------------------------------------------------------------\u001b[0m",
      "\u001b[1;31mFileNotFoundError\u001b[0m                         Traceback (most recent call last)",
      "File \u001b[1;32m~\\anaconda3\\lib\\site-packages\\textract\\parsers\\utils.py:87\u001b[0m, in \u001b[0;36mShellParser.run\u001b[1;34m(self, args)\u001b[0m\n\u001b[0;32m     86\u001b[0m \u001b[38;5;28;01mtry\u001b[39;00m:\n\u001b[1;32m---> 87\u001b[0m     pipe \u001b[38;5;241m=\u001b[39m \u001b[43msubprocess\u001b[49m\u001b[38;5;241;43m.\u001b[39;49m\u001b[43mPopen\u001b[49m\u001b[43m(\u001b[49m\n\u001b[0;32m     88\u001b[0m \u001b[43m        \u001b[49m\u001b[43margs\u001b[49m\u001b[43m,\u001b[49m\n\u001b[0;32m     89\u001b[0m \u001b[43m        \u001b[49m\u001b[43mstdout\u001b[49m\u001b[38;5;241;43m=\u001b[39;49m\u001b[43msubprocess\u001b[49m\u001b[38;5;241;43m.\u001b[39;49m\u001b[43mPIPE\u001b[49m\u001b[43m,\u001b[49m\u001b[43m \u001b[49m\u001b[43mstderr\u001b[49m\u001b[38;5;241;43m=\u001b[39;49m\u001b[43msubprocess\u001b[49m\u001b[38;5;241;43m.\u001b[39;49m\u001b[43mPIPE\u001b[49m\u001b[43m,\u001b[49m\n\u001b[0;32m     90\u001b[0m \u001b[43m    \u001b[49m\u001b[43m)\u001b[49m\n\u001b[0;32m     91\u001b[0m \u001b[38;5;28;01mexcept\u001b[39;00m \u001b[38;5;167;01mOSError\u001b[39;00m \u001b[38;5;28;01mas\u001b[39;00m e:\n",
      "File \u001b[1;32m~\\anaconda3\\lib\\subprocess.py:951\u001b[0m, in \u001b[0;36mPopen.__init__\u001b[1;34m(self, args, bufsize, executable, stdin, stdout, stderr, preexec_fn, close_fds, shell, cwd, env, universal_newlines, startupinfo, creationflags, restore_signals, start_new_session, pass_fds, user, group, extra_groups, encoding, errors, text, umask)\u001b[0m\n\u001b[0;32m    948\u001b[0m             \u001b[38;5;28mself\u001b[39m\u001b[38;5;241m.\u001b[39mstderr \u001b[38;5;241m=\u001b[39m io\u001b[38;5;241m.\u001b[39mTextIOWrapper(\u001b[38;5;28mself\u001b[39m\u001b[38;5;241m.\u001b[39mstderr,\n\u001b[0;32m    949\u001b[0m                     encoding\u001b[38;5;241m=\u001b[39mencoding, errors\u001b[38;5;241m=\u001b[39merrors)\n\u001b[1;32m--> 951\u001b[0m     \u001b[38;5;28;43mself\u001b[39;49m\u001b[38;5;241;43m.\u001b[39;49m\u001b[43m_execute_child\u001b[49m\u001b[43m(\u001b[49m\u001b[43margs\u001b[49m\u001b[43m,\u001b[49m\u001b[43m \u001b[49m\u001b[43mexecutable\u001b[49m\u001b[43m,\u001b[49m\u001b[43m \u001b[49m\u001b[43mpreexec_fn\u001b[49m\u001b[43m,\u001b[49m\u001b[43m \u001b[49m\u001b[43mclose_fds\u001b[49m\u001b[43m,\u001b[49m\n\u001b[0;32m    952\u001b[0m \u001b[43m                        \u001b[49m\u001b[43mpass_fds\u001b[49m\u001b[43m,\u001b[49m\u001b[43m \u001b[49m\u001b[43mcwd\u001b[49m\u001b[43m,\u001b[49m\u001b[43m \u001b[49m\u001b[43menv\u001b[49m\u001b[43m,\u001b[49m\n\u001b[0;32m    953\u001b[0m \u001b[43m                        \u001b[49m\u001b[43mstartupinfo\u001b[49m\u001b[43m,\u001b[49m\u001b[43m \u001b[49m\u001b[43mcreationflags\u001b[49m\u001b[43m,\u001b[49m\u001b[43m \u001b[49m\u001b[43mshell\u001b[49m\u001b[43m,\u001b[49m\n\u001b[0;32m    954\u001b[0m \u001b[43m                        \u001b[49m\u001b[43mp2cread\u001b[49m\u001b[43m,\u001b[49m\u001b[43m \u001b[49m\u001b[43mp2cwrite\u001b[49m\u001b[43m,\u001b[49m\n\u001b[0;32m    955\u001b[0m \u001b[43m                        \u001b[49m\u001b[43mc2pread\u001b[49m\u001b[43m,\u001b[49m\u001b[43m \u001b[49m\u001b[43mc2pwrite\u001b[49m\u001b[43m,\u001b[49m\n\u001b[0;32m    956\u001b[0m \u001b[43m                        \u001b[49m\u001b[43merrread\u001b[49m\u001b[43m,\u001b[49m\u001b[43m \u001b[49m\u001b[43merrwrite\u001b[49m\u001b[43m,\u001b[49m\n\u001b[0;32m    957\u001b[0m \u001b[43m                        \u001b[49m\u001b[43mrestore_signals\u001b[49m\u001b[43m,\u001b[49m\n\u001b[0;32m    958\u001b[0m \u001b[43m                        \u001b[49m\u001b[43mgid\u001b[49m\u001b[43m,\u001b[49m\u001b[43m \u001b[49m\u001b[43mgids\u001b[49m\u001b[43m,\u001b[49m\u001b[43m \u001b[49m\u001b[43muid\u001b[49m\u001b[43m,\u001b[49m\u001b[43m \u001b[49m\u001b[43mumask\u001b[49m\u001b[43m,\u001b[49m\n\u001b[0;32m    959\u001b[0m \u001b[43m                        \u001b[49m\u001b[43mstart_new_session\u001b[49m\u001b[43m)\u001b[49m\n\u001b[0;32m    960\u001b[0m \u001b[38;5;28;01mexcept\u001b[39;00m:\n\u001b[0;32m    961\u001b[0m     \u001b[38;5;66;03m# Cleanup if the child failed starting.\u001b[39;00m\n",
      "File \u001b[1;32m~\\anaconda3\\lib\\subprocess.py:1420\u001b[0m, in \u001b[0;36mPopen._execute_child\u001b[1;34m(self, args, executable, preexec_fn, close_fds, pass_fds, cwd, env, startupinfo, creationflags, shell, p2cread, p2cwrite, c2pread, c2pwrite, errread, errwrite, unused_restore_signals, unused_gid, unused_gids, unused_uid, unused_umask, unused_start_new_session)\u001b[0m\n\u001b[0;32m   1419\u001b[0m \u001b[38;5;28;01mtry\u001b[39;00m:\n\u001b[1;32m-> 1420\u001b[0m     hp, ht, pid, tid \u001b[38;5;241m=\u001b[39m \u001b[43m_winapi\u001b[49m\u001b[38;5;241;43m.\u001b[39;49m\u001b[43mCreateProcess\u001b[49m\u001b[43m(\u001b[49m\u001b[43mexecutable\u001b[49m\u001b[43m,\u001b[49m\u001b[43m \u001b[49m\u001b[43margs\u001b[49m\u001b[43m,\u001b[49m\n\u001b[0;32m   1421\u001b[0m \u001b[43m                             \u001b[49m\u001b[38;5;66;43;03m# no special security\u001b[39;49;00m\n\u001b[0;32m   1422\u001b[0m \u001b[43m                             \u001b[49m\u001b[38;5;28;43;01mNone\u001b[39;49;00m\u001b[43m,\u001b[49m\u001b[43m \u001b[49m\u001b[38;5;28;43;01mNone\u001b[39;49;00m\u001b[43m,\u001b[49m\n\u001b[0;32m   1423\u001b[0m \u001b[43m                             \u001b[49m\u001b[38;5;28;43mint\u001b[39;49m\u001b[43m(\u001b[49m\u001b[38;5;129;43;01mnot\u001b[39;49;00m\u001b[43m \u001b[49m\u001b[43mclose_fds\u001b[49m\u001b[43m)\u001b[49m\u001b[43m,\u001b[49m\n\u001b[0;32m   1424\u001b[0m \u001b[43m                             \u001b[49m\u001b[43mcreationflags\u001b[49m\u001b[43m,\u001b[49m\n\u001b[0;32m   1425\u001b[0m \u001b[43m                             \u001b[49m\u001b[43menv\u001b[49m\u001b[43m,\u001b[49m\n\u001b[0;32m   1426\u001b[0m \u001b[43m                             \u001b[49m\u001b[43mcwd\u001b[49m\u001b[43m,\u001b[49m\n\u001b[0;32m   1427\u001b[0m \u001b[43m                             \u001b[49m\u001b[43mstartupinfo\u001b[49m\u001b[43m)\u001b[49m\n\u001b[0;32m   1428\u001b[0m \u001b[38;5;28;01mfinally\u001b[39;00m:\n\u001b[0;32m   1429\u001b[0m     \u001b[38;5;66;03m# Child is launched. Close the parent's copy of those pipe\u001b[39;00m\n\u001b[0;32m   1430\u001b[0m     \u001b[38;5;66;03m# handles that only the child should have open.  You need\u001b[39;00m\n\u001b[1;32m   (...)\u001b[0m\n\u001b[0;32m   1433\u001b[0m     \u001b[38;5;66;03m# pipe will not close when the child process exits and the\u001b[39;00m\n\u001b[0;32m   1434\u001b[0m     \u001b[38;5;66;03m# ReadFile will hang.\u001b[39;00m\n",
      "\u001b[1;31mFileNotFoundError\u001b[0m: [WinError 2] The system cannot find the file specified",
      "\nDuring handling of the above exception, another exception occurred:\n",
      "\u001b[1;31mShellError\u001b[0m                                Traceback (most recent call last)",
      "Input \u001b[1;32mIn [31]\u001b[0m, in \u001b[0;36m<cell line: 4>\u001b[1;34m()\u001b[0m\n\u001b[0;32m      5\u001b[0m \u001b[38;5;28;01mif\u001b[39;00m i\u001b[38;5;241m.\u001b[39mendswith(\u001b[38;5;124m'\u001b[39m\u001b[38;5;124m.docx\u001b[39m\u001b[38;5;124m'\u001b[39m) \u001b[38;5;129;01mor\u001b[39;00m i\u001b[38;5;241m.\u001b[39mendswith(\u001b[38;5;124m'\u001b[39m\u001b[38;5;124m.doc\u001b[39m\u001b[38;5;124m'\u001b[39m) \u001b[38;5;129;01mor\u001b[39;00m i\u001b[38;5;241m.\u001b[39mendswith(\u001b[38;5;124m'\u001b[39m\u001b[38;5;124m.pdf\u001b[39m\u001b[38;5;124m'\u001b[39m):\n\u001b[0;32m      6\u001b[0m     os\u001b[38;5;241m.\u001b[39mpath\u001b[38;5;241m.\u001b[39mjoin(directory, i)\n\u001b[1;32m----> 7\u001b[0m     file_path\u001b[38;5;241m.\u001b[39mappend((\u001b[43mtextract\u001b[49m\u001b[38;5;241;43m.\u001b[39;49m\u001b[43mprocess\u001b[49m\u001b[43m(\u001b[49m\u001b[43mos\u001b[49m\u001b[38;5;241;43m.\u001b[39;49m\u001b[43mpath\u001b[49m\u001b[38;5;241;43m.\u001b[39;49m\u001b[43mjoin\u001b[49m\u001b[43m(\u001b[49m\u001b[43mdirectory\u001b[49m\u001b[43m,\u001b[49m\u001b[43m \u001b[49m\u001b[43mi\u001b[49m\u001b[43m)\u001b[49m\u001b[43m)\u001b[49m)\u001b[38;5;241m.\u001b[39mdecode(\u001b[38;5;124m'\u001b[39m\u001b[38;5;124mutf-8\u001b[39m\u001b[38;5;124m'\u001b[39m))\n\u001b[0;32m      8\u001b[0m     category\u001b[38;5;241m.\u001b[39mappend(\u001b[38;5;124m'\u001b[39m\u001b[38;5;124mReact JS Developer Resume\u001b[39m\u001b[38;5;124m'\u001b[39m)\n",
      "File \u001b[1;32m~\\anaconda3\\lib\\site-packages\\textract\\parsers\\__init__.py:79\u001b[0m, in \u001b[0;36mprocess\u001b[1;34m(filename, input_encoding, output_encoding, extension, **kwargs)\u001b[0m\n\u001b[0;32m     76\u001b[0m \u001b[38;5;66;03m# do the extraction\u001b[39;00m\n\u001b[0;32m     78\u001b[0m parser \u001b[38;5;241m=\u001b[39m filetype_module\u001b[38;5;241m.\u001b[39mParser()\n\u001b[1;32m---> 79\u001b[0m \u001b[38;5;28;01mreturn\u001b[39;00m parser\u001b[38;5;241m.\u001b[39mprocess(filename, input_encoding, output_encoding, \u001b[38;5;241m*\u001b[39m\u001b[38;5;241m*\u001b[39mkwargs)\n",
      "File \u001b[1;32m~\\anaconda3\\lib\\site-packages\\textract\\parsers\\utils.py:46\u001b[0m, in \u001b[0;36mBaseParser.process\u001b[1;34m(self, filename, input_encoding, output_encoding, **kwargs)\u001b[0m\n\u001b[0;32m     36\u001b[0m \u001b[38;5;124;03m\"\"\"Process ``filename`` and encode byte-string with ``encoding``. This\u001b[39;00m\n\u001b[0;32m     37\u001b[0m \u001b[38;5;124;03mmethod is called by :func:`textract.parsers.process` and wraps\u001b[39;00m\n\u001b[0;32m     38\u001b[0m \u001b[38;5;124;03mthe :meth:`.BaseParser.extract` method in `a delicious unicode\u001b[39;00m\n\u001b[0;32m     39\u001b[0m \u001b[38;5;124;03msandwich <http://nedbatchelder.com/text/unipain.html>`_.\u001b[39;00m\n\u001b[0;32m     40\u001b[0m \n\u001b[0;32m     41\u001b[0m \u001b[38;5;124;03m\"\"\"\u001b[39;00m\n\u001b[0;32m     42\u001b[0m \u001b[38;5;66;03m# make a \"unicode sandwich\" to handle dealing with unknown\u001b[39;00m\n\u001b[0;32m     43\u001b[0m \u001b[38;5;66;03m# input byte strings and converting them to a predictable\u001b[39;00m\n\u001b[0;32m     44\u001b[0m \u001b[38;5;66;03m# output encoding\u001b[39;00m\n\u001b[0;32m     45\u001b[0m \u001b[38;5;66;03m# http://nedbatchelder.com/text/unipain/unipain.html#35\u001b[39;00m\n\u001b[1;32m---> 46\u001b[0m byte_string \u001b[38;5;241m=\u001b[39m \u001b[38;5;28mself\u001b[39m\u001b[38;5;241m.\u001b[39mextract(filename, \u001b[38;5;241m*\u001b[39m\u001b[38;5;241m*\u001b[39mkwargs)\n\u001b[0;32m     47\u001b[0m unicode_string \u001b[38;5;241m=\u001b[39m \u001b[38;5;28mself\u001b[39m\u001b[38;5;241m.\u001b[39mdecode(byte_string, input_encoding)\n\u001b[0;32m     48\u001b[0m \u001b[38;5;28;01mreturn\u001b[39;00m \u001b[38;5;28mself\u001b[39m\u001b[38;5;241m.\u001b[39mencode(unicode_string, output_encoding)\n",
      "File \u001b[1;32m~\\anaconda3\\lib\\site-packages\\textract\\parsers\\doc_parser.py:9\u001b[0m, in \u001b[0;36mParser.extract\u001b[1;34m(self, filename, **kwargs)\u001b[0m\n\u001b[0;32m      8\u001b[0m \u001b[38;5;28;01mdef\u001b[39;00m \u001b[38;5;21mextract\u001b[39m(\u001b[38;5;28mself\u001b[39m, filename, \u001b[38;5;241m*\u001b[39m\u001b[38;5;241m*\u001b[39mkwargs):\n\u001b[1;32m----> 9\u001b[0m     stdout, stderr \u001b[38;5;241m=\u001b[39m \u001b[38;5;28;43mself\u001b[39;49m\u001b[38;5;241;43m.\u001b[39;49m\u001b[43mrun\u001b[49m\u001b[43m(\u001b[49m\u001b[43m[\u001b[49m\u001b[38;5;124;43m'\u001b[39;49m\u001b[38;5;124;43mantiword\u001b[39;49m\u001b[38;5;124;43m'\u001b[39;49m\u001b[43m,\u001b[49m\u001b[43m \u001b[49m\u001b[43mfilename\u001b[49m\u001b[43m]\u001b[49m\u001b[43m)\u001b[49m\n\u001b[0;32m     10\u001b[0m     \u001b[38;5;28;01mreturn\u001b[39;00m stdout\n",
      "File \u001b[1;32m~\\anaconda3\\lib\\site-packages\\textract\\parsers\\utils.py:95\u001b[0m, in \u001b[0;36mShellParser.run\u001b[1;34m(self, args)\u001b[0m\n\u001b[0;32m     91\u001b[0m \u001b[38;5;28;01mexcept\u001b[39;00m \u001b[38;5;167;01mOSError\u001b[39;00m \u001b[38;5;28;01mas\u001b[39;00m e:\n\u001b[0;32m     92\u001b[0m     \u001b[38;5;28;01mif\u001b[39;00m e\u001b[38;5;241m.\u001b[39merrno \u001b[38;5;241m==\u001b[39m errno\u001b[38;5;241m.\u001b[39mENOENT:\n\u001b[0;32m     93\u001b[0m         \u001b[38;5;66;03m# File not found.\u001b[39;00m\n\u001b[0;32m     94\u001b[0m         \u001b[38;5;66;03m# This is equivalent to getting exitcode 127 from sh\u001b[39;00m\n\u001b[1;32m---> 95\u001b[0m         \u001b[38;5;28;01mraise\u001b[39;00m exceptions\u001b[38;5;241m.\u001b[39mShellError(\n\u001b[0;32m     96\u001b[0m             \u001b[38;5;124m'\u001b[39m\u001b[38;5;124m \u001b[39m\u001b[38;5;124m'\u001b[39m\u001b[38;5;241m.\u001b[39mjoin(args), \u001b[38;5;241m127\u001b[39m, \u001b[38;5;124m'\u001b[39m\u001b[38;5;124m'\u001b[39m, \u001b[38;5;124m'\u001b[39m\u001b[38;5;124m'\u001b[39m,\n\u001b[0;32m     97\u001b[0m         )\n\u001b[0;32m     98\u001b[0m     \u001b[38;5;28;01melse\u001b[39;00m: \u001b[38;5;28;01mraise\u001b[39;00m \u001b[38;5;66;03m#Reraise the last exception unmodified\u001b[39;00m\n\u001b[0;32m    100\u001b[0m \u001b[38;5;66;03m# pipe.wait() ends up hanging on large files. using\u001b[39;00m\n\u001b[0;32m    101\u001b[0m \u001b[38;5;66;03m# pipe.communicate appears to avoid this issue\u001b[39;00m\n",
      "\u001b[1;31mShellError\u001b[0m: The command `antiword D:\\EXCELR\\Resume Classification NLP project\\Resumes\\React Developer_PavasGoswami.doc` failed with exit code 127\n------------- stdout -------------\n------------- stderr -------------\n"
     ]
    }
   ],
   "source": [
    "file_path = []\n",
    "category = []\n",
    "directory = \"D:\\EXCELR\\Resume Classification NLP project\\Resumes\"\n",
    "for i in os.listdir(directory):\n",
    "    if i.endswith('.docx') or i.endswith('.doc') or i.endswith('.pdf'):\n",
    "        os.path.join(directory, i)\n",
    "        file_path.append((textract.process(os.path.join(directory, i))).decode('utf-8'))\n",
    "        category.append('React JS Developer Resume')"
   ]
  },
  {
   "cell_type": "code",
   "execution_count": null,
   "id": "1779844e",
   "metadata": {},
   "outputs": [],
   "source": []
  }
 ],
 "metadata": {
  "kernelspec": {
   "display_name": "Python 3 (ipykernel)",
   "language": "python",
   "name": "python3"
  },
  "language_info": {
   "codemirror_mode": {
    "name": "ipython",
    "version": 3
   },
   "file_extension": ".py",
   "mimetype": "text/x-python",
   "name": "python",
   "nbconvert_exporter": "python",
   "pygments_lexer": "ipython3",
   "version": "3.9.12"
  }
 },
 "nbformat": 4,
 "nbformat_minor": 5
}
